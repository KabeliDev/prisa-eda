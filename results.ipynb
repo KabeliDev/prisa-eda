{
 "cells": [
  {
   "cell_type": "code",
   "id": "initial_id",
   "metadata": {
    "collapsed": true,
    "ExecuteTime": {
     "end_time": "2025-07-23T15:19:54.760296Z",
     "start_time": "2025-07-23T15:19:54.715843Z"
    }
   },
   "source": [
    "import importlib\n",
    "import utils\n",
    "import visualization\n",
    "\n",
    "importlib.reload(utils)\n",
    "importlib.reload(visualization)\n",
    "%reload_ext autoreload\n",
    "%autoreload 2\n",
    "from utils import *\n",
    "from visualization import visualize, graficar_distribucion_productos\n",
    "\n",
    "pd.set_option('display.max_colwidth', None)\n"
   ],
   "outputs": [],
   "execution_count": 43
  },
  {
   "metadata": {
    "ExecuteTime": {
     "end_time": "2025-07-23T15:19:55.164219Z",
     "start_time": "2025-07-23T15:19:54.936645Z"
    }
   },
   "cell_type": "code",
   "source": [
    "excel_path = \"/home/viktoria/Downloads/ARBOLES ALIMENTOS EJERCICIO KABELLI.xlsx\"\n",
    "# all data\n",
    "df_all = load_all_sheets(excel_path)\n",
    "print(\"Number os samples in the dataset:\", df_all.shape[0])"
   ],
   "id": "db5261d3a1137306",
   "outputs": [
    {
     "name": "stdout",
     "output_type": "stream",
     "text": [
      "Number os samples in the dataset: 2381\n"
     ]
    }
   ],
   "execution_count": 44
  },
  {
   "metadata": {
    "ExecuteTime": {
     "end_time": "2025-07-23T15:48:15.765159Z",
     "start_time": "2025-07-23T15:48:15.737983Z"
    }
   },
   "cell_type": "code",
   "source": [
    "total_count_products = (\n",
    "    df_all.groupby('Sheet')\n",
    "    .size()\n",
    "    .reset_index(name='Product Count')\n",
    ")\n",
    "total_count_products"
   ],
   "id": "181bc4d72d1624ce",
   "outputs": [
    {
     "data": {
      "text/plain": [
       "                     Sheet  Product Count\n",
       "0        PRISA Arbol_24_25            587\n",
       "1     Prilogic Arbol_24_25            265\n",
       "2     Prinorte Arbol_24_25            183\n",
       "3       Prisur Arbol_24_25            602\n",
       "4  Surtiventas Arbol_24_25            744"
      ],
      "text/html": [
       "<div>\n",
       "<style scoped>\n",
       "    .dataframe tbody tr th:only-of-type {\n",
       "        vertical-align: middle;\n",
       "    }\n",
       "\n",
       "    .dataframe tbody tr th {\n",
       "        vertical-align: top;\n",
       "    }\n",
       "\n",
       "    .dataframe thead th {\n",
       "        text-align: right;\n",
       "    }\n",
       "</style>\n",
       "<table border=\"1\" class=\"dataframe\">\n",
       "  <thead>\n",
       "    <tr style=\"text-align: right;\">\n",
       "      <th></th>\n",
       "      <th>Sheet</th>\n",
       "      <th>Product Count</th>\n",
       "    </tr>\n",
       "  </thead>\n",
       "  <tbody>\n",
       "    <tr>\n",
       "      <th>0</th>\n",
       "      <td>PRISA Arbol_24_25</td>\n",
       "      <td>587</td>\n",
       "    </tr>\n",
       "    <tr>\n",
       "      <th>1</th>\n",
       "      <td>Prilogic Arbol_24_25</td>\n",
       "      <td>265</td>\n",
       "    </tr>\n",
       "    <tr>\n",
       "      <th>2</th>\n",
       "      <td>Prinorte Arbol_24_25</td>\n",
       "      <td>183</td>\n",
       "    </tr>\n",
       "    <tr>\n",
       "      <th>3</th>\n",
       "      <td>Prisur Arbol_24_25</td>\n",
       "      <td>602</td>\n",
       "    </tr>\n",
       "    <tr>\n",
       "      <th>4</th>\n",
       "      <td>Surtiventas Arbol_24_25</td>\n",
       "      <td>744</td>\n",
       "    </tr>\n",
       "  </tbody>\n",
       "</table>\n",
       "</div>"
      ]
     },
     "execution_count": 124,
     "metadata": {},
     "output_type": "execute_result"
    }
   ],
   "execution_count": 124
  },
  {
   "metadata": {
    "ExecuteTime": {
     "end_time": "2025-07-23T16:30:04.933504Z",
     "start_time": "2025-07-23T16:30:04.863828Z"
    }
   },
   "cell_type": "code",
   "source": [
    "\n",
    "\n",
    "def find_internal_duplicates(df):\n",
    "    \"\"\"\n",
    "    Finds products from the same subempresa with the same SKU.\n",
    "    \"\"\"\n",
    "    duplicates = (\n",
    "        df.groupby(['Sheet', 'SKU', 'Nombre SKU'])\n",
    "        .filter(lambda x: len(x) > 1)\n",
    "        .sort_values(['Sheet', 'SKU'])\n",
    "    )\n",
    "    return duplicates.reset_index(drop=True)"
   ],
   "id": "782aa947d5ba2eb3",
   "outputs": [],
   "execution_count": 146
  },
  {
   "metadata": {
    "ExecuteTime": {
     "end_time": "2025-07-23T15:19:55.368577Z",
     "start_time": "2025-07-23T15:19:55.341836Z"
    }
   },
   "cell_type": "code",
   "source": "# Duplicados - los productos con el mismo SKU dentro de una subempresa",
   "id": "16f05d42939c499",
   "outputs": [],
   "execution_count": 46
  },
  {
   "metadata": {
    "ExecuteTime": {
     "end_time": "2025-07-23T16:30:07.919793Z",
     "start_time": "2025-07-23T16:30:07.849295Z"
    }
   },
   "cell_type": "code",
   "source": [
    "duplicates = find_internal_duplicates(df_all)\n",
    "print(f\"Number of duplicates: {duplicates.shape[0]}\")"
   ],
   "id": "ea740304d9292d67",
   "outputs": [
    {
     "name": "stdout",
     "output_type": "stream",
     "text": [
      "Number of duplicates: 58\n"
     ]
    }
   ],
   "execution_count": 147
  },
  {
   "metadata": {
    "ExecuteTime": {
     "end_time": "2025-07-23T16:30:09.478728Z",
     "start_time": "2025-07-23T16:30:09.425701Z"
    }
   },
   "cell_type": "code",
   "source": [
    "duplicates.head(30)\n",
    "# solo con nombres iguales\n",
    "# no contar dos veces el mismo producto"
   ],
   "id": "f7b20482bf28d460",
   "outputs": [
    {
     "data": {
      "text/plain": [
       "                                                 Marca  \\\n",
       "0                         GALLETA COSTA TUAREG 120 GR.   \n",
       "1                         GALLETA COSTA TUAREG 120 GR.   \n",
       "2                 ACEITE COCINA  1 LT. MARAVILLA CHEF.   \n",
       "3                 ACEITE COCINA  1 LT. MARAVILLA CHEF.   \n",
       "4   GALLETA ARCOR BOCADITOS 300 GR DULCE/MEMBR HOLANDA   \n",
       "5   GALLETA ARCOR BOCADITOS 300 GR DULCE/MEMBR HOLANDA   \n",
       "6                   GALLETA DOS EN UNO SURTIDAS 400 GR   \n",
       "7                   GALLETA DOS EN UNO SURTIDAS 400 GR   \n",
       "8              AGUA MINERAL   500 CC BENEDICTINO S/GAS   \n",
       "9              AGUA MINERAL   500 CC BENEDICTINO S/GAS   \n",
       "10               GALLETA COSTA GRETEL CHOCOLATE 85 GR.   \n",
       "11               GALLETA COSTA GRETEL CHOCOLATE 85 GR.   \n",
       "12                GALLETA COSTA GRETEL FRUTILLA 85 GR.   \n",
       "13                GALLETA COSTA GRETEL FRUTILLA 85 GR.   \n",
       "14                     GALLETA COSTA CHOCOLATE 140 GRS   \n",
       "15                     GALLETA COSTA CHOCOLATE 140 GRS   \n",
       "16                GALLETA MCKAY SODA FAMILIAR 180 GRS.   \n",
       "17                GALLETA MCKAY SODA FAMILIAR 180 GRS.   \n",
       "18                   JUGO NATURAL 1.5 LT WATTS DURAZNO   \n",
       "19                   JUGO NATURAL 1.5 LT WATTS NARANJA   \n",
       "20                   JUGO NATURAL 1.5 LT WATTS DAMASCO   \n",
       "21                   JUGO NATURAL 1.5 LT WATTS DAMASCO   \n",
       "22                   JUGO NATURAL 1.5 LT WATTS DURAZNO   \n",
       "23                   JUGO NATURAL 1.5 LT WATTS NARANJA   \n",
       "24               AGUA MINERAL   500 CC CACHANTUN C/GAS   \n",
       "25               AGUA MINERAL   500 CC CACHANTUN C/GAS   \n",
       "26                   AGUA MINERAL   600 CC VITAL S/GAS   \n",
       "27                   AGUA MINERAL   600 CC VITAL S/GAS   \n",
       "28                         BEBIDA LATA 350CC COCA-COLA   \n",
       "29                         BEBIDA LATA 350CC COCA-COLA   \n",
       "\n",
       "                                            Nombre SKU    SKU  \\\n",
       "0                         GALLETA COSTA TUAREG 120 GR.  10243   \n",
       "1                         GALLETA COSTA TUAREG 120 GR.  10243   \n",
       "2                 ACEITE COCINA  1 LT. MARAVILLA CHEF.  12599   \n",
       "3                 ACEITE COCINA  1 LT. MARAVILLA CHEF.  12599   \n",
       "4   GALLETA ARCOR BOCADITOS 300 GR DULCE/MEMBR HOLANDA  14266   \n",
       "5   GALLETA ARCOR BOCADITOS 300 GR DULCE/MEMBR HOLANDA  14266   \n",
       "6                   GALLETA DOS EN UNO SURTIDAS 400 GR  14268   \n",
       "7                   GALLETA DOS EN UNO SURTIDAS 400 GR  14268   \n",
       "8              AGUA MINERAL   500 CC BENEDICTINO S/GAS  16817   \n",
       "9              AGUA MINERAL   500 CC BENEDICTINO S/GAS  16817   \n",
       "10               GALLETA COSTA GRETEL CHOCOLATE 85 GR.  19618   \n",
       "11               GALLETA COSTA GRETEL CHOCOLATE 85 GR.  19618   \n",
       "12                GALLETA COSTA GRETEL FRUTILLA 85 GR.  19618   \n",
       "13                GALLETA COSTA GRETEL FRUTILLA 85 GR.  19618   \n",
       "14                     GALLETA COSTA CHOCOLATE 140 GRS  52513   \n",
       "15                     GALLETA COSTA CHOCOLATE 140 GRS  52513   \n",
       "16                GALLETA MCKAY SODA FAMILIAR 180 GRS.  80671   \n",
       "17                GALLETA MCKAY SODA FAMILIAR 180 GRS.  80671   \n",
       "18                   JUGO NATURAL 1.5 LT WATTS DURAZNO  82022   \n",
       "19                   JUGO NATURAL 1.5 LT WATTS NARANJA  82022   \n",
       "20                   JUGO NATURAL 1.5 LT WATTS DAMASCO  82022   \n",
       "21                   JUGO NATURAL 1.5 LT WATTS DAMASCO  82022   \n",
       "22                   JUGO NATURAL 1.5 LT WATTS DURAZNO  82022   \n",
       "23                   JUGO NATURAL 1.5 LT WATTS NARANJA  82022   \n",
       "24               AGUA MINERAL   500 CC CACHANTUN C/GAS  82036   \n",
       "25               AGUA MINERAL   500 CC CACHANTUN C/GAS  82036   \n",
       "26                   AGUA MINERAL   600 CC VITAL S/GAS  82041   \n",
       "27                   AGUA MINERAL   600 CC VITAL S/GAS  82041   \n",
       "28                         BEBIDA LATA 350CC COCA-COLA  82046   \n",
       "29                         BEBIDA LATA 350CC COCA-COLA  82046   \n",
       "\n",
       "                   Sheet  \n",
       "0   Prilogic Arbol_24_25  \n",
       "1   Prilogic Arbol_24_25  \n",
       "2   Prilogic Arbol_24_25  \n",
       "3   Prilogic Arbol_24_25  \n",
       "4   Prilogic Arbol_24_25  \n",
       "5   Prilogic Arbol_24_25  \n",
       "6   Prilogic Arbol_24_25  \n",
       "7   Prilogic Arbol_24_25  \n",
       "8   Prilogic Arbol_24_25  \n",
       "9   Prilogic Arbol_24_25  \n",
       "10  Prilogic Arbol_24_25  \n",
       "11  Prilogic Arbol_24_25  \n",
       "12  Prilogic Arbol_24_25  \n",
       "13  Prilogic Arbol_24_25  \n",
       "14  Prilogic Arbol_24_25  \n",
       "15  Prilogic Arbol_24_25  \n",
       "16  Prilogic Arbol_24_25  \n",
       "17  Prilogic Arbol_24_25  \n",
       "18  Prilogic Arbol_24_25  \n",
       "19  Prilogic Arbol_24_25  \n",
       "20  Prilogic Arbol_24_25  \n",
       "21  Prilogic Arbol_24_25  \n",
       "22  Prilogic Arbol_24_25  \n",
       "23  Prilogic Arbol_24_25  \n",
       "24  Prilogic Arbol_24_25  \n",
       "25  Prilogic Arbol_24_25  \n",
       "26  Prilogic Arbol_24_25  \n",
       "27  Prilogic Arbol_24_25  \n",
       "28  Prilogic Arbol_24_25  \n",
       "29  Prilogic Arbol_24_25  "
      ],
      "text/html": [
       "<div>\n",
       "<style scoped>\n",
       "    .dataframe tbody tr th:only-of-type {\n",
       "        vertical-align: middle;\n",
       "    }\n",
       "\n",
       "    .dataframe tbody tr th {\n",
       "        vertical-align: top;\n",
       "    }\n",
       "\n",
       "    .dataframe thead th {\n",
       "        text-align: right;\n",
       "    }\n",
       "</style>\n",
       "<table border=\"1\" class=\"dataframe\">\n",
       "  <thead>\n",
       "    <tr style=\"text-align: right;\">\n",
       "      <th></th>\n",
       "      <th>Marca</th>\n",
       "      <th>Nombre SKU</th>\n",
       "      <th>SKU</th>\n",
       "      <th>Sheet</th>\n",
       "    </tr>\n",
       "  </thead>\n",
       "  <tbody>\n",
       "    <tr>\n",
       "      <th>0</th>\n",
       "      <td>GALLETA COSTA TUAREG 120 GR.</td>\n",
       "      <td>GALLETA COSTA TUAREG 120 GR.</td>\n",
       "      <td>10243</td>\n",
       "      <td>Prilogic Arbol_24_25</td>\n",
       "    </tr>\n",
       "    <tr>\n",
       "      <th>1</th>\n",
       "      <td>GALLETA COSTA TUAREG 120 GR.</td>\n",
       "      <td>GALLETA COSTA TUAREG 120 GR.</td>\n",
       "      <td>10243</td>\n",
       "      <td>Prilogic Arbol_24_25</td>\n",
       "    </tr>\n",
       "    <tr>\n",
       "      <th>2</th>\n",
       "      <td>ACEITE COCINA  1 LT. MARAVILLA CHEF.</td>\n",
       "      <td>ACEITE COCINA  1 LT. MARAVILLA CHEF.</td>\n",
       "      <td>12599</td>\n",
       "      <td>Prilogic Arbol_24_25</td>\n",
       "    </tr>\n",
       "    <tr>\n",
       "      <th>3</th>\n",
       "      <td>ACEITE COCINA  1 LT. MARAVILLA CHEF.</td>\n",
       "      <td>ACEITE COCINA  1 LT. MARAVILLA CHEF.</td>\n",
       "      <td>12599</td>\n",
       "      <td>Prilogic Arbol_24_25</td>\n",
       "    </tr>\n",
       "    <tr>\n",
       "      <th>4</th>\n",
       "      <td>GALLETA ARCOR BOCADITOS 300 GR DULCE/MEMBR HOLANDA</td>\n",
       "      <td>GALLETA ARCOR BOCADITOS 300 GR DULCE/MEMBR HOLANDA</td>\n",
       "      <td>14266</td>\n",
       "      <td>Prilogic Arbol_24_25</td>\n",
       "    </tr>\n",
       "    <tr>\n",
       "      <th>5</th>\n",
       "      <td>GALLETA ARCOR BOCADITOS 300 GR DULCE/MEMBR HOLANDA</td>\n",
       "      <td>GALLETA ARCOR BOCADITOS 300 GR DULCE/MEMBR HOLANDA</td>\n",
       "      <td>14266</td>\n",
       "      <td>Prilogic Arbol_24_25</td>\n",
       "    </tr>\n",
       "    <tr>\n",
       "      <th>6</th>\n",
       "      <td>GALLETA DOS EN UNO SURTIDAS 400 GR</td>\n",
       "      <td>GALLETA DOS EN UNO SURTIDAS 400 GR</td>\n",
       "      <td>14268</td>\n",
       "      <td>Prilogic Arbol_24_25</td>\n",
       "    </tr>\n",
       "    <tr>\n",
       "      <th>7</th>\n",
       "      <td>GALLETA DOS EN UNO SURTIDAS 400 GR</td>\n",
       "      <td>GALLETA DOS EN UNO SURTIDAS 400 GR</td>\n",
       "      <td>14268</td>\n",
       "      <td>Prilogic Arbol_24_25</td>\n",
       "    </tr>\n",
       "    <tr>\n",
       "      <th>8</th>\n",
       "      <td>AGUA MINERAL   500 CC BENEDICTINO S/GAS</td>\n",
       "      <td>AGUA MINERAL   500 CC BENEDICTINO S/GAS</td>\n",
       "      <td>16817</td>\n",
       "      <td>Prilogic Arbol_24_25</td>\n",
       "    </tr>\n",
       "    <tr>\n",
       "      <th>9</th>\n",
       "      <td>AGUA MINERAL   500 CC BENEDICTINO S/GAS</td>\n",
       "      <td>AGUA MINERAL   500 CC BENEDICTINO S/GAS</td>\n",
       "      <td>16817</td>\n",
       "      <td>Prilogic Arbol_24_25</td>\n",
       "    </tr>\n",
       "    <tr>\n",
       "      <th>10</th>\n",
       "      <td>GALLETA COSTA GRETEL CHOCOLATE 85 GR.</td>\n",
       "      <td>GALLETA COSTA GRETEL CHOCOLATE 85 GR.</td>\n",
       "      <td>19618</td>\n",
       "      <td>Prilogic Arbol_24_25</td>\n",
       "    </tr>\n",
       "    <tr>\n",
       "      <th>11</th>\n",
       "      <td>GALLETA COSTA GRETEL CHOCOLATE 85 GR.</td>\n",
       "      <td>GALLETA COSTA GRETEL CHOCOLATE 85 GR.</td>\n",
       "      <td>19618</td>\n",
       "      <td>Prilogic Arbol_24_25</td>\n",
       "    </tr>\n",
       "    <tr>\n",
       "      <th>12</th>\n",
       "      <td>GALLETA COSTA GRETEL FRUTILLA 85 GR.</td>\n",
       "      <td>GALLETA COSTA GRETEL FRUTILLA 85 GR.</td>\n",
       "      <td>19618</td>\n",
       "      <td>Prilogic Arbol_24_25</td>\n",
       "    </tr>\n",
       "    <tr>\n",
       "      <th>13</th>\n",
       "      <td>GALLETA COSTA GRETEL FRUTILLA 85 GR.</td>\n",
       "      <td>GALLETA COSTA GRETEL FRUTILLA 85 GR.</td>\n",
       "      <td>19618</td>\n",
       "      <td>Prilogic Arbol_24_25</td>\n",
       "    </tr>\n",
       "    <tr>\n",
       "      <th>14</th>\n",
       "      <td>GALLETA COSTA CHOCOLATE 140 GRS</td>\n",
       "      <td>GALLETA COSTA CHOCOLATE 140 GRS</td>\n",
       "      <td>52513</td>\n",
       "      <td>Prilogic Arbol_24_25</td>\n",
       "    </tr>\n",
       "    <tr>\n",
       "      <th>15</th>\n",
       "      <td>GALLETA COSTA CHOCOLATE 140 GRS</td>\n",
       "      <td>GALLETA COSTA CHOCOLATE 140 GRS</td>\n",
       "      <td>52513</td>\n",
       "      <td>Prilogic Arbol_24_25</td>\n",
       "    </tr>\n",
       "    <tr>\n",
       "      <th>16</th>\n",
       "      <td>GALLETA MCKAY SODA FAMILIAR 180 GRS.</td>\n",
       "      <td>GALLETA MCKAY SODA FAMILIAR 180 GRS.</td>\n",
       "      <td>80671</td>\n",
       "      <td>Prilogic Arbol_24_25</td>\n",
       "    </tr>\n",
       "    <tr>\n",
       "      <th>17</th>\n",
       "      <td>GALLETA MCKAY SODA FAMILIAR 180 GRS.</td>\n",
       "      <td>GALLETA MCKAY SODA FAMILIAR 180 GRS.</td>\n",
       "      <td>80671</td>\n",
       "      <td>Prilogic Arbol_24_25</td>\n",
       "    </tr>\n",
       "    <tr>\n",
       "      <th>18</th>\n",
       "      <td>JUGO NATURAL 1.5 LT WATTS DURAZNO</td>\n",
       "      <td>JUGO NATURAL 1.5 LT WATTS DURAZNO</td>\n",
       "      <td>82022</td>\n",
       "      <td>Prilogic Arbol_24_25</td>\n",
       "    </tr>\n",
       "    <tr>\n",
       "      <th>19</th>\n",
       "      <td>JUGO NATURAL 1.5 LT WATTS NARANJA</td>\n",
       "      <td>JUGO NATURAL 1.5 LT WATTS NARANJA</td>\n",
       "      <td>82022</td>\n",
       "      <td>Prilogic Arbol_24_25</td>\n",
       "    </tr>\n",
       "    <tr>\n",
       "      <th>20</th>\n",
       "      <td>JUGO NATURAL 1.5 LT WATTS DAMASCO</td>\n",
       "      <td>JUGO NATURAL 1.5 LT WATTS DAMASCO</td>\n",
       "      <td>82022</td>\n",
       "      <td>Prilogic Arbol_24_25</td>\n",
       "    </tr>\n",
       "    <tr>\n",
       "      <th>21</th>\n",
       "      <td>JUGO NATURAL 1.5 LT WATTS DAMASCO</td>\n",
       "      <td>JUGO NATURAL 1.5 LT WATTS DAMASCO</td>\n",
       "      <td>82022</td>\n",
       "      <td>Prilogic Arbol_24_25</td>\n",
       "    </tr>\n",
       "    <tr>\n",
       "      <th>22</th>\n",
       "      <td>JUGO NATURAL 1.5 LT WATTS DURAZNO</td>\n",
       "      <td>JUGO NATURAL 1.5 LT WATTS DURAZNO</td>\n",
       "      <td>82022</td>\n",
       "      <td>Prilogic Arbol_24_25</td>\n",
       "    </tr>\n",
       "    <tr>\n",
       "      <th>23</th>\n",
       "      <td>JUGO NATURAL 1.5 LT WATTS NARANJA</td>\n",
       "      <td>JUGO NATURAL 1.5 LT WATTS NARANJA</td>\n",
       "      <td>82022</td>\n",
       "      <td>Prilogic Arbol_24_25</td>\n",
       "    </tr>\n",
       "    <tr>\n",
       "      <th>24</th>\n",
       "      <td>AGUA MINERAL   500 CC CACHANTUN C/GAS</td>\n",
       "      <td>AGUA MINERAL   500 CC CACHANTUN C/GAS</td>\n",
       "      <td>82036</td>\n",
       "      <td>Prilogic Arbol_24_25</td>\n",
       "    </tr>\n",
       "    <tr>\n",
       "      <th>25</th>\n",
       "      <td>AGUA MINERAL   500 CC CACHANTUN C/GAS</td>\n",
       "      <td>AGUA MINERAL   500 CC CACHANTUN C/GAS</td>\n",
       "      <td>82036</td>\n",
       "      <td>Prilogic Arbol_24_25</td>\n",
       "    </tr>\n",
       "    <tr>\n",
       "      <th>26</th>\n",
       "      <td>AGUA MINERAL   600 CC VITAL S/GAS</td>\n",
       "      <td>AGUA MINERAL   600 CC VITAL S/GAS</td>\n",
       "      <td>82041</td>\n",
       "      <td>Prilogic Arbol_24_25</td>\n",
       "    </tr>\n",
       "    <tr>\n",
       "      <th>27</th>\n",
       "      <td>AGUA MINERAL   600 CC VITAL S/GAS</td>\n",
       "      <td>AGUA MINERAL   600 CC VITAL S/GAS</td>\n",
       "      <td>82041</td>\n",
       "      <td>Prilogic Arbol_24_25</td>\n",
       "    </tr>\n",
       "    <tr>\n",
       "      <th>28</th>\n",
       "      <td>BEBIDA LATA 350CC COCA-COLA</td>\n",
       "      <td>BEBIDA LATA 350CC COCA-COLA</td>\n",
       "      <td>82046</td>\n",
       "      <td>Prilogic Arbol_24_25</td>\n",
       "    </tr>\n",
       "    <tr>\n",
       "      <th>29</th>\n",
       "      <td>BEBIDA LATA 350CC COCA-COLA</td>\n",
       "      <td>BEBIDA LATA 350CC COCA-COLA</td>\n",
       "      <td>82046</td>\n",
       "      <td>Prilogic Arbol_24_25</td>\n",
       "    </tr>\n",
       "  </tbody>\n",
       "</table>\n",
       "</div>"
      ]
     },
     "execution_count": 148,
     "metadata": {},
     "output_type": "execute_result"
    }
   ],
   "execution_count": 148
  },
  {
   "metadata": {
    "ExecuteTime": {
     "end_time": "2025-07-23T15:19:55.862701Z",
     "start_time": "2025-07-23T15:19:55.841442Z"
    }
   },
   "cell_type": "code",
   "source": [
    "unique_sheets = duplicates['Sheet'].unique()\n",
    "unique_sheets = [sheet for sheet in unique_sheets if sheet != \"Prilogic Arbol_24_25\"]\n",
    "\n",
    "duplicates_counts = {}\n",
    "\n",
    "for sheet in unique_sheets:\n",
    "    sub_df = duplicates[duplicates['Sheet'] == sheet]\n",
    "    duplicates_counts[sheet] = sub_df.shape[0]\n",
    "\n",
    "print(duplicates_counts)"
   ],
   "id": "275b14a4151d4ea0",
   "outputs": [
    {
     "name": "stdout",
     "output_type": "stream",
     "text": [
      "{'PRISA Arbol_24_25': 128, 'Prinorte Arbol_24_25': 39, 'Prisur Arbol_24_25': 93, 'Surtiventas Arbol_24_25': 99}\n"
     ]
    }
   ],
   "execution_count": 49
  },
  {
   "metadata": {},
   "cell_type": "markdown",
   "source": "### Busqueda de los productos iguales que tienen SKU iguales en las diferentes subempresas",
   "id": "4cf93a3a06cb74af"
  },
  {
   "metadata": {
    "ExecuteTime": {
     "end_time": "2025-07-23T15:19:58.497673Z",
     "start_time": "2025-07-23T15:19:56.234919Z"
    }
   },
   "cell_type": "code",
   "source": [
    "data = load_all_sheets(excel_path)\n",
    "\n",
    "correct_products = find_similar_products(data, 88, different_sku=False)\n",
    "correct_products = correct_products.copy()\n",
    "correct_products = remove_flavor_variants(correct_products)\n",
    "columns_to_show = [col for col in correct_products.columns if col not in ['Numbers 1', 'Numbers 2']]\n",
    "correct_products = correct_products.loc[:, columns_to_show]\n",
    "exact_matches = correct_products[correct_products['Similarity'] == 100]\n",
    "partial_matches = correct_products[correct_products['Similarity'] < 100]"
   ],
   "id": "4322a1f6fbf34a12",
   "outputs": [],
   "execution_count": 50
  },
  {
   "metadata": {
    "ExecuteTime": {
     "end_time": "2025-07-23T15:19:58.583492Z",
     "start_time": "2025-07-23T15:19:58.554079Z"
    }
   },
   "cell_type": "code",
   "source": [
    "# Los productos que tienen nombres iguales y SKU iguales\n",
    "same_name_same_sku = exact_matches.shape[0]\n",
    "print(same_name_same_sku)"
   ],
   "id": "dfa3f4435a371c46",
   "outputs": [
    {
     "name": "stdout",
     "output_type": "stream",
     "text": [
      "234\n"
     ]
    }
   ],
   "execution_count": 51
  },
  {
   "metadata": {
    "ExecuteTime": {
     "end_time": "2025-07-23T15:19:58.670434Z",
     "start_time": "2025-07-23T15:19:58.637805Z"
    }
   },
   "cell_type": "code",
   "source": "exact_matches.head(5)",
   "id": "57d0c7e0fe9a6907",
   "outputs": [
    {
     "data": {
      "text/plain": [
       "     Marca                                       Nombre SKU 1  SKU 1  \\\n",
       "0  DUL-SUC       ENDULZANTE DUL-SUC CON STEVIA LIQUIDO 270 ML  88250   \n",
       "1     ONZA  ENDULZANTE ONZA 0.5 GR SUCRALOSA X 1000 SAC.PRISA  28005   \n",
       "2   WATTÏS                 MERMELADA 225 CC WATTS SACHET MORA  19266   \n",
       "3  COLISEO                              AZUCAR   1 KG COLISEO  22960   \n",
       "4  ALIANZA                PASTA FIDEO 450 GR TALLARIN ALIANZA  91538   \n",
       "\n",
       "                   Sheet 1                                       Nombre SKU 2  \\\n",
       "0     Prinorte Arbol_24_25       ENDULZANTE DUL-SUC CON STEVIA LIQUIDO 270 ML   \n",
       "1        PRISA Arbol_24_25  ENDULZANTE ONZA 0.5 GR SUCRALOSA X 1000 SAC.PRISA   \n",
       "2     Prinorte Arbol_24_25                 MERMELADA 225 CC WATTS SACHET MORA   \n",
       "3  Surtiventas Arbol_24_25                               AZUCAR 1 KG. COLISEO   \n",
       "4     Prinorte Arbol_24_25                PASTA FIDEO 450 GR TALLARIN ALIANZA   \n",
       "\n",
       "   SKU 2               Sheet 2  Similarity  \n",
       "0  88250    Prisur Arbol_24_25         100  \n",
       "1  28005  Prinorte Arbol_24_25         100  \n",
       "2  19266    Prisur Arbol_24_25         100  \n",
       "3  22960  Prinorte Arbol_24_25         100  \n",
       "4  91538    Prisur Arbol_24_25         100  "
      ],
      "text/html": [
       "<div>\n",
       "<style scoped>\n",
       "    .dataframe tbody tr th:only-of-type {\n",
       "        vertical-align: middle;\n",
       "    }\n",
       "\n",
       "    .dataframe tbody tr th {\n",
       "        vertical-align: top;\n",
       "    }\n",
       "\n",
       "    .dataframe thead th {\n",
       "        text-align: right;\n",
       "    }\n",
       "</style>\n",
       "<table border=\"1\" class=\"dataframe\">\n",
       "  <thead>\n",
       "    <tr style=\"text-align: right;\">\n",
       "      <th></th>\n",
       "      <th>Marca</th>\n",
       "      <th>Nombre SKU 1</th>\n",
       "      <th>SKU 1</th>\n",
       "      <th>Sheet 1</th>\n",
       "      <th>Nombre SKU 2</th>\n",
       "      <th>SKU 2</th>\n",
       "      <th>Sheet 2</th>\n",
       "      <th>Similarity</th>\n",
       "    </tr>\n",
       "  </thead>\n",
       "  <tbody>\n",
       "    <tr>\n",
       "      <th>0</th>\n",
       "      <td>DUL-SUC</td>\n",
       "      <td>ENDULZANTE DUL-SUC CON STEVIA LIQUIDO 270 ML</td>\n",
       "      <td>88250</td>\n",
       "      <td>Prinorte Arbol_24_25</td>\n",
       "      <td>ENDULZANTE DUL-SUC CON STEVIA LIQUIDO 270 ML</td>\n",
       "      <td>88250</td>\n",
       "      <td>Prisur Arbol_24_25</td>\n",
       "      <td>100</td>\n",
       "    </tr>\n",
       "    <tr>\n",
       "      <th>1</th>\n",
       "      <td>ONZA</td>\n",
       "      <td>ENDULZANTE ONZA 0.5 GR SUCRALOSA X 1000 SAC.PRISA</td>\n",
       "      <td>28005</td>\n",
       "      <td>PRISA Arbol_24_25</td>\n",
       "      <td>ENDULZANTE ONZA 0.5 GR SUCRALOSA X 1000 SAC.PRISA</td>\n",
       "      <td>28005</td>\n",
       "      <td>Prinorte Arbol_24_25</td>\n",
       "      <td>100</td>\n",
       "    </tr>\n",
       "    <tr>\n",
       "      <th>2</th>\n",
       "      <td>WATTÏS</td>\n",
       "      <td>MERMELADA 225 CC WATTS SACHET MORA</td>\n",
       "      <td>19266</td>\n",
       "      <td>Prinorte Arbol_24_25</td>\n",
       "      <td>MERMELADA 225 CC WATTS SACHET MORA</td>\n",
       "      <td>19266</td>\n",
       "      <td>Prisur Arbol_24_25</td>\n",
       "      <td>100</td>\n",
       "    </tr>\n",
       "    <tr>\n",
       "      <th>3</th>\n",
       "      <td>COLISEO</td>\n",
       "      <td>AZUCAR   1 KG COLISEO</td>\n",
       "      <td>22960</td>\n",
       "      <td>Surtiventas Arbol_24_25</td>\n",
       "      <td>AZUCAR 1 KG. COLISEO</td>\n",
       "      <td>22960</td>\n",
       "      <td>Prinorte Arbol_24_25</td>\n",
       "      <td>100</td>\n",
       "    </tr>\n",
       "    <tr>\n",
       "      <th>4</th>\n",
       "      <td>ALIANZA</td>\n",
       "      <td>PASTA FIDEO 450 GR TALLARIN ALIANZA</td>\n",
       "      <td>91538</td>\n",
       "      <td>Prinorte Arbol_24_25</td>\n",
       "      <td>PASTA FIDEO 450 GR TALLARIN ALIANZA</td>\n",
       "      <td>91538</td>\n",
       "      <td>Prisur Arbol_24_25</td>\n",
       "      <td>100</td>\n",
       "    </tr>\n",
       "  </tbody>\n",
       "</table>\n",
       "</div>"
      ]
     },
     "execution_count": 52,
     "metadata": {},
     "output_type": "execute_result"
    }
   ],
   "execution_count": 52
  },
  {
   "metadata": {
    "ExecuteTime": {
     "end_time": "2025-07-23T15:19:58.713063Z",
     "start_time": "2025-07-23T15:19:58.692270Z"
    }
   },
   "cell_type": "code",
   "source": [
    "# Los productos que tienen nombres parecidos pero no iguales, SKU son iguales\n",
    "similar_name_same_sku = partial_matches.shape[0]\n",
    "print(similar_name_same_sku)"
   ],
   "id": "a3319661b769ba9f",
   "outputs": [
    {
     "name": "stdout",
     "output_type": "stream",
     "text": [
      "179\n"
     ]
    }
   ],
   "execution_count": 53
  },
  {
   "metadata": {
    "ExecuteTime": {
     "end_time": "2025-07-23T15:19:58.770310Z",
     "start_time": "2025-07-23T15:19:58.743180Z"
    }
   },
   "cell_type": "code",
   "source": "partial_matches.head(5)",
   "id": "ab3f258ef6891f9d",
   "outputs": [
    {
     "data": {
      "text/plain": [
       "       Marca                                  Nombre SKU 1  SKU 1  \\\n",
       "234  GOURMET       ESCENCIA DE PAN DE PASCUA 60 CC GOURMET  41077   \n",
       "235  GOURMET           ESCENCIA DE VAINILLA 100 CC GOURMET  41078   \n",
       "236  GOURMET      BASE P/HAMBURGUESA 90 GR X 15 UN GOURMET  41043   \n",
       "237  GOURMET  CONDIMENTO BICARBONATO 30 GR X 50 UN GOURMET  41021   \n",
       "238  GOURMET       BASE POLLO CRISPY 80 GR X 12 UN GOURMET  41042   \n",
       "\n",
       "                     Sheet 1                                   Nombre SKU 2  \\\n",
       "234  Surtiventas Arbol_24_25         ESENCIA DE PAN DE PASCUA 60 CC GOURMET   \n",
       "235  Surtiventas Arbol_24_25             ESENCIA DE VAINILLA 100 CC GOURMET   \n",
       "236  Surtiventas Arbol_24_25      BASE P/HAMBURGUESA 90 GR X 15 UND GOURMET   \n",
       "237  Surtiventas Arbol_24_25  CONDIMENTO BICARBONATO 30 GR X 50 UND GOURMET   \n",
       "238  Surtiventas Arbol_24_25       BASE POLLO CRISPY 80 GR X 12 UND GOURMET   \n",
       "\n",
       "     SKU 2             Sheet 2  Similarity  \n",
       "234  41077  Prisur Arbol_24_25          99  \n",
       "235  41078  Prisur Arbol_24_25          99  \n",
       "236  41043  Prisur Arbol_24_25          99  \n",
       "237  41021  Prisur Arbol_24_25          99  \n",
       "238  41042  Prisur Arbol_24_25          99  "
      ],
      "text/html": [
       "<div>\n",
       "<style scoped>\n",
       "    .dataframe tbody tr th:only-of-type {\n",
       "        vertical-align: middle;\n",
       "    }\n",
       "\n",
       "    .dataframe tbody tr th {\n",
       "        vertical-align: top;\n",
       "    }\n",
       "\n",
       "    .dataframe thead th {\n",
       "        text-align: right;\n",
       "    }\n",
       "</style>\n",
       "<table border=\"1\" class=\"dataframe\">\n",
       "  <thead>\n",
       "    <tr style=\"text-align: right;\">\n",
       "      <th></th>\n",
       "      <th>Marca</th>\n",
       "      <th>Nombre SKU 1</th>\n",
       "      <th>SKU 1</th>\n",
       "      <th>Sheet 1</th>\n",
       "      <th>Nombre SKU 2</th>\n",
       "      <th>SKU 2</th>\n",
       "      <th>Sheet 2</th>\n",
       "      <th>Similarity</th>\n",
       "    </tr>\n",
       "  </thead>\n",
       "  <tbody>\n",
       "    <tr>\n",
       "      <th>234</th>\n",
       "      <td>GOURMET</td>\n",
       "      <td>ESCENCIA DE PAN DE PASCUA 60 CC GOURMET</td>\n",
       "      <td>41077</td>\n",
       "      <td>Surtiventas Arbol_24_25</td>\n",
       "      <td>ESENCIA DE PAN DE PASCUA 60 CC GOURMET</td>\n",
       "      <td>41077</td>\n",
       "      <td>Prisur Arbol_24_25</td>\n",
       "      <td>99</td>\n",
       "    </tr>\n",
       "    <tr>\n",
       "      <th>235</th>\n",
       "      <td>GOURMET</td>\n",
       "      <td>ESCENCIA DE VAINILLA 100 CC GOURMET</td>\n",
       "      <td>41078</td>\n",
       "      <td>Surtiventas Arbol_24_25</td>\n",
       "      <td>ESENCIA DE VAINILLA 100 CC GOURMET</td>\n",
       "      <td>41078</td>\n",
       "      <td>Prisur Arbol_24_25</td>\n",
       "      <td>99</td>\n",
       "    </tr>\n",
       "    <tr>\n",
       "      <th>236</th>\n",
       "      <td>GOURMET</td>\n",
       "      <td>BASE P/HAMBURGUESA 90 GR X 15 UN GOURMET</td>\n",
       "      <td>41043</td>\n",
       "      <td>Surtiventas Arbol_24_25</td>\n",
       "      <td>BASE P/HAMBURGUESA 90 GR X 15 UND GOURMET</td>\n",
       "      <td>41043</td>\n",
       "      <td>Prisur Arbol_24_25</td>\n",
       "      <td>99</td>\n",
       "    </tr>\n",
       "    <tr>\n",
       "      <th>237</th>\n",
       "      <td>GOURMET</td>\n",
       "      <td>CONDIMENTO BICARBONATO 30 GR X 50 UN GOURMET</td>\n",
       "      <td>41021</td>\n",
       "      <td>Surtiventas Arbol_24_25</td>\n",
       "      <td>CONDIMENTO BICARBONATO 30 GR X 50 UND GOURMET</td>\n",
       "      <td>41021</td>\n",
       "      <td>Prisur Arbol_24_25</td>\n",
       "      <td>99</td>\n",
       "    </tr>\n",
       "    <tr>\n",
       "      <th>238</th>\n",
       "      <td>GOURMET</td>\n",
       "      <td>BASE POLLO CRISPY 80 GR X 12 UN GOURMET</td>\n",
       "      <td>41042</td>\n",
       "      <td>Surtiventas Arbol_24_25</td>\n",
       "      <td>BASE POLLO CRISPY 80 GR X 12 UND GOURMET</td>\n",
       "      <td>41042</td>\n",
       "      <td>Prisur Arbol_24_25</td>\n",
       "      <td>99</td>\n",
       "    </tr>\n",
       "  </tbody>\n",
       "</table>\n",
       "</div>"
      ]
     },
     "execution_count": 54,
     "metadata": {},
     "output_type": "execute_result"
    }
   ],
   "execution_count": 54
  },
  {
   "metadata": {
    "ExecuteTime": {
     "end_time": "2025-07-23T15:19:58.815532Z",
     "start_time": "2025-07-23T15:19:58.810670Z"
    }
   },
   "cell_type": "code",
   "source": "",
   "id": "c8aa3539f4e782cd",
   "outputs": [],
   "execution_count": null
  },
  {
   "metadata": {
    "ExecuteTime": {
     "end_time": "2025-07-23T15:19:58.894573Z",
     "start_time": "2025-07-23T15:19:58.863036Z"
    }
   },
   "cell_type": "code",
   "source": "exact_matches_counts = count_unique_products_per_sheet(exact_matches)",
   "id": "8ed3ebc053a9ead3",
   "outputs": [],
   "execution_count": 55
  },
  {
   "metadata": {
    "ExecuteTime": {
     "end_time": "2025-07-23T15:19:58.944039Z",
     "start_time": "2025-07-23T15:19:58.913281Z"
    }
   },
   "cell_type": "code",
   "source": "partial_matches_counts = count_unique_products_per_sheet(partial_matches)",
   "id": "7e53c005c26bbc73",
   "outputs": [],
   "execution_count": 56
  },
  {
   "metadata": {},
   "cell_type": "markdown",
   "source": "### Busqueda de los productos iguales que tienen diferentes SKU",
   "id": "f752f61609b9771d"
  },
  {
   "metadata": {
    "ExecuteTime": {
     "end_time": "2025-07-23T15:19:58.984522Z",
     "start_time": "2025-07-23T15:19:58.960100Z"
    }
   },
   "cell_type": "code",
   "source": "#Busqueda de los productos iguales que tienen diferentes SKU",
   "id": "ae4f5e07b11f801",
   "outputs": [],
   "execution_count": 57
  },
  {
   "metadata": {
    "ExecuteTime": {
     "end_time": "2025-07-23T15:19:59.018174Z",
     "start_time": "2025-07-23T15:19:59.015973Z"
    }
   },
   "cell_type": "code",
   "source": "",
   "id": "34fb108080381ebd",
   "outputs": [],
   "execution_count": null
  },
  {
   "metadata": {
    "ExecuteTime": {
     "end_time": "2025-07-23T15:20:01.298135Z",
     "start_time": "2025-07-23T15:19:59.065239Z"
    }
   },
   "cell_type": "code",
   "source": [
    "excel_path = \"/home/viktoria/Downloads/ARBOLES ALIMENTOS EJERCICIO KABELLI.xlsx\"\n",
    "\n",
    "confident, needs_review = process_excel_for_duplicates(\n",
    "    excel_path,\n",
    "    confidence_threshold=93,\n",
    "    low_confidence_threshold=85\n",
    ")\n"
   ],
   "id": "3a2098c528a571a2",
   "outputs": [],
   "execution_count": 58
  },
  {
   "metadata": {
    "ExecuteTime": {
     "end_time": "2025-07-23T15:20:01.327134Z",
     "start_time": "2025-07-23T15:20:01.305711Z"
    }
   },
   "cell_type": "code",
   "source": [
    "different_sku_conf = confident.shape[0]\n",
    "different_sku_conf"
   ],
   "id": "6fa154e4eb1bfa02",
   "outputs": [
    {
     "data": {
      "text/plain": [
       "40"
      ]
     },
     "execution_count": 59,
     "metadata": {},
     "output_type": "execute_result"
    }
   ],
   "execution_count": 59
  },
  {
   "metadata": {
    "ExecuteTime": {
     "end_time": "2025-07-23T15:20:01.388726Z",
     "start_time": "2025-07-23T15:20:01.364120Z"
    }
   },
   "cell_type": "code",
   "source": [
    "different_sku_review = needs_review.shape[0]\n",
    "different_sku_review"
   ],
   "id": "6ae7c83b072ff256",
   "outputs": [
    {
     "data": {
      "text/plain": [
       "37"
      ]
     },
     "execution_count": 60,
     "metadata": {},
     "output_type": "execute_result"
    }
   ],
   "execution_count": 60
  },
  {
   "metadata": {
    "ExecuteTime": {
     "end_time": "2025-07-23T15:20:01.460585Z",
     "start_time": "2025-07-23T15:20:01.423137Z"
    }
   },
   "cell_type": "code",
   "source": "confident.head(5)",
   "id": "3a23aa1221082748",
   "outputs": [
    {
     "data": {
      "text/plain": [
       "     Marca                           Nombre SKU 1  SKU 1  \\\n",
       "0  COLISEO  ATUN DESMENUZADO AGUA 170 GR  COLISEO  97840   \n",
       "1  COLISEO           LENTEJA   1 KG. 6 MM COLISEO  75758   \n",
       "2  COLISEO   ATUN DESMENUZADO AGUA 170 GR COLISEO  75969   \n",
       "3  COLISEO                  AZUCAR   1 KG COLISEO  22960   \n",
       "4  COLISEO  ATUN DESMENUZADO AGUA 170 GR  COLISEO  97840   \n",
       "\n",
       "                   Sheet 1                          Nombre SKU 2  SKU 2  \\\n",
       "0        PRISA Arbol_24_25  ATUN DESMENUZADO AGUA 170 GR COLISEO  75969   \n",
       "1  Surtiventas Arbol_24_25            LENTEJA  1 KG 6 MM COLISEO  85092   \n",
       "2  Surtiventas Arbol_24_25  ATUN DESMENUZADO AGUA 170 GR COLISEO  85102   \n",
       "3  Surtiventas Arbol_24_25                AZUCAR   1 KG. COLISEO  71978   \n",
       "4        PRISA Arbol_24_25  ATUN DESMENUZADO AGUA 170 GR COLISEO  85102   \n",
       "\n",
       "                   Sheet 2  Similarity   Numbers 1   Numbers 2  \n",
       "0  Surtiventas Arbol_24_25         100     [170.0]     [170.0]  \n",
       "1       Prisur Arbol_24_25         100  [1.0, 6.0]  [1.0, 6.0]  \n",
       "2       Prisur Arbol_24_25         100     [170.0]     [170.0]  \n",
       "3       Prisur Arbol_24_25         100       [1.0]       [1.0]  \n",
       "4       Prisur Arbol_24_25         100     [170.0]     [170.0]  "
      ],
      "text/html": [
       "<div>\n",
       "<style scoped>\n",
       "    .dataframe tbody tr th:only-of-type {\n",
       "        vertical-align: middle;\n",
       "    }\n",
       "\n",
       "    .dataframe tbody tr th {\n",
       "        vertical-align: top;\n",
       "    }\n",
       "\n",
       "    .dataframe thead th {\n",
       "        text-align: right;\n",
       "    }\n",
       "</style>\n",
       "<table border=\"1\" class=\"dataframe\">\n",
       "  <thead>\n",
       "    <tr style=\"text-align: right;\">\n",
       "      <th></th>\n",
       "      <th>Marca</th>\n",
       "      <th>Nombre SKU 1</th>\n",
       "      <th>SKU 1</th>\n",
       "      <th>Sheet 1</th>\n",
       "      <th>Nombre SKU 2</th>\n",
       "      <th>SKU 2</th>\n",
       "      <th>Sheet 2</th>\n",
       "      <th>Similarity</th>\n",
       "      <th>Numbers 1</th>\n",
       "      <th>Numbers 2</th>\n",
       "    </tr>\n",
       "  </thead>\n",
       "  <tbody>\n",
       "    <tr>\n",
       "      <th>0</th>\n",
       "      <td>COLISEO</td>\n",
       "      <td>ATUN DESMENUZADO AGUA 170 GR  COLISEO</td>\n",
       "      <td>97840</td>\n",
       "      <td>PRISA Arbol_24_25</td>\n",
       "      <td>ATUN DESMENUZADO AGUA 170 GR COLISEO</td>\n",
       "      <td>75969</td>\n",
       "      <td>Surtiventas Arbol_24_25</td>\n",
       "      <td>100</td>\n",
       "      <td>[170.0]</td>\n",
       "      <td>[170.0]</td>\n",
       "    </tr>\n",
       "    <tr>\n",
       "      <th>1</th>\n",
       "      <td>COLISEO</td>\n",
       "      <td>LENTEJA   1 KG. 6 MM COLISEO</td>\n",
       "      <td>75758</td>\n",
       "      <td>Surtiventas Arbol_24_25</td>\n",
       "      <td>LENTEJA  1 KG 6 MM COLISEO</td>\n",
       "      <td>85092</td>\n",
       "      <td>Prisur Arbol_24_25</td>\n",
       "      <td>100</td>\n",
       "      <td>[1.0, 6.0]</td>\n",
       "      <td>[1.0, 6.0]</td>\n",
       "    </tr>\n",
       "    <tr>\n",
       "      <th>2</th>\n",
       "      <td>COLISEO</td>\n",
       "      <td>ATUN DESMENUZADO AGUA 170 GR COLISEO</td>\n",
       "      <td>75969</td>\n",
       "      <td>Surtiventas Arbol_24_25</td>\n",
       "      <td>ATUN DESMENUZADO AGUA 170 GR COLISEO</td>\n",
       "      <td>85102</td>\n",
       "      <td>Prisur Arbol_24_25</td>\n",
       "      <td>100</td>\n",
       "      <td>[170.0]</td>\n",
       "      <td>[170.0]</td>\n",
       "    </tr>\n",
       "    <tr>\n",
       "      <th>3</th>\n",
       "      <td>COLISEO</td>\n",
       "      <td>AZUCAR   1 KG COLISEO</td>\n",
       "      <td>22960</td>\n",
       "      <td>Surtiventas Arbol_24_25</td>\n",
       "      <td>AZUCAR   1 KG. COLISEO</td>\n",
       "      <td>71978</td>\n",
       "      <td>Prisur Arbol_24_25</td>\n",
       "      <td>100</td>\n",
       "      <td>[1.0]</td>\n",
       "      <td>[1.0]</td>\n",
       "    </tr>\n",
       "    <tr>\n",
       "      <th>4</th>\n",
       "      <td>COLISEO</td>\n",
       "      <td>ATUN DESMENUZADO AGUA 170 GR  COLISEO</td>\n",
       "      <td>97840</td>\n",
       "      <td>PRISA Arbol_24_25</td>\n",
       "      <td>ATUN DESMENUZADO AGUA 170 GR COLISEO</td>\n",
       "      <td>85102</td>\n",
       "      <td>Prisur Arbol_24_25</td>\n",
       "      <td>100</td>\n",
       "      <td>[170.0]</td>\n",
       "      <td>[170.0]</td>\n",
       "    </tr>\n",
       "  </tbody>\n",
       "</table>\n",
       "</div>"
      ]
     },
     "execution_count": 61,
     "metadata": {},
     "output_type": "execute_result"
    }
   ],
   "execution_count": 61
  },
  {
   "metadata": {
    "ExecuteTime": {
     "end_time": "2025-07-23T15:20:01.508776Z",
     "start_time": "2025-07-23T15:20:01.479187Z"
    }
   },
   "cell_type": "code",
   "source": [
    "needs_review.head(5)\n",
    "# Aparecen poductos que ya pueden ser diferentes como\n",
    "#CEREAL BARRA COSTA FRUTOS ROJOS + YOGURT X 20 UDS\t -  CEREAL BARRA COSTA FRUTOS ROJOS (No tiene Yogurt)\n",
    "# SALSA DE SOYA SUAVE 165 CC GOURMET -  SALSA DE SOYA SUAVE 165 CC GOURMET (tiene Sauve)\n",
    "#\tYERBA MATE 250 GR. SUPREMO ARGENTIN -\tYERBA MATE 250 GR SUPREMO ARGENTINA NARANJA\n",
    "# CAFE INST. JUAN VALDEZ 95 GR LIOFILIZADO DESCAFEIN\t-  CAFE 95 GR JUAN VALDEZ INST. LIOFILIZADO\n",
    "# Pero la mayoria son iguales"
   ],
   "id": "d765185684037f06",
   "outputs": [
    {
     "data": {
      "text/plain": [
       "     Marca                                      Nombre SKU 1  SKU 1  \\\n",
       "0  NESCAFE  CAFE INST. NESCAFE TRADICION  400 GR POLVO TARRO  12596   \n",
       "1    WASIL                        ARVEJA 340 CC. WASIL TETRA  57039   \n",
       "2  NESCAFE     CAFE 420 GR NESCAFE TRADICION GRANULADO TARRO  89295   \n",
       "3  GOURMET                      SALSA DE SOYA 165 CC GOURMET  41058   \n",
       "4  SUPREMO               YERBA MATE 250 GR SUPREMO ARGENTINA  59287   \n",
       "\n",
       "                   Sheet 1                                 Nombre SKU 2  \\\n",
       "0        PRISA Arbol_24_25  CAFE 400 GR NESCAFE TRADICIONAL POLVO TARRO   \n",
       "1  Surtiventas Arbol_24_25                   ARVEJA 340 GR. WASIL TETRA   \n",
       "2     Prinorte Arbol_24_25    CAFE 420 GR NESCAFE TRADICIONAL GRANULADO   \n",
       "3  Surtiventas Arbol_24_25           SALSA DE SOYA SUAVE 165 CC GOURMET   \n",
       "4     Prinorte Arbol_24_25  YERBA MATE 250 GR SUPREMO ARGENTINA SERRANA   \n",
       "\n",
       "   SKU 2             Sheet 2  Similarity Numbers 1 Numbers 2  \n",
       "0  89295  Prisur Arbol_24_25          92   [400.0]   [400.0]  \n",
       "1  57031  Prisur Arbol_24_25          92   [340.0]   [340.0]  \n",
       "2  12596  Prisur Arbol_24_25          91   [420.0]   [420.0]  \n",
       "3  92370  Prisur Arbol_24_25          90   [165.0]   [165.0]  \n",
       "4  71291  Prisur Arbol_24_25          90   [250.0]   [250.0]  "
      ],
      "text/html": [
       "<div>\n",
       "<style scoped>\n",
       "    .dataframe tbody tr th:only-of-type {\n",
       "        vertical-align: middle;\n",
       "    }\n",
       "\n",
       "    .dataframe tbody tr th {\n",
       "        vertical-align: top;\n",
       "    }\n",
       "\n",
       "    .dataframe thead th {\n",
       "        text-align: right;\n",
       "    }\n",
       "</style>\n",
       "<table border=\"1\" class=\"dataframe\">\n",
       "  <thead>\n",
       "    <tr style=\"text-align: right;\">\n",
       "      <th></th>\n",
       "      <th>Marca</th>\n",
       "      <th>Nombre SKU 1</th>\n",
       "      <th>SKU 1</th>\n",
       "      <th>Sheet 1</th>\n",
       "      <th>Nombre SKU 2</th>\n",
       "      <th>SKU 2</th>\n",
       "      <th>Sheet 2</th>\n",
       "      <th>Similarity</th>\n",
       "      <th>Numbers 1</th>\n",
       "      <th>Numbers 2</th>\n",
       "    </tr>\n",
       "  </thead>\n",
       "  <tbody>\n",
       "    <tr>\n",
       "      <th>0</th>\n",
       "      <td>NESCAFE</td>\n",
       "      <td>CAFE INST. NESCAFE TRADICION  400 GR POLVO TARRO</td>\n",
       "      <td>12596</td>\n",
       "      <td>PRISA Arbol_24_25</td>\n",
       "      <td>CAFE 400 GR NESCAFE TRADICIONAL POLVO TARRO</td>\n",
       "      <td>89295</td>\n",
       "      <td>Prisur Arbol_24_25</td>\n",
       "      <td>92</td>\n",
       "      <td>[400.0]</td>\n",
       "      <td>[400.0]</td>\n",
       "    </tr>\n",
       "    <tr>\n",
       "      <th>1</th>\n",
       "      <td>WASIL</td>\n",
       "      <td>ARVEJA 340 CC. WASIL TETRA</td>\n",
       "      <td>57039</td>\n",
       "      <td>Surtiventas Arbol_24_25</td>\n",
       "      <td>ARVEJA 340 GR. WASIL TETRA</td>\n",
       "      <td>57031</td>\n",
       "      <td>Prisur Arbol_24_25</td>\n",
       "      <td>92</td>\n",
       "      <td>[340.0]</td>\n",
       "      <td>[340.0]</td>\n",
       "    </tr>\n",
       "    <tr>\n",
       "      <th>2</th>\n",
       "      <td>NESCAFE</td>\n",
       "      <td>CAFE 420 GR NESCAFE TRADICION GRANULADO TARRO</td>\n",
       "      <td>89295</td>\n",
       "      <td>Prinorte Arbol_24_25</td>\n",
       "      <td>CAFE 420 GR NESCAFE TRADICIONAL GRANULADO</td>\n",
       "      <td>12596</td>\n",
       "      <td>Prisur Arbol_24_25</td>\n",
       "      <td>91</td>\n",
       "      <td>[420.0]</td>\n",
       "      <td>[420.0]</td>\n",
       "    </tr>\n",
       "    <tr>\n",
       "      <th>3</th>\n",
       "      <td>GOURMET</td>\n",
       "      <td>SALSA DE SOYA 165 CC GOURMET</td>\n",
       "      <td>41058</td>\n",
       "      <td>Surtiventas Arbol_24_25</td>\n",
       "      <td>SALSA DE SOYA SUAVE 165 CC GOURMET</td>\n",
       "      <td>92370</td>\n",
       "      <td>Prisur Arbol_24_25</td>\n",
       "      <td>90</td>\n",
       "      <td>[165.0]</td>\n",
       "      <td>[165.0]</td>\n",
       "    </tr>\n",
       "    <tr>\n",
       "      <th>4</th>\n",
       "      <td>SUPREMO</td>\n",
       "      <td>YERBA MATE 250 GR SUPREMO ARGENTINA</td>\n",
       "      <td>59287</td>\n",
       "      <td>Prinorte Arbol_24_25</td>\n",
       "      <td>YERBA MATE 250 GR SUPREMO ARGENTINA SERRANA</td>\n",
       "      <td>71291</td>\n",
       "      <td>Prisur Arbol_24_25</td>\n",
       "      <td>90</td>\n",
       "      <td>[250.0]</td>\n",
       "      <td>[250.0]</td>\n",
       "    </tr>\n",
       "  </tbody>\n",
       "</table>\n",
       "</div>"
      ]
     },
     "execution_count": 62,
     "metadata": {},
     "output_type": "execute_result"
    }
   ],
   "execution_count": 62
  },
  {
   "metadata": {
    "ExecuteTime": {
     "end_time": "2025-07-23T15:25:58.277575Z",
     "start_time": "2025-07-23T15:25:58.273741Z"
    }
   },
   "cell_type": "code",
   "source": "",
   "id": "95165f628698e27d",
   "outputs": [],
   "execution_count": null
  },
  {
   "metadata": {
    "ExecuteTime": {
     "end_time": "2025-07-23T15:26:01.692878Z",
     "start_time": "2025-07-23T15:26:01.688153Z"
    }
   },
   "cell_type": "code",
   "source": "",
   "id": "f9d472a298a25a20",
   "outputs": [],
   "execution_count": null
  },
  {
   "metadata": {
    "ExecuteTime": {
     "end_time": "2025-07-23T15:26:06.583661Z",
     "start_time": "2025-07-23T15:26:01.891397Z"
    }
   },
   "cell_type": "code",
   "source": [
    "filtered = find_normal_cases(excel_path)\n",
    "filtered = filtered.rename(columns={\"Sheet\": \"Subempresa\"})\n",
    "filtered = filtered.drop_duplicates()\n",
    "filtered_count = filtered.shape[0]\n"
   ],
   "id": "4834f196e899103f",
   "outputs": [],
   "execution_count": 95
  },
  {
   "metadata": {
    "ExecuteTime": {
     "end_time": "2025-07-23T15:26:06.609018Z",
     "start_time": "2025-07-23T15:26:06.589103Z"
    }
   },
   "cell_type": "code",
   "source": "filtered_count",
   "id": "22ce68b313a74f85",
   "outputs": [
    {
     "data": {
      "text/plain": [
       "1521"
      ]
     },
     "execution_count": 96,
     "metadata": {},
     "output_type": "execute_result"
    }
   ],
   "execution_count": 96
  },
  {
   "metadata": {},
   "cell_type": "code",
   "outputs": [],
   "execution_count": null,
   "source": "",
   "id": "9f1a27f3ef1c251a"
  },
  {
   "metadata": {
    "ExecuteTime": {
     "end_time": "2025-07-23T15:26:06.680361Z",
     "start_time": "2025-07-23T15:26:06.642930Z"
    }
   },
   "cell_type": "code",
   "source": [
    "exact_prod = pairs_to_unique_products(exact_matches)\n",
    "partial_prod = pairs_to_unique_products(partial_matches)\n",
    "condident_prod = pairs_to_unique_products(confident)\n",
    "need_review_prod = pairs_to_unique_products(needs_review)"
   ],
   "id": "ae52d281f5ce84f9",
   "outputs": [],
   "execution_count": 97
  },
  {
   "metadata": {
    "ExecuteTime": {
     "end_time": "2025-07-23T16:20:09.393020Z",
     "start_time": "2025-07-23T16:20:09.372757Z"
    }
   },
   "cell_type": "code",
   "source": [
    "all_different_sku = pd.concat([condident_prod, need_review_prod])\n",
    "all_different_sku = all_different_sku.drop_duplicates([\"Nombre SKU\", \"Marca\", \"SKU\"])\n",
    "all_different_sku.shape\n",
    "\n",
    "all_different_sku_shape = count_unique_products_per_sheet(all_different_sku)"
   ],
   "id": "73569462b86b7870",
   "outputs": [
    {
     "data": {
      "text/plain": [
       "(108, 4)"
      ]
     },
     "execution_count": 143,
     "metadata": {},
     "output_type": "execute_result"
    }
   ],
   "execution_count": 143
  },
  {
   "metadata": {
    "ExecuteTime": {
     "end_time": "2025-07-23T16:19:13.145735Z",
     "start_time": "2025-07-23T16:19:13.125021Z"
    }
   },
   "cell_type": "code",
   "source": "all_different_sku",
   "id": "50f376d99545f8df",
   "outputs": [
    {
     "data": {
      "text/plain": [
       "       Marca                                        Nombre SKU    SKU  \\\n",
       "0    COLISEO             ATUN DESMENUZADO AGUA 170 GR  COLISEO  97840   \n",
       "1    COLISEO                      LENTEJA   1 KG. 6 MM COLISEO  75758   \n",
       "2    COLISEO              ATUN DESMENUZADO AGUA 170 GR COLISEO  75969   \n",
       "3    COLISEO                             AZUCAR   1 KG COLISEO  22960   \n",
       "4    COLISEO                              AZUCAR 1 KG. COLISEO  22960   \n",
       "..       ...                                               ...    ...   \n",
       "39  DULCEDIA  ALFAJOR 3 CAPAS CH/ NEGRO 24 UN X 60 GR DULCEDIA  92321   \n",
       "40     WASIL                     PI¥AS EN CUBITOS 565 GR WASIL  52890   \n",
       "41  ALCAFOOD             PURE DE PAPAS 250 GR ESTUCHE ALCAFOOD  72450   \n",
       "42     IANSA                     AZUCAR RUBIA 1 KG IANSA BOLSA  82942   \n",
       "43     KRAFT       MAYONESA 90 GR SACHET DP X 18 UN DELI KRAFT  92286   \n",
       "\n",
       "                      Sheet  \n",
       "0         PRISA Arbol_24_25  \n",
       "1   Surtiventas Arbol_24_25  \n",
       "2   Surtiventas Arbol_24_25  \n",
       "3   Surtiventas Arbol_24_25  \n",
       "4      Prinorte Arbol_24_25  \n",
       "..                      ...  \n",
       "39       Prisur Arbol_24_25  \n",
       "40       Prisur Arbol_24_25  \n",
       "41       Prisur Arbol_24_25  \n",
       "42       Prisur Arbol_24_25  \n",
       "43       Prisur Arbol_24_25  \n",
       "\n",
       "[113 rows x 4 columns]"
      ],
      "text/html": [
       "<div>\n",
       "<style scoped>\n",
       "    .dataframe tbody tr th:only-of-type {\n",
       "        vertical-align: middle;\n",
       "    }\n",
       "\n",
       "    .dataframe tbody tr th {\n",
       "        vertical-align: top;\n",
       "    }\n",
       "\n",
       "    .dataframe thead th {\n",
       "        text-align: right;\n",
       "    }\n",
       "</style>\n",
       "<table border=\"1\" class=\"dataframe\">\n",
       "  <thead>\n",
       "    <tr style=\"text-align: right;\">\n",
       "      <th></th>\n",
       "      <th>Marca</th>\n",
       "      <th>Nombre SKU</th>\n",
       "      <th>SKU</th>\n",
       "      <th>Sheet</th>\n",
       "    </tr>\n",
       "  </thead>\n",
       "  <tbody>\n",
       "    <tr>\n",
       "      <th>0</th>\n",
       "      <td>COLISEO</td>\n",
       "      <td>ATUN DESMENUZADO AGUA 170 GR  COLISEO</td>\n",
       "      <td>97840</td>\n",
       "      <td>PRISA Arbol_24_25</td>\n",
       "    </tr>\n",
       "    <tr>\n",
       "      <th>1</th>\n",
       "      <td>COLISEO</td>\n",
       "      <td>LENTEJA   1 KG. 6 MM COLISEO</td>\n",
       "      <td>75758</td>\n",
       "      <td>Surtiventas Arbol_24_25</td>\n",
       "    </tr>\n",
       "    <tr>\n",
       "      <th>2</th>\n",
       "      <td>COLISEO</td>\n",
       "      <td>ATUN DESMENUZADO AGUA 170 GR COLISEO</td>\n",
       "      <td>75969</td>\n",
       "      <td>Surtiventas Arbol_24_25</td>\n",
       "    </tr>\n",
       "    <tr>\n",
       "      <th>3</th>\n",
       "      <td>COLISEO</td>\n",
       "      <td>AZUCAR   1 KG COLISEO</td>\n",
       "      <td>22960</td>\n",
       "      <td>Surtiventas Arbol_24_25</td>\n",
       "    </tr>\n",
       "    <tr>\n",
       "      <th>4</th>\n",
       "      <td>COLISEO</td>\n",
       "      <td>AZUCAR 1 KG. COLISEO</td>\n",
       "      <td>22960</td>\n",
       "      <td>Prinorte Arbol_24_25</td>\n",
       "    </tr>\n",
       "    <tr>\n",
       "      <th>...</th>\n",
       "      <td>...</td>\n",
       "      <td>...</td>\n",
       "      <td>...</td>\n",
       "      <td>...</td>\n",
       "    </tr>\n",
       "    <tr>\n",
       "      <th>39</th>\n",
       "      <td>DULCEDIA</td>\n",
       "      <td>ALFAJOR 3 CAPAS CH/ NEGRO 24 UN X 60 GR DULCEDIA</td>\n",
       "      <td>92321</td>\n",
       "      <td>Prisur Arbol_24_25</td>\n",
       "    </tr>\n",
       "    <tr>\n",
       "      <th>40</th>\n",
       "      <td>WASIL</td>\n",
       "      <td>PI¥AS EN CUBITOS 565 GR WASIL</td>\n",
       "      <td>52890</td>\n",
       "      <td>Prisur Arbol_24_25</td>\n",
       "    </tr>\n",
       "    <tr>\n",
       "      <th>41</th>\n",
       "      <td>ALCAFOOD</td>\n",
       "      <td>PURE DE PAPAS 250 GR ESTUCHE ALCAFOOD</td>\n",
       "      <td>72450</td>\n",
       "      <td>Prisur Arbol_24_25</td>\n",
       "    </tr>\n",
       "    <tr>\n",
       "      <th>42</th>\n",
       "      <td>IANSA</td>\n",
       "      <td>AZUCAR RUBIA 1 KG IANSA BOLSA</td>\n",
       "      <td>82942</td>\n",
       "      <td>Prisur Arbol_24_25</td>\n",
       "    </tr>\n",
       "    <tr>\n",
       "      <th>43</th>\n",
       "      <td>KRAFT</td>\n",
       "      <td>MAYONESA 90 GR SACHET DP X 18 UN DELI KRAFT</td>\n",
       "      <td>92286</td>\n",
       "      <td>Prisur Arbol_24_25</td>\n",
       "    </tr>\n",
       "  </tbody>\n",
       "</table>\n",
       "<p>113 rows × 4 columns</p>\n",
       "</div>"
      ]
     },
     "execution_count": 139,
     "metadata": {},
     "output_type": "execute_result"
    }
   ],
   "execution_count": 139
  },
  {
   "metadata": {
    "ExecuteTime": {
     "end_time": "2025-07-23T15:26:06.710151Z",
     "start_time": "2025-07-23T15:26:06.690102Z"
    }
   },
   "cell_type": "code",
   "source": [
    "\n",
    "confident_counts = count_unique_products_per_sheet(confident)"
   ],
   "id": "a20f8bffecdd79fd",
   "outputs": [],
   "execution_count": 98
  },
  {
   "metadata": {
    "ExecuteTime": {
     "end_time": "2025-07-23T15:26:06.770171Z",
     "start_time": "2025-07-23T15:26:06.742964Z"
    }
   },
   "cell_type": "code",
   "source": "needs_review_counts = count_unique_products_per_sheet(needs_review)",
   "id": "180a51bf82d5c7b7",
   "outputs": [],
   "execution_count": 99
  },
  {
   "metadata": {
    "ExecuteTime": {
     "end_time": "2025-07-23T15:26:06.796565Z",
     "start_time": "2025-07-23T15:26:06.793769Z"
    }
   },
   "cell_type": "code",
   "source": "",
   "id": "a1cb735ad8d5a072",
   "outputs": [],
   "execution_count": null
  },
  {
   "metadata": {
    "ExecuteTime": {
     "end_time": "2025-07-23T15:26:06.882262Z",
     "start_time": "2025-07-23T15:26:06.848991Z"
    }
   },
   "cell_type": "code",
   "source": "# En las estadísticas se muestra el número de productos únicos. (no coincidencias)",
   "id": "bf9f9bebcec5a690",
   "outputs": [],
   "execution_count": 100
  },
  {
   "metadata": {
    "ExecuteTime": {
     "end_time": "2025-07-23T15:26:07.037380Z",
     "start_time": "2025-07-23T15:26:06.910445Z"
    }
   },
   "cell_type": "code",
   "source": [
    "visualize(duplicates.shape[0], need_review_prod.shape[0], condident_prod.shape[0], exact_prod.shape[0],\n",
    "          partial_prod.shape[0], filtered_count)\n"
   ],
   "id": "7762adeee501a613",
   "outputs": [
    {
     "data": {
      "text/plain": [
       "<Figure size 1200x600 with 1 Axes>"
      ],
      "image/png": "[encoded data removed]"
     },
     "metadata": {},
     "output_type": "display_data"
    }
   ],
   "execution_count": 101
  },
  {
   "metadata": {
    "ExecuteTime": {
     "end_time": "2025-07-23T15:26:07.044500Z",
     "start_time": "2025-07-23T15:26:07.042678Z"
    }
   },
   "cell_type": "code",
   "source": "",
   "id": "616dcd9b383df146",
   "outputs": [],
   "execution_count": null
  },
  {
   "metadata": {
    "ExecuteTime": {
     "end_time": "2025-07-23T15:26:08.154537Z",
     "start_time": "2025-07-23T15:26:08.099410Z"
    }
   },
   "cell_type": "code",
   "source": [
    "# Calculamos cuántos productos se repiten en 2, 3 o 4 empresas.\n",
    "output_needs_review = count_unique_subempresas_per_product(needs_review)\n",
    "output_confident = count_unique_subempresas_per_product(confident)\n",
    "output_exact = count_unique_subempresas_per_product(exact_matches)\n",
    "output_partial = count_unique_subempresas_per_product(partial_matches)\n",
    "needs_review_stats = count_product_distribution_dict_only(output_needs_review)\n",
    "confident_stats = count_product_distribution_dict_only(output_confident)\n",
    "exact_matches_stats = count_product_distribution_dict_only(output_exact)\n",
    "partial_matches_stats = count_product_distribution_dict_only(output_partial)\n"
   ],
   "id": "66931d46b50042be",
   "outputs": [],
   "execution_count": 102
  },
  {
   "metadata": {
    "ExecuteTime": {
     "end_time": "2025-07-23T15:26:08.387748Z",
     "start_time": "2025-07-23T15:26:08.309367Z"
    }
   },
   "cell_type": "code",
   "source": [
    "df = pd.DataFrame([{'Product': name, 'Number of companies where the product is present': count} for (name, _), count in\n",
    "                   output_needs_review.items()])\n",
    "path = \"/home/viktoria/Downloads/prisa/needs_review_count.xlsx\"\n",
    "df.to_excel(path, index=False)\n",
    "\n",
    "df = pd.DataFrame([{'Product': name, 'Number of companies where the product is present': count} for (name, _), count in\n",
    "                   output_confident.items()])\n",
    "path = \"/home/viktoria/Downloads/prisa/confident_count.xlsx\"\n",
    "df.to_excel(path, index=False)\n",
    "\n",
    "df = pd.DataFrame([{'Product': name, 'Number of companies where the product is present': count} for (name, _), count in\n",
    "                   output_exact.items()])\n",
    "path = \"/home/viktoria/Downloads/prisa/exact_count.xlsx\"\n",
    "df.to_excel(path, index=False)\n",
    "\n",
    "df = pd.DataFrame([{'Product': name, 'Number of companies where the product is present': count} for (name, _), count in\n",
    "                   output_partial.items()])\n",
    "path = \"/home/viktoria/Downloads/prisa/partial_count.xlsx\"\n",
    "df.to_excel(path, index=False)\n"
   ],
   "id": "9d53a632684111b3",
   "outputs": [],
   "execution_count": 103
  },
  {
   "metadata": {
    "ExecuteTime": {
     "end_time": "2025-07-23T15:26:08.505486Z",
     "start_time": "2025-07-23T15:26:08.501259Z"
    }
   },
   "cell_type": "code",
   "source": "",
   "id": "51c1b559fb02b59b",
   "outputs": [],
   "execution_count": null
  },
  {
   "metadata": {
    "ExecuteTime": {
     "end_time": "2025-07-23T15:26:09.164925Z",
     "start_time": "2025-07-23T15:26:09.047112Z"
    }
   },
   "cell_type": "code",
   "source": [
    "# Nombres distintos (productos iguales) con SKUs distintos (los casos que necesitan la revisión)\n",
    "# Si por ejemplo hay producto que tiene 2 parecidos por nombres en 2 otras esmpresas todos sus 3 variaciones se cuentan como solo uno producto\n",
    "\n",
    "graficar_distribucion_productos(needs_review_stats, \"green\")"
   ],
   "id": "6e2eb36d64af89d2",
   "outputs": [
    {
     "data": {
      "text/plain": [
       "<Figure size 800x600 with 1 Axes>"
      ],
      "image/png": "[encoded data removed]"
     },
     "metadata": {},
     "output_type": "display_data"
    }
   ],
   "execution_count": 104
  },
  {
   "metadata": {
    "ExecuteTime": {
     "end_time": "2025-07-23T15:26:09.400220Z",
     "start_time": "2025-07-23T15:26:09.294062Z"
    }
   },
   "cell_type": "code",
   "source": [
    "#Nombres distintos (productos iguales) con SKUs distintos (los casos seguros)\n",
    "graficar_distribucion_productos(confident_stats, \"yellow\")\n"
   ],
   "id": "db6221b323bfaf44",
   "outputs": [
    {
     "data": {
      "text/plain": [
       "<Figure size 800x600 with 1 Axes>"
      ],
      "image/png": "[encoded data removed]"
     },
     "metadata": {},
     "output_type": "display_data"
    }
   ],
   "execution_count": 105
  },
  {
   "metadata": {
    "ExecuteTime": {
     "end_time": "2025-07-23T15:26:09.926757Z",
     "start_time": "2025-07-23T15:26:09.831627Z"
    }
   },
   "cell_type": "code",
   "source": [
    "# Nombres y SKUs exactamente iguales\n",
    "graficar_distribucion_productos(exact_matches_stats, \"blue\")"
   ],
   "id": "85a1a403c3b885e6",
   "outputs": [
    {
     "data": {
      "text/plain": [
       "<Figure size 800x600 with 1 Axes>"
      ],
      "image/png": "[encoded data removed]"
     },
     "metadata": {},
     "output_type": "display_data"
    }
   ],
   "execution_count": 106
  },
  {
   "metadata": {
    "ExecuteTime": {
     "end_time": "2025-07-23T15:26:10.173348Z",
     "start_time": "2025-07-23T15:26:10.062156Z"
    }
   },
   "cell_type": "code",
   "source": [
    "# Nombres similares con SKUs iguales\n",
    "graficar_distribucion_productos(partial_matches_stats, \"purple\")"
   ],
   "id": "b20f7a6914189895",
   "outputs": [
    {
     "data": {
      "text/plain": [
       "<Figure size 800x600 with 1 Axes>"
      ],
      "image/png": "[encoded data removed]"
     },
     "metadata": {},
     "output_type": "display_data"
    }
   ],
   "execution_count": 107
  },
  {
   "metadata": {
    "ExecuteTime": {
     "end_time": "2025-07-23T15:26:10.185786Z",
     "start_time": "2025-07-23T15:26:10.183319Z"
    }
   },
   "cell_type": "code",
   "source": "",
   "id": "8765145666956214",
   "outputs": [],
   "execution_count": null
  },
  {
   "metadata": {
    "ExecuteTime": {
     "end_time": "2025-07-23T15:26:10.756800Z",
     "start_time": "2025-07-23T15:26:10.752582Z"
    }
   },
   "cell_type": "code",
   "source": "",
   "id": "bbefcad3083b49aa",
   "outputs": [],
   "execution_count": null
  },
  {
   "metadata": {
    "ExecuteTime": {
     "end_time": "2025-07-23T15:26:11.001099Z",
     "start_time": "2025-07-23T15:26:10.975378Z"
    }
   },
   "cell_type": "code",
   "source": [
    "unique_sheets = filtered['Subempresa'].unique()\n",
    "unique_sheets = [sheet for sheet in unique_sheets if sheet != \"Prilogic Arbol_24_25\"]\n",
    "\n",
    "filtered_counts = {}\n",
    "\n",
    "for sheet in unique_sheets:\n",
    "    sub_df = filtered[filtered['Subempresa'] == sheet]\n",
    "    filtered_counts[sheet] = sub_df.shape[0]\n"
   ],
   "id": "7a8690b958ab499c",
   "outputs": [],
   "execution_count": 108
  },
  {
   "metadata": {
    "ExecuteTime": {
     "end_time": "2025-07-23T15:26:11.805379Z",
     "start_time": "2025-07-23T15:26:11.773095Z"
    }
   },
   "cell_type": "code",
   "source": "filtered_counts",
   "id": "2435ea8802ebb6d",
   "outputs": [
    {
     "data": {
      "text/plain": [
       "{'PRISA Arbol_24_25': 480,\n",
       " 'Surtiventas Arbol_24_25': 429,\n",
       " 'Prinorte Arbol_24_25': 92,\n",
       " 'Prisur Arbol_24_25': 284}"
      ]
     },
     "execution_count": 109,
     "metadata": {},
     "output_type": "execute_result"
    }
   ],
   "execution_count": 109
  },
  {
   "metadata": {
    "ExecuteTime": {
     "end_time": "2025-07-23T15:26:12.875100Z",
     "start_time": "2025-07-23T15:26:12.848972Z"
    }
   },
   "cell_type": "code",
   "source": "needs_review_counts",
   "id": "b634d92f2f5f679c",
   "outputs": [
    {
     "data": {
      "text/plain": [
       "{'PRISA Arbol_24_25': 10,\n",
       " 'Prinorte Arbol_24_25': 5,\n",
       " 'Prisur Arbol_24_25': 18,\n",
       " 'Surtiventas Arbol_24_25': 17}"
      ]
     },
     "execution_count": 110,
     "metadata": {},
     "output_type": "execute_result"
    }
   ],
   "execution_count": 110
  },
  {
   "metadata": {
    "ExecuteTime": {
     "end_time": "2025-07-23T15:26:14.168943Z",
     "start_time": "2025-07-23T15:26:14.145219Z"
    }
   },
   "cell_type": "code",
   "source": "confident_counts",
   "id": "920ed17ba3869897",
   "outputs": [
    {
     "data": {
      "text/plain": [
       "{'PRISA Arbol_24_25': 10,\n",
       " 'Prinorte Arbol_24_25': 6,\n",
       " 'Prisur Arbol_24_25': 27,\n",
       " 'Surtiventas Arbol_24_25': 27}"
      ]
     },
     "execution_count": 111,
     "metadata": {},
     "output_type": "execute_result"
    }
   ],
   "execution_count": 111
  },
  {
   "metadata": {
    "ExecuteTime": {
     "end_time": "2025-07-23T15:26:14.379851Z",
     "start_time": "2025-07-23T15:26:14.346238Z"
    }
   },
   "cell_type": "code",
   "source": "duplicates_counts",
   "id": "4bb9e9737cbbfda2",
   "outputs": [
    {
     "data": {
      "text/plain": [
       "{'PRISA Arbol_24_25': 128,\n",
       " 'Prinorte Arbol_24_25': 39,\n",
       " 'Prisur Arbol_24_25': 93,\n",
       " 'Surtiventas Arbol_24_25': 99}"
      ]
     },
     "execution_count": 112,
     "metadata": {},
     "output_type": "execute_result"
    }
   ],
   "execution_count": 112
  },
  {
   "metadata": {
    "ExecuteTime": {
     "end_time": "2025-07-23T15:26:14.544882Z",
     "start_time": "2025-07-23T15:26:14.518933Z"
    }
   },
   "cell_type": "code",
   "source": "exact_matches_counts",
   "id": "8089962184f69986",
   "outputs": [
    {
     "data": {
      "text/plain": [
       "{'PRISA Arbol_24_25': 28,\n",
       " 'Prinorte Arbol_24_25': 65,\n",
       " 'Prisur Arbol_24_25': 180,\n",
       " 'Surtiventas Arbol_24_25': 156}"
      ]
     },
     "execution_count": 113,
     "metadata": {},
     "output_type": "execute_result"
    }
   ],
   "execution_count": 113
  },
  {
   "metadata": {
    "ExecuteTime": {
     "end_time": "2025-07-23T15:26:15.190073Z",
     "start_time": "2025-07-23T15:26:15.155974Z"
    }
   },
   "cell_type": "code",
   "source": "partial_matches_counts",
   "id": "ff34873afda5eeb7",
   "outputs": [
    {
     "data": {
      "text/plain": [
       "{'PRISA Arbol_24_25': 38,\n",
       " 'Prinorte Arbol_24_25': 37,\n",
       " 'Prisur Arbol_24_25': 117,\n",
       " 'Surtiventas Arbol_24_25': 123}"
      ]
     },
     "execution_count": 114,
     "metadata": {},
     "output_type": "execute_result"
    }
   ],
   "execution_count": 114
  },
  {
   "metadata": {
    "ExecuteTime": {
     "end_time": "2025-07-23T15:26:15.655923Z",
     "start_time": "2025-07-23T15:26:15.627294Z"
    }
   },
   "cell_type": "code",
   "source": [
    "dictionaries = [exact_matches_counts, partial_matches_counts, duplicates_counts, confident_counts, needs_review_counts,\n",
    "                filtered_counts]\n",
    "results = dict()\n",
    "for dct in dictionaries:\n",
    "    for key in dct.keys():\n",
    "        if not key in results.keys():\n",
    "            results[key] = dct[key]\n",
    "        else:\n",
    "            results[key] += dct[key]\n"
   ],
   "id": "f87df6a11aca429c",
   "outputs": [],
   "execution_count": 115
  },
  {
   "metadata": {
    "ExecuteTime": {
     "end_time": "2025-07-23T15:28:32.809939Z",
     "start_time": "2025-07-23T15:28:32.774240Z"
    }
   },
   "cell_type": "code",
   "source": "results",
   "id": "46bcf847e1573f93",
   "outputs": [
    {
     "data": {
      "text/plain": [
       "{'PRISA Arbol_24_25': 694,\n",
       " 'Prinorte Arbol_24_25': 244,\n",
       " 'Prisur Arbol_24_25': 719,\n",
       " 'Surtiventas Arbol_24_25': 851}"
      ]
     },
     "execution_count": 119,
     "metadata": {},
     "output_type": "execute_result"
    }
   ],
   "execution_count": 119
  },
  {
   "metadata": {
    "ExecuteTime": {
     "end_time": "2025-07-23T15:48:37.155466Z",
     "start_time": "2025-07-23T15:48:37.124756Z"
    }
   },
   "cell_type": "code",
   "source": "total_count_products",
   "id": "8a83fc6cdeaed364",
   "outputs": [
    {
     "data": {
      "text/plain": [
       "                     Sheet  Product Count\n",
       "0        PRISA Arbol_24_25            587\n",
       "1     Prilogic Arbol_24_25            265\n",
       "2     Prinorte Arbol_24_25            183\n",
       "3       Prisur Arbol_24_25            602\n",
       "4  Surtiventas Arbol_24_25            744"
      ],
      "text/html": [
       "<div>\n",
       "<style scoped>\n",
       "    .dataframe tbody tr th:only-of-type {\n",
       "        vertical-align: middle;\n",
       "    }\n",
       "\n",
       "    .dataframe tbody tr th {\n",
       "        vertical-align: top;\n",
       "    }\n",
       "\n",
       "    .dataframe thead th {\n",
       "        text-align: right;\n",
       "    }\n",
       "</style>\n",
       "<table border=\"1\" class=\"dataframe\">\n",
       "  <thead>\n",
       "    <tr style=\"text-align: right;\">\n",
       "      <th></th>\n",
       "      <th>Sheet</th>\n",
       "      <th>Product Count</th>\n",
       "    </tr>\n",
       "  </thead>\n",
       "  <tbody>\n",
       "    <tr>\n",
       "      <th>0</th>\n",
       "      <td>PRISA Arbol_24_25</td>\n",
       "      <td>587</td>\n",
       "    </tr>\n",
       "    <tr>\n",
       "      <th>1</th>\n",
       "      <td>Prilogic Arbol_24_25</td>\n",
       "      <td>265</td>\n",
       "    </tr>\n",
       "    <tr>\n",
       "      <th>2</th>\n",
       "      <td>Prinorte Arbol_24_25</td>\n",
       "      <td>183</td>\n",
       "    </tr>\n",
       "    <tr>\n",
       "      <th>3</th>\n",
       "      <td>Prisur Arbol_24_25</td>\n",
       "      <td>602</td>\n",
       "    </tr>\n",
       "    <tr>\n",
       "      <th>4</th>\n",
       "      <td>Surtiventas Arbol_24_25</td>\n",
       "      <td>744</td>\n",
       "    </tr>\n",
       "  </tbody>\n",
       "</table>\n",
       "</div>"
      ]
     },
     "execution_count": 125,
     "metadata": {},
     "output_type": "execute_result"
    }
   ],
   "execution_count": 125
  },
  {
   "metadata": {
    "ExecuteTime": {
     "end_time": "2025-07-23T15:48:59.704297Z",
     "start_time": "2025-07-23T15:48:59.679446Z"
    }
   },
   "cell_type": "code",
   "source": "",
   "id": "c08f04a55568d314",
   "outputs": [
    {
     "data": {
      "text/plain": [
       "{0: 'PRISA Arbol_24_25',\n",
       " 1: 'Prilogic Arbol_24_25',\n",
       " 2: 'Prinorte Arbol_24_25',\n",
       " 3: 'Prisur Arbol_24_25',\n",
       " 4: 'Surtiventas Arbol_24_25'}"
      ]
     },
     "execution_count": 127,
     "metadata": {},
     "output_type": "execute_result"
    }
   ],
   "execution_count": 127
  },
  {
   "metadata": {
    "ExecuteTime": {
     "end_time": "2025-07-23T15:46:26.318478Z",
     "start_time": "2025-07-23T15:46:26.269969Z"
    }
   },
   "cell_type": "code",
   "source": [
    "\n",
    "dictionaries = [\n",
    "    duplicates_counts,\n",
    "    exact_matches_counts,\n",
    "    partial_matches_counts,\n",
    "    confident_counts,\n",
    "    needs_review_counts,\n",
    "    filtered_counts,\n",
    "    results\n",
    "]\n",
    "\n",
    "column_names = [\n",
    "    \"Duplicates\",\n",
    "    \"Exact Matches\",\n",
    "    \"Partial Matches\",\n",
    "\n",
    "    \"Confident\",\n",
    "    \"Needs Review\",\n",
    "    \"Unique Products\",\n",
    "    \"Total\"\n",
    "]\n",
    "\n",
    "df = pd.DataFrame(dictionaries, index=column_names).T.fillna(0).astype(int)\n",
    "df.index.name = \"Company\"\n",
    "\n",
    "df\n",
    "# explicaciones para cada categoria\n",
    "# Need review + Confident"
   ],
   "id": "62ae177a85c8624a",
   "outputs": [
    {
     "data": {
      "text/plain": [
       "                         Duplicates  Exact Matches  Partial Matches  \\\n",
       "Company                                                               \n",
       "PRISA Arbol_24_25               128             28               38   \n",
       "Prinorte Arbol_24_25             39             65               37   \n",
       "Prisur Arbol_24_25               93            180              117   \n",
       "Surtiventas Arbol_24_25          99            156              123   \n",
       "\n",
       "                         Confident  Needs Review  Unique Products  Total  \n",
       "Company                                                                   \n",
       "PRISA Arbol_24_25               10            10              480    694  \n",
       "Prinorte Arbol_24_25             6             5               92    244  \n",
       "Prisur Arbol_24_25              27            18              284    719  \n",
       "Surtiventas Arbol_24_25         27            17              429    851  "
      ],
      "text/html": [
       "<div>\n",
       "<style scoped>\n",
       "    .dataframe tbody tr th:only-of-type {\n",
       "        vertical-align: middle;\n",
       "    }\n",
       "\n",
       "    .dataframe tbody tr th {\n",
       "        vertical-align: top;\n",
       "    }\n",
       "\n",
       "    .dataframe thead th {\n",
       "        text-align: right;\n",
       "    }\n",
       "</style>\n",
       "<table border=\"1\" class=\"dataframe\">\n",
       "  <thead>\n",
       "    <tr style=\"text-align: right;\">\n",
       "      <th></th>\n",
       "      <th>Duplicates</th>\n",
       "      <th>Exact Matches</th>\n",
       "      <th>Partial Matches</th>\n",
       "      <th>Confident</th>\n",
       "      <th>Needs Review</th>\n",
       "      <th>Unique Products</th>\n",
       "      <th>Total</th>\n",
       "    </tr>\n",
       "    <tr>\n",
       "      <th>Company</th>\n",
       "      <th></th>\n",
       "      <th></th>\n",
       "      <th></th>\n",
       "      <th></th>\n",
       "      <th></th>\n",
       "      <th></th>\n",
       "      <th></th>\n",
       "    </tr>\n",
       "  </thead>\n",
       "  <tbody>\n",
       "    <tr>\n",
       "      <th>PRISA Arbol_24_25</th>\n",
       "      <td>128</td>\n",
       "      <td>28</td>\n",
       "      <td>38</td>\n",
       "      <td>10</td>\n",
       "      <td>10</td>\n",
       "      <td>480</td>\n",
       "      <td>694</td>\n",
       "    </tr>\n",
       "    <tr>\n",
       "      <th>Prinorte Arbol_24_25</th>\n",
       "      <td>39</td>\n",
       "      <td>65</td>\n",
       "      <td>37</td>\n",
       "      <td>6</td>\n",
       "      <td>5</td>\n",
       "      <td>92</td>\n",
       "      <td>244</td>\n",
       "    </tr>\n",
       "    <tr>\n",
       "      <th>Prisur Arbol_24_25</th>\n",
       "      <td>93</td>\n",
       "      <td>180</td>\n",
       "      <td>117</td>\n",
       "      <td>27</td>\n",
       "      <td>18</td>\n",
       "      <td>284</td>\n",
       "      <td>719</td>\n",
       "    </tr>\n",
       "    <tr>\n",
       "      <th>Surtiventas Arbol_24_25</th>\n",
       "      <td>99</td>\n",
       "      <td>156</td>\n",
       "      <td>123</td>\n",
       "      <td>27</td>\n",
       "      <td>17</td>\n",
       "      <td>429</td>\n",
       "      <td>851</td>\n",
       "    </tr>\n",
       "  </tbody>\n",
       "</table>\n",
       "</div>"
      ]
     },
     "execution_count": 122,
     "metadata": {},
     "output_type": "execute_result"
    }
   ],
   "execution_count": 122
  },
  {
   "metadata": {
    "ExecuteTime": {
     "end_time": "2025-07-23T16:23:53.115779Z",
     "start_time": "2025-07-23T16:23:53.083292Z"
    }
   },
   "cell_type": "code",
   "source": "total_count_products",
   "id": "bbac655b883dcda3",
   "outputs": [
    {
     "data": {
      "text/plain": [
       "                     Sheet  Product Count\n",
       "0        PRISA Arbol_24_25            587\n",
       "1     Prilogic Arbol_24_25            265\n",
       "2     Prinorte Arbol_24_25            183\n",
       "3       Prisur Arbol_24_25            602\n",
       "4  Surtiventas Arbol_24_25            744"
      ],
      "text/html": [
       "<div>\n",
       "<style scoped>\n",
       "    .dataframe tbody tr th:only-of-type {\n",
       "        vertical-align: middle;\n",
       "    }\n",
       "\n",
       "    .dataframe tbody tr th {\n",
       "        vertical-align: top;\n",
       "    }\n",
       "\n",
       "    .dataframe thead th {\n",
       "        text-align: right;\n",
       "    }\n",
       "</style>\n",
       "<table border=\"1\" class=\"dataframe\">\n",
       "  <thead>\n",
       "    <tr style=\"text-align: right;\">\n",
       "      <th></th>\n",
       "      <th>Sheet</th>\n",
       "      <th>Product Count</th>\n",
       "    </tr>\n",
       "  </thead>\n",
       "  <tbody>\n",
       "    <tr>\n",
       "      <th>0</th>\n",
       "      <td>PRISA Arbol_24_25</td>\n",
       "      <td>587</td>\n",
       "    </tr>\n",
       "    <tr>\n",
       "      <th>1</th>\n",
       "      <td>Prilogic Arbol_24_25</td>\n",
       "      <td>265</td>\n",
       "    </tr>\n",
       "    <tr>\n",
       "      <th>2</th>\n",
       "      <td>Prinorte Arbol_24_25</td>\n",
       "      <td>183</td>\n",
       "    </tr>\n",
       "    <tr>\n",
       "      <th>3</th>\n",
       "      <td>Prisur Arbol_24_25</td>\n",
       "      <td>602</td>\n",
       "    </tr>\n",
       "    <tr>\n",
       "      <th>4</th>\n",
       "      <td>Surtiventas Arbol_24_25</td>\n",
       "      <td>744</td>\n",
       "    </tr>\n",
       "  </tbody>\n",
       "</table>\n",
       "</div>"
      ]
     },
     "execution_count": 144,
     "metadata": {},
     "output_type": "execute_result"
    }
   ],
   "execution_count": 144
  },
  {
   "metadata": {
    "ExecuteTime": {
     "end_time": "2025-07-23T16:09:57.855741Z",
     "start_time": "2025-07-23T16:09:57.853136Z"
    }
   },
   "cell_type": "code",
   "source": [
    "from openpyxl import load_workbook\n",
    "from openpyxl.styles import PatternFill\n",
    "\n",
    "excel_path = \"Products for each company.xlsx\"\n",
    "df.to_excel(excel_path, index=False)\n",
    "column_colors = {\n",
    "    \"Duplicates\": \"A52A2A\",       # Brown\n",
    "    \"Exact Matches\": \"87CEEB\",    # Blue\n",
    "    \"Partial Matches\": \"9370DB\",  # Purple\n",
    "    \"Confident\": \"90EE90\",        # Green\n",
    "    \"Needs Review\": \"FFFF99\",     # Yellow\n",
    "    \"Unique Products\": \"FF7F7F\"   # Red\n",
    "}\n",
    "\n",
    "wb = load_workbook(excel_path)\n",
    "ws = wb.active\n",
    "header = [cell.value for cell in ws[1]]\n",
    "for col_name, color in column_colors.items():\n",
    "    if col_name in header:\n",
    "        col_idx = header.index(col_name) + 1\n",
    "        fill = PatternFill(start_color=color, end_color=color, fill_type=\"solid\")\n",
    "        for row in range(2, ws.max_row + 1):  # Skip header (row 1)\n",
    "            ws.cell(row=row, column=col_idx).fill = fill\n",
    "\n",
    "wb.save(excel_path)"
   ],
   "id": "cbdd4bd8941d9a3f",
   "outputs": [],
   "execution_count": 128
  },
  {
   "metadata": {},
   "cell_type": "code",
   "outputs": [],
   "execution_count": null,
   "source": "",
   "id": "73ee38e8add6138a"
  },
  {
   "metadata": {
    "ExecuteTime": {
     "end_time": "2025-07-23T02:52:44.200576Z",
     "start_time": "2025-07-23T02:52:44.184800Z"
    }
   },
   "cell_type": "code",
   "source": "needs_review.loc[needs_review[\"SKU 1\"] == 11484]",
   "id": "68205c3b17b17c5d",
   "outputs": [
    {
     "data": {
      "text/plain": [
       "     Marca                         Nombre SKU 1  SKU 1  \\\n",
       "20  LIPTON  TE DP X 100 BOL LIPTON YELLOW LABEL  11484   \n",
       "\n",
       "                    Sheet 1                            Nombre SKU 2  SKU 2  \\\n",
       "20  Surtiventas Arbol_24_25  TE LIPTON  YELLOW LABEL X 100 BOLSITAS  71075   \n",
       "\n",
       "               Sheet 2  Similarity Numbers 1 Numbers 2  \n",
       "20  Prisur Arbol_24_25          89   [100.0]   [100.0]  "
      ],
      "text/html": [
       "<div>\n",
       "<style scoped>\n",
       "    .dataframe tbody tr th:only-of-type {\n",
       "        vertical-align: middle;\n",
       "    }\n",
       "\n",
       "    .dataframe tbody tr th {\n",
       "        vertical-align: top;\n",
       "    }\n",
       "\n",
       "    .dataframe thead th {\n",
       "        text-align: right;\n",
       "    }\n",
       "</style>\n",
       "<table border=\"1\" class=\"dataframe\">\n",
       "  <thead>\n",
       "    <tr style=\"text-align: right;\">\n",
       "      <th></th>\n",
       "      <th>Marca</th>\n",
       "      <th>Nombre SKU 1</th>\n",
       "      <th>SKU 1</th>\n",
       "      <th>Sheet 1</th>\n",
       "      <th>Nombre SKU 2</th>\n",
       "      <th>SKU 2</th>\n",
       "      <th>Sheet 2</th>\n",
       "      <th>Similarity</th>\n",
       "      <th>Numbers 1</th>\n",
       "      <th>Numbers 2</th>\n",
       "    </tr>\n",
       "  </thead>\n",
       "  <tbody>\n",
       "    <tr>\n",
       "      <th>20</th>\n",
       "      <td>LIPTON</td>\n",
       "      <td>TE DP X 100 BOL LIPTON YELLOW LABEL</td>\n",
       "      <td>11484</td>\n",
       "      <td>Surtiventas Arbol_24_25</td>\n",
       "      <td>TE LIPTON  YELLOW LABEL X 100 BOLSITAS</td>\n",
       "      <td>71075</td>\n",
       "      <td>Prisur Arbol_24_25</td>\n",
       "      <td>89</td>\n",
       "      <td>[100.0]</td>\n",
       "      <td>[100.0]</td>\n",
       "    </tr>\n",
       "  </tbody>\n",
       "</table>\n",
       "</div>"
      ]
     },
     "execution_count": 249,
     "metadata": {},
     "output_type": "execute_result"
    }
   ],
   "execution_count": 249
  },
  {
   "metadata": {
    "ExecuteTime": {
     "end_time": "2025-07-23T02:53:05.779640Z",
     "start_time": "2025-07-23T02:53:05.750690Z"
    }
   },
   "cell_type": "code",
   "outputs": [
    {
     "data": {
      "text/plain": [
       "     Marca                         Nombre SKU 1  SKU 1  \\\n",
       "36  LIPTON  TE DP X 100 BOL LIPTON YELLOW LABEL  11484   \n",
       "\n",
       "                    Sheet 1                     Nombre SKU 2  SKU 2  \\\n",
       "36  Surtiventas Arbol_24_25  TE LIPTON YELLOW LABEL X 100 BL  71075   \n",
       "\n",
       "                 Sheet 2  Similarity Numbers 1 Numbers 2  \n",
       "36  Prinorte Arbol_24_25          94   [100.0]   [100.0]  "
      ],
      "text/html": [
       "<div>\n",
       "<style scoped>\n",
       "    .dataframe tbody tr th:only-of-type {\n",
       "        vertical-align: middle;\n",
       "    }\n",
       "\n",
       "    .dataframe tbody tr th {\n",
       "        vertical-align: top;\n",
       "    }\n",
       "\n",
       "    .dataframe thead th {\n",
       "        text-align: right;\n",
       "    }\n",
       "</style>\n",
       "<table border=\"1\" class=\"dataframe\">\n",
       "  <thead>\n",
       "    <tr style=\"text-align: right;\">\n",
       "      <th></th>\n",
       "      <th>Marca</th>\n",
       "      <th>Nombre SKU 1</th>\n",
       "      <th>SKU 1</th>\n",
       "      <th>Sheet 1</th>\n",
       "      <th>Nombre SKU 2</th>\n",
       "      <th>SKU 2</th>\n",
       "      <th>Sheet 2</th>\n",
       "      <th>Similarity</th>\n",
       "      <th>Numbers 1</th>\n",
       "      <th>Numbers 2</th>\n",
       "    </tr>\n",
       "  </thead>\n",
       "  <tbody>\n",
       "    <tr>\n",
       "      <th>36</th>\n",
       "      <td>LIPTON</td>\n",
       "      <td>TE DP X 100 BOL LIPTON YELLOW LABEL</td>\n",
       "      <td>11484</td>\n",
       "      <td>Surtiventas Arbol_24_25</td>\n",
       "      <td>TE LIPTON YELLOW LABEL X 100 BL</td>\n",
       "      <td>71075</td>\n",
       "      <td>Prinorte Arbol_24_25</td>\n",
       "      <td>94</td>\n",
       "      <td>[100.0]</td>\n",
       "      <td>[100.0]</td>\n",
       "    </tr>\n",
       "  </tbody>\n",
       "</table>\n",
       "</div>"
      ]
     },
     "execution_count": 250,
     "metadata": {},
     "output_type": "execute_result"
    }
   ],
   "execution_count": 250,
   "source": "confident.loc[confident[\"SKU 1\"] == 11484]",
   "id": "86515d3569592b9a"
  },
  {
   "metadata": {},
   "cell_type": "code",
   "outputs": [],
   "execution_count": null,
   "source": "",
   "id": "40ce3e878d7b2f2c"
  },
  {
   "metadata": {},
   "cell_type": "code",
   "outputs": [],
   "execution_count": null,
   "source": "",
   "id": "6ea1d7b606304883"
  },
  {
   "metadata": {},
   "cell_type": "code",
   "outputs": [],
   "execution_count": null,
   "source": "",
   "id": "46faa370410445b7"
  },
  {
   "metadata": {
    "ExecuteTime": {
     "end_time": "2025-07-23T02:55:16.215867Z",
     "start_time": "2025-07-23T02:55:16.192639Z"
    }
   },
   "cell_type": "code",
   "source": "needs_review.loc[needs_review[\"SKU 1\"] == 41058]",
   "id": "9689375128e0ca30",
   "outputs": [
    {
     "data": {
      "text/plain": [
       "     Marca                  Nombre SKU 1  SKU 1                  Sheet 1  \\\n",
       "3  GOURMET  SALSA DE SOYA 165 CC GOURMET  41058  Surtiventas Arbol_24_25   \n",
       "\n",
       "                         Nombre SKU 2  SKU 2             Sheet 2  Similarity  \\\n",
       "3  SALSA DE SOYA SUAVE 165 CC GOURMET  92370  Prisur Arbol_24_25          90   \n",
       "\n",
       "  Numbers 1 Numbers 2  \n",
       "3   [165.0]   [165.0]  "
      ],
      "text/html": [
       "<div>\n",
       "<style scoped>\n",
       "    .dataframe tbody tr th:only-of-type {\n",
       "        vertical-align: middle;\n",
       "    }\n",
       "\n",
       "    .dataframe tbody tr th {\n",
       "        vertical-align: top;\n",
       "    }\n",
       "\n",
       "    .dataframe thead th {\n",
       "        text-align: right;\n",
       "    }\n",
       "</style>\n",
       "<table border=\"1\" class=\"dataframe\">\n",
       "  <thead>\n",
       "    <tr style=\"text-align: right;\">\n",
       "      <th></th>\n",
       "      <th>Marca</th>\n",
       "      <th>Nombre SKU 1</th>\n",
       "      <th>SKU 1</th>\n",
       "      <th>Sheet 1</th>\n",
       "      <th>Nombre SKU 2</th>\n",
       "      <th>SKU 2</th>\n",
       "      <th>Sheet 2</th>\n",
       "      <th>Similarity</th>\n",
       "      <th>Numbers 1</th>\n",
       "      <th>Numbers 2</th>\n",
       "    </tr>\n",
       "  </thead>\n",
       "  <tbody>\n",
       "    <tr>\n",
       "      <th>3</th>\n",
       "      <td>GOURMET</td>\n",
       "      <td>SALSA DE SOYA 165 CC GOURMET</td>\n",
       "      <td>41058</td>\n",
       "      <td>Surtiventas Arbol_24_25</td>\n",
       "      <td>SALSA DE SOYA SUAVE 165 CC GOURMET</td>\n",
       "      <td>92370</td>\n",
       "      <td>Prisur Arbol_24_25</td>\n",
       "      <td>90</td>\n",
       "      <td>[165.0]</td>\n",
       "      <td>[165.0]</td>\n",
       "    </tr>\n",
       "  </tbody>\n",
       "</table>\n",
       "</div>"
      ]
     },
     "execution_count": 255,
     "metadata": {},
     "output_type": "execute_result"
    }
   ],
   "execution_count": 255
  },
  {
   "metadata": {
    "ExecuteTime": {
     "end_time": "2025-07-23T02:55:34.206932Z",
     "start_time": "2025-07-23T02:55:34.181715Z"
    }
   },
   "cell_type": "code",
   "source": "exact_matches.loc[exact_matches[\"SKU 1\"] == 41058]",
   "id": "a825e5343abb30b6",
   "outputs": [
    {
     "data": {
      "text/plain": [
       "       Marca                  Nombre SKU 1  SKU 1                  Sheet 1  \\\n",
       "204  GOURMET  SALSA DE SOYA 165 CC GOURMET  41058  Surtiventas Arbol_24_25   \n",
       "\n",
       "                     Nombre SKU 2  SKU 2             Sheet 2  Similarity  \n",
       "204  SALSA DE SOYA 165 CC GOURMET  41058  Prisur Arbol_24_25         100  "
      ],
      "text/html": [
       "<div>\n",
       "<style scoped>\n",
       "    .dataframe tbody tr th:only-of-type {\n",
       "        vertical-align: middle;\n",
       "    }\n",
       "\n",
       "    .dataframe tbody tr th {\n",
       "        vertical-align: top;\n",
       "    }\n",
       "\n",
       "    .dataframe thead th {\n",
       "        text-align: right;\n",
       "    }\n",
       "</style>\n",
       "<table border=\"1\" class=\"dataframe\">\n",
       "  <thead>\n",
       "    <tr style=\"text-align: right;\">\n",
       "      <th></th>\n",
       "      <th>Marca</th>\n",
       "      <th>Nombre SKU 1</th>\n",
       "      <th>SKU 1</th>\n",
       "      <th>Sheet 1</th>\n",
       "      <th>Nombre SKU 2</th>\n",
       "      <th>SKU 2</th>\n",
       "      <th>Sheet 2</th>\n",
       "      <th>Similarity</th>\n",
       "    </tr>\n",
       "  </thead>\n",
       "  <tbody>\n",
       "    <tr>\n",
       "      <th>204</th>\n",
       "      <td>GOURMET</td>\n",
       "      <td>SALSA DE SOYA 165 CC GOURMET</td>\n",
       "      <td>41058</td>\n",
       "      <td>Surtiventas Arbol_24_25</td>\n",
       "      <td>SALSA DE SOYA 165 CC GOURMET</td>\n",
       "      <td>41058</td>\n",
       "      <td>Prisur Arbol_24_25</td>\n",
       "      <td>100</td>\n",
       "    </tr>\n",
       "  </tbody>\n",
       "</table>\n",
       "</div>"
      ]
     },
     "execution_count": 256,
     "metadata": {},
     "output_type": "execute_result"
    }
   ],
   "execution_count": 256
  },
  {
   "metadata": {},
   "cell_type": "code",
   "outputs": [],
   "execution_count": null,
   "source": "",
   "id": "e2007c83d0fd0332"
  }
 ],
 "metadata": {
  "kernelspec": {
   "display_name": "Python 3",
   "language": "python",
   "name": "python3"
  },
  "language_info": {
   "codemirror_mode": {
    "name": "ipython",
    "version": 2
   },
   "file_extension": ".py",
   "mimetype": "text/x-python",
   "name": "python",
   "nbconvert_exporter": "python",
   "pygments_lexer": "ipython2",
   "version": "2.7.6"
  }
 },
 "nbformat": 4,
 "nbformat_minor": 5
}
