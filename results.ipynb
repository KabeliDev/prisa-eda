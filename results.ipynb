{
 "cells": [
  {
   "cell_type": "code",
   "id": "initial_id",
   "metadata": {
    "collapsed": true,
    "ExecuteTime": {
     "end_time": "2025-07-23T18:58:24.028384Z",
     "start_time": "2025-07-23T18:58:23.465964Z"
    }
   },
   "source": [
    "import importlib\n",
    "import utils\n",
    "import visualization\n",
    "\n",
    "importlib.reload(utils)\n",
    "importlib.reload(visualization)\n",
    "%reload_ext autoreload\n",
    "%autoreload 2\n",
    "from utils import *\n",
    "from visualization import visualize, graficar_distribucion_productos\n",
    "\n",
    "pd.set_option('display.max_colwidth', None)\n"
   ],
   "outputs": [],
   "execution_count": 1
  },
  {
   "metadata": {
    "ExecuteTime": {
     "end_time": "2025-07-23T18:58:24.825478Z",
     "start_time": "2025-07-23T18:58:24.620804Z"
    }
   },
   "cell_type": "code",
   "source": [
    "excel_path = \"/home/viktoria/Downloads/ARBOLES ALIMENTOS EJERCICIO KABELLI.xlsx\"\n",
    "# all data\n",
    "df_all = load_all_sheets(excel_path)\n",
    "\n",
    "print(\"Number os samples in the dataset:\", df_all.shape[0])"
   ],
   "id": "db5261d3a1137306",
   "outputs": [
    {
     "name": "stdout",
     "output_type": "stream",
     "text": [
      "Number os samples in the dataset: 2381\n"
     ]
    }
   ],
   "execution_count": 2
  },
  {
   "metadata": {
    "ExecuteTime": {
     "end_time": "2025-07-23T18:58:25.021664Z",
     "start_time": "2025-07-23T18:58:25.017703Z"
    }
   },
   "cell_type": "code",
   "source": "",
   "id": "da7233d8f9962a67",
   "outputs": [],
   "execution_count": null
  },
  {
   "metadata": {
    "ExecuteTime": {
     "end_time": "2025-07-23T18:58:25.250270Z",
     "start_time": "2025-07-23T18:58:25.246456Z"
    }
   },
   "cell_type": "code",
   "source": "",
   "id": "479ff91ed88dca57",
   "outputs": [],
   "execution_count": null
  },
  {
   "metadata": {
    "ExecuteTime": {
     "end_time": "2025-07-23T18:58:25.668908Z",
     "start_time": "2025-07-23T18:58:25.638817Z"
    }
   },
   "cell_type": "code",
   "source": [
    "total_count_products = (\n",
    "    df_all.groupby('Sheet')\n",
    "    .size()\n",
    "    .reset_index(name='Product Count')\n",
    ")\n",
    "total_count_products"
   ],
   "id": "181bc4d72d1624ce",
   "outputs": [
    {
     "data": {
      "text/plain": [
       "                     Sheet  Product Count\n",
       "0        PRISA Arbol_24_25            587\n",
       "1     Prilogic Arbol_24_25            265\n",
       "2     Prinorte Arbol_24_25            183\n",
       "3       Prisur Arbol_24_25            602\n",
       "4  Surtiventas Arbol_24_25            744"
      ],
      "text/html": [
       "<div>\n",
       "<style scoped>\n",
       "    .dataframe tbody tr th:only-of-type {\n",
       "        vertical-align: middle;\n",
       "    }\n",
       "\n",
       "    .dataframe tbody tr th {\n",
       "        vertical-align: top;\n",
       "    }\n",
       "\n",
       "    .dataframe thead th {\n",
       "        text-align: right;\n",
       "    }\n",
       "</style>\n",
       "<table border=\"1\" class=\"dataframe\">\n",
       "  <thead>\n",
       "    <tr style=\"text-align: right;\">\n",
       "      <th></th>\n",
       "      <th>Sheet</th>\n",
       "      <th>Product Count</th>\n",
       "    </tr>\n",
       "  </thead>\n",
       "  <tbody>\n",
       "    <tr>\n",
       "      <th>0</th>\n",
       "      <td>PRISA Arbol_24_25</td>\n",
       "      <td>587</td>\n",
       "    </tr>\n",
       "    <tr>\n",
       "      <th>1</th>\n",
       "      <td>Prilogic Arbol_24_25</td>\n",
       "      <td>265</td>\n",
       "    </tr>\n",
       "    <tr>\n",
       "      <th>2</th>\n",
       "      <td>Prinorte Arbol_24_25</td>\n",
       "      <td>183</td>\n",
       "    </tr>\n",
       "    <tr>\n",
       "      <th>3</th>\n",
       "      <td>Prisur Arbol_24_25</td>\n",
       "      <td>602</td>\n",
       "    </tr>\n",
       "    <tr>\n",
       "      <th>4</th>\n",
       "      <td>Surtiventas Arbol_24_25</td>\n",
       "      <td>744</td>\n",
       "    </tr>\n",
       "  </tbody>\n",
       "</table>\n",
       "</div>"
      ]
     },
     "execution_count": 3,
     "metadata": {},
     "output_type": "execute_result"
    }
   ],
   "execution_count": 3
  },
  {
   "metadata": {
    "ExecuteTime": {
     "end_time": "2025-07-23T18:58:25.895621Z",
     "start_time": "2025-07-23T18:58:25.891558Z"
    }
   },
   "cell_type": "code",
   "source": "",
   "id": "782aa947d5ba2eb3",
   "outputs": [],
   "execution_count": null
  },
  {
   "metadata": {
    "ExecuteTime": {
     "end_time": "2025-07-23T18:58:26.116126Z",
     "start_time": "2025-07-23T18:58:26.088073Z"
    }
   },
   "cell_type": "code",
   "source": "# Duplicados - los productos con los mismos SKU y Nombres SKU dentro de una subempresa",
   "id": "16f05d42939c499",
   "outputs": [],
   "execution_count": 4
  },
  {
   "metadata": {
    "ExecuteTime": {
     "end_time": "2025-07-23T18:58:26.328769Z",
     "start_time": "2025-07-23T18:58:26.281041Z"
    }
   },
   "cell_type": "code",
   "source": [
    "duplicates = find_internal_duplicates(df_all)\n",
    "print(f\"Number of duplicates: {duplicates.shape[0]}\")"
   ],
   "id": "ea740304d9292d67",
   "outputs": [
    {
     "name": "stdout",
     "output_type": "stream",
     "text": [
      "Number of duplicates: 58\n"
     ]
    }
   ],
   "execution_count": 5
  },
  {
   "metadata": {
    "ExecuteTime": {
     "end_time": "2025-07-23T18:58:26.462123Z",
     "start_time": "2025-07-23T18:58:26.445995Z"
    }
   },
   "cell_type": "code",
   "source": [
    "duplicates.head(5)\n",
    "# all duplicates are from Prilogic Arbol_24_25 company that is not considered\n"
   ],
   "id": "f7b20482bf28d460",
   "outputs": [
    {
     "data": {
      "text/plain": [
       "                                                Marca  \\\n",
       "0                        GALLETA COSTA TUAREG 120 GR.   \n",
       "1                        GALLETA COSTA TUAREG 120 GR.   \n",
       "2                ACEITE COCINA  1 LT. MARAVILLA CHEF.   \n",
       "3                ACEITE COCINA  1 LT. MARAVILLA CHEF.   \n",
       "4  GALLETA ARCOR BOCADITOS 300 GR DULCE/MEMBR HOLANDA   \n",
       "\n",
       "                                           Nombre SKU    SKU  \\\n",
       "0                        GALLETA COSTA TUAREG 120 GR.  10243   \n",
       "1                        GALLETA COSTA TUAREG 120 GR.  10243   \n",
       "2                ACEITE COCINA  1 LT. MARAVILLA CHEF.  12599   \n",
       "3                ACEITE COCINA  1 LT. MARAVILLA CHEF.  12599   \n",
       "4  GALLETA ARCOR BOCADITOS 300 GR DULCE/MEMBR HOLANDA  14266   \n",
       "\n",
       "                  Sheet  \n",
       "0  Prilogic Arbol_24_25  \n",
       "1  Prilogic Arbol_24_25  \n",
       "2  Prilogic Arbol_24_25  \n",
       "3  Prilogic Arbol_24_25  \n",
       "4  Prilogic Arbol_24_25  "
      ],
      "text/html": [
       "<div>\n",
       "<style scoped>\n",
       "    .dataframe tbody tr th:only-of-type {\n",
       "        vertical-align: middle;\n",
       "    }\n",
       "\n",
       "    .dataframe tbody tr th {\n",
       "        vertical-align: top;\n",
       "    }\n",
       "\n",
       "    .dataframe thead th {\n",
       "        text-align: right;\n",
       "    }\n",
       "</style>\n",
       "<table border=\"1\" class=\"dataframe\">\n",
       "  <thead>\n",
       "    <tr style=\"text-align: right;\">\n",
       "      <th></th>\n",
       "      <th>Marca</th>\n",
       "      <th>Nombre SKU</th>\n",
       "      <th>SKU</th>\n",
       "      <th>Sheet</th>\n",
       "    </tr>\n",
       "  </thead>\n",
       "  <tbody>\n",
       "    <tr>\n",
       "      <th>0</th>\n",
       "      <td>GALLETA COSTA TUAREG 120 GR.</td>\n",
       "      <td>GALLETA COSTA TUAREG 120 GR.</td>\n",
       "      <td>10243</td>\n",
       "      <td>Prilogic Arbol_24_25</td>\n",
       "    </tr>\n",
       "    <tr>\n",
       "      <th>1</th>\n",
       "      <td>GALLETA COSTA TUAREG 120 GR.</td>\n",
       "      <td>GALLETA COSTA TUAREG 120 GR.</td>\n",
       "      <td>10243</td>\n",
       "      <td>Prilogic Arbol_24_25</td>\n",
       "    </tr>\n",
       "    <tr>\n",
       "      <th>2</th>\n",
       "      <td>ACEITE COCINA  1 LT. MARAVILLA CHEF.</td>\n",
       "      <td>ACEITE COCINA  1 LT. MARAVILLA CHEF.</td>\n",
       "      <td>12599</td>\n",
       "      <td>Prilogic Arbol_24_25</td>\n",
       "    </tr>\n",
       "    <tr>\n",
       "      <th>3</th>\n",
       "      <td>ACEITE COCINA  1 LT. MARAVILLA CHEF.</td>\n",
       "      <td>ACEITE COCINA  1 LT. MARAVILLA CHEF.</td>\n",
       "      <td>12599</td>\n",
       "      <td>Prilogic Arbol_24_25</td>\n",
       "    </tr>\n",
       "    <tr>\n",
       "      <th>4</th>\n",
       "      <td>GALLETA ARCOR BOCADITOS 300 GR DULCE/MEMBR HOLANDA</td>\n",
       "      <td>GALLETA ARCOR BOCADITOS 300 GR DULCE/MEMBR HOLANDA</td>\n",
       "      <td>14266</td>\n",
       "      <td>Prilogic Arbol_24_25</td>\n",
       "    </tr>\n",
       "  </tbody>\n",
       "</table>\n",
       "</div>"
      ]
     },
     "execution_count": 6,
     "metadata": {},
     "output_type": "execute_result"
    }
   ],
   "execution_count": 6
  },
  {
   "metadata": {
    "ExecuteTime": {
     "end_time": "2025-07-23T18:58:26.651934Z",
     "start_time": "2025-07-23T18:58:26.639409Z"
    }
   },
   "cell_type": "code",
   "source": [
    "# The unique number of duplicates\n",
    "unique_duplicates = duplicates.groupby([\"Nombre SKU\", \"Marca\", \"SKU\"]).count()\n",
    "print(f\"Number of duplicated products: {unique_duplicates.shape[0]}\")"
   ],
   "id": "6c7b9747edd628f4",
   "outputs": [
    {
     "name": "stdout",
     "output_type": "stream",
     "text": [
      "Number of duplicated products: 29\n"
     ]
    }
   ],
   "execution_count": 7
  },
  {
   "metadata": {
    "ExecuteTime": {
     "end_time": "2025-07-23T18:58:26.854717Z",
     "start_time": "2025-07-23T18:58:26.826945Z"
    }
   },
   "cell_type": "code",
   "source": "unique_duplicates.head()",
   "id": "8cc09c3daae5ce51",
   "outputs": [
    {
     "data": {
      "text/plain": [
       "                                                                                       Sheet\n",
       "Nombre SKU                              Marca                                   SKU         \n",
       "ACEITE COCINA  1 LT. MARAVILLA CHEF.    ACEITE COCINA  1 LT. MARAVILLA CHEF.    12599      2\n",
       "AGUA MINERAL   500 CC BENEDICTINO S/GAS AGUA MINERAL   500 CC BENEDICTINO S/GAS 16817      2\n",
       "AGUA MINERAL   500 CC CACHANTUN C/GAS   AGUA MINERAL   500 CC CACHANTUN C/GAS   82036      2\n",
       "AGUA MINERAL   600 CC VITAL S/GAS       AGUA MINERAL   600 CC VITAL S/GAS       82041      2\n",
       "AZUCAR 1 KL. IANSA BOLSA GRADO 1        AZUCAR 1 KL. IANSA BOLSA GRADO 1        99839      2"
      ],
      "text/html": [
       "<div>\n",
       "<style scoped>\n",
       "    .dataframe tbody tr th:only-of-type {\n",
       "        vertical-align: middle;\n",
       "    }\n",
       "\n",
       "    .dataframe tbody tr th {\n",
       "        vertical-align: top;\n",
       "    }\n",
       "\n",
       "    .dataframe thead th {\n",
       "        text-align: right;\n",
       "    }\n",
       "</style>\n",
       "<table border=\"1\" class=\"dataframe\">\n",
       "  <thead>\n",
       "    <tr style=\"text-align: right;\">\n",
       "      <th></th>\n",
       "      <th></th>\n",
       "      <th></th>\n",
       "      <th>Sheet</th>\n",
       "    </tr>\n",
       "    <tr>\n",
       "      <th>Nombre SKU</th>\n",
       "      <th>Marca</th>\n",
       "      <th>SKU</th>\n",
       "      <th></th>\n",
       "    </tr>\n",
       "  </thead>\n",
       "  <tbody>\n",
       "    <tr>\n",
       "      <th>ACEITE COCINA  1 LT. MARAVILLA CHEF.</th>\n",
       "      <th>ACEITE COCINA  1 LT. MARAVILLA CHEF.</th>\n",
       "      <th>12599</th>\n",
       "      <td>2</td>\n",
       "    </tr>\n",
       "    <tr>\n",
       "      <th>AGUA MINERAL   500 CC BENEDICTINO S/GAS</th>\n",
       "      <th>AGUA MINERAL   500 CC BENEDICTINO S/GAS</th>\n",
       "      <th>16817</th>\n",
       "      <td>2</td>\n",
       "    </tr>\n",
       "    <tr>\n",
       "      <th>AGUA MINERAL   500 CC CACHANTUN C/GAS</th>\n",
       "      <th>AGUA MINERAL   500 CC CACHANTUN C/GAS</th>\n",
       "      <th>82036</th>\n",
       "      <td>2</td>\n",
       "    </tr>\n",
       "    <tr>\n",
       "      <th>AGUA MINERAL   600 CC VITAL S/GAS</th>\n",
       "      <th>AGUA MINERAL   600 CC VITAL S/GAS</th>\n",
       "      <th>82041</th>\n",
       "      <td>2</td>\n",
       "    </tr>\n",
       "    <tr>\n",
       "      <th>AZUCAR 1 KL. IANSA BOLSA GRADO 1</th>\n",
       "      <th>AZUCAR 1 KL. IANSA BOLSA GRADO 1</th>\n",
       "      <th>99839</th>\n",
       "      <td>2</td>\n",
       "    </tr>\n",
       "  </tbody>\n",
       "</table>\n",
       "</div>"
      ]
     },
     "execution_count": 8,
     "metadata": {},
     "output_type": "execute_result"
    }
   ],
   "execution_count": 8
  },
  {
   "metadata": {
    "ExecuteTime": {
     "end_time": "2025-07-23T18:58:27.021561Z",
     "start_time": "2025-07-23T18:58:27.017670Z"
    }
   },
   "cell_type": "code",
   "source": "",
   "id": "c6bb1d06dbcf114e",
   "outputs": [],
   "execution_count": null
  },
  {
   "metadata": {
    "ExecuteTime": {
     "end_time": "2025-07-23T18:58:27.228130Z",
     "start_time": "2025-07-23T18:58:27.212966Z"
    }
   },
   "cell_type": "code",
   "source": [
    "# There are no duplicates with exact same Nombre SKU in other companies besides Prilogic Arbol_24_25\n",
    "unique_sheets = duplicates['Sheet'].unique()\n",
    "unique_sheets = [sheet for sheet in unique_sheets if sheet != \"Prilogic Arbol_24_25\"]\n",
    "\n",
    "duplicates_counts = {}\n",
    "\n",
    "for sheet in unique_sheets:\n",
    "    sub_df = duplicates[duplicates['Sheet'] == sheet]\n",
    "    duplicates_counts[sheet] = sub_df.shape[0]\n",
    "\n",
    "print(duplicates_counts)"
   ],
   "id": "275b14a4151d4ea0",
   "outputs": [
    {
     "name": "stdout",
     "output_type": "stream",
     "text": [
      "{}\n"
     ]
    }
   ],
   "execution_count": 9
  },
  {
   "metadata": {
    "ExecuteTime": {
     "end_time": "2025-07-23T18:58:27.408092Z",
     "start_time": "2025-07-23T18:58:27.391892Z"
    }
   },
   "cell_type": "code",
   "source": [
    "# for futher analisis we do not consider duplicates\n",
    "df_all = df_all.drop_duplicates([\"Marca\", \"Nombre SKU\", \"SKU\", \"Sheet\"])"
   ],
   "id": "6ceca18082ffeeec",
   "outputs": [],
   "execution_count": 10
  },
  {
   "metadata": {},
   "cell_type": "markdown",
   "source": "### Busqueda de los productos iguales que tienen SKU iguales en las diferentes subempresas",
   "id": "4cf93a3a06cb74af"
  },
  {
   "metadata": {
    "ExecuteTime": {
     "end_time": "2025-07-23T18:58:30.332343Z",
     "start_time": "2025-07-23T18:58:27.775775Z"
    }
   },
   "cell_type": "code",
   "source": [
    "data = load_all_sheets(excel_path)\n",
    "\n",
    "correct_products = find_similar_products(data, 88, different_sku=False)\n",
    "correct_products = correct_products.copy()\n",
    "correct_products = remove_flavor_variants(correct_products)\n",
    "columns_to_show = [col for col in correct_products.columns if col not in ['Numbers 1', 'Numbers 2']]\n",
    "correct_products = correct_products.loc[:, columns_to_show]\n",
    "exact_matches = correct_products[correct_products['Similarity'] == 100]\n",
    "partial_matches = correct_products[correct_products['Similarity'] < 100]"
   ],
   "id": "4322a1f6fbf34a12",
   "outputs": [],
   "execution_count": 11
  },
  {
   "metadata": {
    "ExecuteTime": {
     "end_time": "2025-07-23T18:58:30.350314Z",
     "start_time": "2025-07-23T18:58:30.338683Z"
    }
   },
   "cell_type": "code",
   "source": [
    "# Los productos que tienen nombres iguales y SKU iguales\n",
    "same_name_same_sku = exact_matches.shape[0]\n",
    "print(same_name_same_sku)"
   ],
   "id": "dfa3f4435a371c46",
   "outputs": [
    {
     "name": "stdout",
     "output_type": "stream",
     "text": [
      "264\n"
     ]
    }
   ],
   "execution_count": 12
  },
  {
   "metadata": {
    "ExecuteTime": {
     "end_time": "2025-07-23T18:58:30.403626Z",
     "start_time": "2025-07-23T18:58:30.388114Z"
    }
   },
   "cell_type": "code",
   "source": "exact_matches.head(5)",
   "id": "57d0c7e0fe9a6907",
   "outputs": [
    {
     "data": {
      "text/plain": [
       "        Marca                          Nombre SKU 1  SKU 1  \\\n",
       "0     CASTANO  PAN DE PASCUA 500 GR CLASICO CASTANO  21720   \n",
       "1    LUCHETTI              SEMOLA 250 GR. LUCCHETTI  74627   \n",
       "2  LOS CHINOS        ARROZ 1 KG. GRADO 2 LOS CHINOS  78183   \n",
       "3     VITELLI  SOPA INST. 65 GR SABOR POLLO VITELLI  72472   \n",
       "4     VITELLI  SOPA INST. 65 GR SABOR CARNE VITELLI  72472   \n",
       "\n",
       "                   Sheet 1                          Nombre SKU 2  SKU 2  \\\n",
       "0  Surtiventas Arbol_24_25  PAN DE PASCUA 500 GR CLASICO CASTANO  21720   \n",
       "1  Surtiventas Arbol_24_25              SEMOLA 250 GR. LUCCHETTI  74627   \n",
       "2     Prinorte Arbol_24_25        ARROZ 1 KG. GRADO 2 LOS CHINOS  78183   \n",
       "3  Surtiventas Arbol_24_25  SOPA INST. 65 GR SABOR POLLO VITELLI  72472   \n",
       "4  Surtiventas Arbol_24_25  SOPA INST. 65 GR SABOR CARNE VITELLI  72472   \n",
       "\n",
       "              Sheet 2  Similarity  \n",
       "0  Prisur Arbol_24_25         100  \n",
       "1  Prisur Arbol_24_25         100  \n",
       "2  Prisur Arbol_24_25         100  \n",
       "3  Prisur Arbol_24_25         100  \n",
       "4  Prisur Arbol_24_25         100  "
      ],
      "text/html": [
       "<div>\n",
       "<style scoped>\n",
       "    .dataframe tbody tr th:only-of-type {\n",
       "        vertical-align: middle;\n",
       "    }\n",
       "\n",
       "    .dataframe tbody tr th {\n",
       "        vertical-align: top;\n",
       "    }\n",
       "\n",
       "    .dataframe thead th {\n",
       "        text-align: right;\n",
       "    }\n",
       "</style>\n",
       "<table border=\"1\" class=\"dataframe\">\n",
       "  <thead>\n",
       "    <tr style=\"text-align: right;\">\n",
       "      <th></th>\n",
       "      <th>Marca</th>\n",
       "      <th>Nombre SKU 1</th>\n",
       "      <th>SKU 1</th>\n",
       "      <th>Sheet 1</th>\n",
       "      <th>Nombre SKU 2</th>\n",
       "      <th>SKU 2</th>\n",
       "      <th>Sheet 2</th>\n",
       "      <th>Similarity</th>\n",
       "    </tr>\n",
       "  </thead>\n",
       "  <tbody>\n",
       "    <tr>\n",
       "      <th>0</th>\n",
       "      <td>CASTANO</td>\n",
       "      <td>PAN DE PASCUA 500 GR CLASICO CASTANO</td>\n",
       "      <td>21720</td>\n",
       "      <td>Surtiventas Arbol_24_25</td>\n",
       "      <td>PAN DE PASCUA 500 GR CLASICO CASTANO</td>\n",
       "      <td>21720</td>\n",
       "      <td>Prisur Arbol_24_25</td>\n",
       "      <td>100</td>\n",
       "    </tr>\n",
       "    <tr>\n",
       "      <th>1</th>\n",
       "      <td>LUCHETTI</td>\n",
       "      <td>SEMOLA 250 GR. LUCCHETTI</td>\n",
       "      <td>74627</td>\n",
       "      <td>Surtiventas Arbol_24_25</td>\n",
       "      <td>SEMOLA 250 GR. LUCCHETTI</td>\n",
       "      <td>74627</td>\n",
       "      <td>Prisur Arbol_24_25</td>\n",
       "      <td>100</td>\n",
       "    </tr>\n",
       "    <tr>\n",
       "      <th>2</th>\n",
       "      <td>LOS CHINOS</td>\n",
       "      <td>ARROZ 1 KG. GRADO 2 LOS CHINOS</td>\n",
       "      <td>78183</td>\n",
       "      <td>Prinorte Arbol_24_25</td>\n",
       "      <td>ARROZ 1 KG. GRADO 2 LOS CHINOS</td>\n",
       "      <td>78183</td>\n",
       "      <td>Prisur Arbol_24_25</td>\n",
       "      <td>100</td>\n",
       "    </tr>\n",
       "    <tr>\n",
       "      <th>3</th>\n",
       "      <td>VITELLI</td>\n",
       "      <td>SOPA INST. 65 GR SABOR POLLO VITELLI</td>\n",
       "      <td>72472</td>\n",
       "      <td>Surtiventas Arbol_24_25</td>\n",
       "      <td>SOPA INST. 65 GR SABOR POLLO VITELLI</td>\n",
       "      <td>72472</td>\n",
       "      <td>Prisur Arbol_24_25</td>\n",
       "      <td>100</td>\n",
       "    </tr>\n",
       "    <tr>\n",
       "      <th>4</th>\n",
       "      <td>VITELLI</td>\n",
       "      <td>SOPA INST. 65 GR SABOR CARNE VITELLI</td>\n",
       "      <td>72472</td>\n",
       "      <td>Surtiventas Arbol_24_25</td>\n",
       "      <td>SOPA INST. 65 GR SABOR CARNE VITELLI</td>\n",
       "      <td>72472</td>\n",
       "      <td>Prisur Arbol_24_25</td>\n",
       "      <td>100</td>\n",
       "    </tr>\n",
       "  </tbody>\n",
       "</table>\n",
       "</div>"
      ]
     },
     "execution_count": 13,
     "metadata": {},
     "output_type": "execute_result"
    }
   ],
   "execution_count": 13
  },
  {
   "metadata": {
    "ExecuteTime": {
     "end_time": "2025-07-23T18:58:30.469946Z",
     "start_time": "2025-07-23T18:58:30.449878Z"
    }
   },
   "cell_type": "code",
   "source": [
    "# Los productos que tienen nombres parecidos pero no iguales, SKU son iguales\n",
    "similar_name_same_sku = partial_matches.shape[0]\n",
    "print(similar_name_same_sku)"
   ],
   "id": "a3319661b769ba9f",
   "outputs": [
    {
     "name": "stdout",
     "output_type": "stream",
     "text": [
      "216\n"
     ]
    }
   ],
   "execution_count": 14
  },
  {
   "metadata": {
    "ExecuteTime": {
     "end_time": "2025-07-23T18:58:30.532514Z",
     "start_time": "2025-07-23T18:58:30.508264Z"
    }
   },
   "cell_type": "code",
   "source": "partial_matches.head(5)",
   "id": "ab3f258ef6891f9d",
   "outputs": [
    {
     "data": {
      "text/plain": [
       "       Marca                                     Nombre SKU 1  SKU 1  \\\n",
       "264  GOURMET          ESCENCIA DE PAN DE PASCUA 60 CC GOURMET  41077   \n",
       "265  GOURMET   CONDIMENTO CANELA ENTERA 15 GR X 50 UN GOURMET  41022   \n",
       "266     VIVO          JUGO NATURAL  190 ML VIVO PI¥A DP/3 UND  44103   \n",
       "267      LIV            AGUA MINERAL LIV 500 ML S/GAS X 12 UN  43738   \n",
       "268   SVELTY  LECHE EN POLVO  800 GR. SVELTY DESCRE. SOFTPACK  88276   \n",
       "\n",
       "                     Sheet 1                                     Nombre SKU 2  \\\n",
       "264  Surtiventas Arbol_24_25           ESENCIA DE PAN DE PASCUA 60 CC GOURMET   \n",
       "265  Surtiventas Arbol_24_25  CONDIMENTO CANELA ENTERA 15 GR X 50 UND GOURMET   \n",
       "266        PRISA Arbol_24_25           JUGO NATURAL 190 ML VIVO PINA DP/3 UND   \n",
       "267  Surtiventas Arbol_24_25           AGUA MINERAL LIV 500 ML S/GAS X 12 UND   \n",
       "268        PRISA Arbol_24_25    LECHE EN POLVO  800 GR SVELTY DESCR. SOFTPACK   \n",
       "\n",
       "     SKU 2               Sheet 2  Similarity  \n",
       "264  41077    Prisur Arbol_24_25          99  \n",
       "265  41022    Prisur Arbol_24_25          99  \n",
       "266  44103  Prinorte Arbol_24_25          99  \n",
       "267  43738    Prisur Arbol_24_25          99  \n",
       "268  88276  Prinorte Arbol_24_25          99  "
      ],
      "text/html": [
       "<div>\n",
       "<style scoped>\n",
       "    .dataframe tbody tr th:only-of-type {\n",
       "        vertical-align: middle;\n",
       "    }\n",
       "\n",
       "    .dataframe tbody tr th {\n",
       "        vertical-align: top;\n",
       "    }\n",
       "\n",
       "    .dataframe thead th {\n",
       "        text-align: right;\n",
       "    }\n",
       "</style>\n",
       "<table border=\"1\" class=\"dataframe\">\n",
       "  <thead>\n",
       "    <tr style=\"text-align: right;\">\n",
       "      <th></th>\n",
       "      <th>Marca</th>\n",
       "      <th>Nombre SKU 1</th>\n",
       "      <th>SKU 1</th>\n",
       "      <th>Sheet 1</th>\n",
       "      <th>Nombre SKU 2</th>\n",
       "      <th>SKU 2</th>\n",
       "      <th>Sheet 2</th>\n",
       "      <th>Similarity</th>\n",
       "    </tr>\n",
       "  </thead>\n",
       "  <tbody>\n",
       "    <tr>\n",
       "      <th>264</th>\n",
       "      <td>GOURMET</td>\n",
       "      <td>ESCENCIA DE PAN DE PASCUA 60 CC GOURMET</td>\n",
       "      <td>41077</td>\n",
       "      <td>Surtiventas Arbol_24_25</td>\n",
       "      <td>ESENCIA DE PAN DE PASCUA 60 CC GOURMET</td>\n",
       "      <td>41077</td>\n",
       "      <td>Prisur Arbol_24_25</td>\n",
       "      <td>99</td>\n",
       "    </tr>\n",
       "    <tr>\n",
       "      <th>265</th>\n",
       "      <td>GOURMET</td>\n",
       "      <td>CONDIMENTO CANELA ENTERA 15 GR X 50 UN GOURMET</td>\n",
       "      <td>41022</td>\n",
       "      <td>Surtiventas Arbol_24_25</td>\n",
       "      <td>CONDIMENTO CANELA ENTERA 15 GR X 50 UND GOURMET</td>\n",
       "      <td>41022</td>\n",
       "      <td>Prisur Arbol_24_25</td>\n",
       "      <td>99</td>\n",
       "    </tr>\n",
       "    <tr>\n",
       "      <th>266</th>\n",
       "      <td>VIVO</td>\n",
       "      <td>JUGO NATURAL  190 ML VIVO PI¥A DP/3 UND</td>\n",
       "      <td>44103</td>\n",
       "      <td>PRISA Arbol_24_25</td>\n",
       "      <td>JUGO NATURAL 190 ML VIVO PINA DP/3 UND</td>\n",
       "      <td>44103</td>\n",
       "      <td>Prinorte Arbol_24_25</td>\n",
       "      <td>99</td>\n",
       "    </tr>\n",
       "    <tr>\n",
       "      <th>267</th>\n",
       "      <td>LIV</td>\n",
       "      <td>AGUA MINERAL LIV 500 ML S/GAS X 12 UN</td>\n",
       "      <td>43738</td>\n",
       "      <td>Surtiventas Arbol_24_25</td>\n",
       "      <td>AGUA MINERAL LIV 500 ML S/GAS X 12 UND</td>\n",
       "      <td>43738</td>\n",
       "      <td>Prisur Arbol_24_25</td>\n",
       "      <td>99</td>\n",
       "    </tr>\n",
       "    <tr>\n",
       "      <th>268</th>\n",
       "      <td>SVELTY</td>\n",
       "      <td>LECHE EN POLVO  800 GR. SVELTY DESCRE. SOFTPACK</td>\n",
       "      <td>88276</td>\n",
       "      <td>PRISA Arbol_24_25</td>\n",
       "      <td>LECHE EN POLVO  800 GR SVELTY DESCR. SOFTPACK</td>\n",
       "      <td>88276</td>\n",
       "      <td>Prinorte Arbol_24_25</td>\n",
       "      <td>99</td>\n",
       "    </tr>\n",
       "  </tbody>\n",
       "</table>\n",
       "</div>"
      ]
     },
     "execution_count": 15,
     "metadata": {},
     "output_type": "execute_result"
    }
   ],
   "execution_count": 15
  },
  {
   "metadata": {
    "ExecuteTime": {
     "end_time": "2025-07-23T18:58:30.564689Z",
     "start_time": "2025-07-23T18:58:30.562330Z"
    }
   },
   "cell_type": "code",
   "source": "",
   "id": "c8aa3539f4e782cd",
   "outputs": [],
   "execution_count": null
  },
  {
   "metadata": {
    "ExecuteTime": {
     "end_time": "2025-07-23T18:58:30.649067Z",
     "start_time": "2025-07-23T18:58:30.610552Z"
    }
   },
   "cell_type": "code",
   "source": "exact_matches_counts = count_unique_products_per_sheet(exact_matches)",
   "id": "8ed3ebc053a9ead3",
   "outputs": [],
   "execution_count": 16
  },
  {
   "metadata": {
    "ExecuteTime": {
     "end_time": "2025-07-23T18:58:30.684212Z",
     "start_time": "2025-07-23T18:58:30.659855Z"
    }
   },
   "cell_type": "code",
   "source": "partial_matches_counts = count_unique_products_per_sheet(partial_matches)",
   "id": "7e53c005c26bbc73",
   "outputs": [],
   "execution_count": 17
  },
  {
   "metadata": {},
   "cell_type": "markdown",
   "source": "### Busqueda de los productos iguales que tienen diferentes SKU",
   "id": "f752f61609b9771d"
  },
  {
   "metadata": {
    "ExecuteTime": {
     "end_time": "2025-07-23T18:58:30.734513Z",
     "start_time": "2025-07-23T18:58:30.713160Z"
    }
   },
   "cell_type": "code",
   "source": "#Busqueda de los productos iguales que tienen diferentes SKU",
   "id": "ae4f5e07b11f801",
   "outputs": [],
   "execution_count": 18
  },
  {
   "metadata": {
    "ExecuteTime": {
     "end_time": "2025-07-23T18:58:30.776475Z",
     "start_time": "2025-07-23T18:58:30.773229Z"
    }
   },
   "cell_type": "code",
   "source": "",
   "id": "34fb108080381ebd",
   "outputs": [],
   "execution_count": null
  },
  {
   "metadata": {
    "ExecuteTime": {
     "end_time": "2025-07-23T18:58:33.358360Z",
     "start_time": "2025-07-23T18:58:30.824999Z"
    }
   },
   "cell_type": "code",
   "source": [
    "excel_path = \"/home/viktoria/Downloads/ARBOLES ALIMENTOS EJERCICIO KABELLI.xlsx\"\n",
    "\n",
    "confident, needs_review = process_excel_for_duplicates(\n",
    "    excel_path,\n",
    "    confidence_threshold=93,\n",
    "    low_confidence_threshold=85\n",
    ")\n"
   ],
   "id": "3a2098c528a571a2",
   "outputs": [],
   "execution_count": 19
  },
  {
   "metadata": {
    "ExecuteTime": {
     "end_time": "2025-07-23T18:58:33.375437Z",
     "start_time": "2025-07-23T18:58:33.364717Z"
    }
   },
   "cell_type": "code",
   "source": [
    "different_sku_conf = confident.shape[0]\n",
    "different_sku_conf"
   ],
   "id": "6fa154e4eb1bfa02",
   "outputs": [
    {
     "data": {
      "text/plain": [
       "58"
      ]
     },
     "execution_count": 20,
     "metadata": {},
     "output_type": "execute_result"
    }
   ],
   "execution_count": 20
  },
  {
   "metadata": {
    "ExecuteTime": {
     "end_time": "2025-07-23T18:58:33.442051Z",
     "start_time": "2025-07-23T18:58:33.422241Z"
    }
   },
   "cell_type": "code",
   "source": [
    "different_sku_review = needs_review.shape[0]\n",
    "different_sku_review"
   ],
   "id": "6ae7c83b072ff256",
   "outputs": [
    {
     "data": {
      "text/plain": [
       "44"
      ]
     },
     "execution_count": 21,
     "metadata": {},
     "output_type": "execute_result"
    }
   ],
   "execution_count": 21
  },
  {
   "metadata": {
    "ExecuteTime": {
     "end_time": "2025-07-23T18:58:33.507930Z",
     "start_time": "2025-07-23T18:58:33.483229Z"
    }
   },
   "cell_type": "code",
   "source": "confident.head(5)",
   "id": "3a23aa1221082748",
   "outputs": [
    {
     "data": {
      "text/plain": [
       "     Marca                                      Nombre SKU 1  SKU 1  \\\n",
       "0  COLISEO             ATUN DESMENUZADO AGUA 170 GR  COLISEO  97840   \n",
       "1  COLISEO             ATUN DESMENUZADO AGUA 170 GR  COLISEO  97840   \n",
       "2    DEYCO                    ATUN LOMITOS AGUA 160 GR DEYCO  72260   \n",
       "3  GOURMET  CONDIMENTO CARNE PREMIUM 45 GR MOLINILLO GOURMET  92467   \n",
       "4    KRAFT      MAYONESA  90 GR SACHET DP X 18 UN DELI KRAFT  92286   \n",
       "\n",
       "                   Sheet 1                                      Nombre SKU 2  \\\n",
       "0        PRISA Arbol_24_25              ATUN DESMENUZADO AGUA 170 GR COLISEO   \n",
       "1        PRISA Arbol_24_25              ATUN DESMENUZADO AGUA 170 GR COLISEO   \n",
       "2  Surtiventas Arbol_24_25                    ATUN LOMITOS AGUA 160 GR DEYCO   \n",
       "3  Surtiventas Arbol_24_25  CONDIMENTO CARNE PREMIUM 45 GR MOLINILLO GOURMET   \n",
       "4  Surtiventas Arbol_24_25       MAYONESA 90 GR SACHET DP X 18 UN DELI KRAFT   \n",
       "\n",
       "   SKU 2                  Sheet 2  Similarity     Numbers 1     Numbers 2  \n",
       "0  85102       Prisur Arbol_24_25         100       [170.0]       [170.0]  \n",
       "1  75969  Surtiventas Arbol_24_25         100       [170.0]       [170.0]  \n",
       "2  98372     Prinorte Arbol_24_25         100       [160.0]       [160.0]  \n",
       "3  92362       Prisur Arbol_24_25         100        [45.0]        [45.0]  \n",
       "4  41682     Prinorte Arbol_24_25         100  [90.0, 18.0]  [90.0, 18.0]  "
      ],
      "text/html": [
       "<div>\n",
       "<style scoped>\n",
       "    .dataframe tbody tr th:only-of-type {\n",
       "        vertical-align: middle;\n",
       "    }\n",
       "\n",
       "    .dataframe tbody tr th {\n",
       "        vertical-align: top;\n",
       "    }\n",
       "\n",
       "    .dataframe thead th {\n",
       "        text-align: right;\n",
       "    }\n",
       "</style>\n",
       "<table border=\"1\" class=\"dataframe\">\n",
       "  <thead>\n",
       "    <tr style=\"text-align: right;\">\n",
       "      <th></th>\n",
       "      <th>Marca</th>\n",
       "      <th>Nombre SKU 1</th>\n",
       "      <th>SKU 1</th>\n",
       "      <th>Sheet 1</th>\n",
       "      <th>Nombre SKU 2</th>\n",
       "      <th>SKU 2</th>\n",
       "      <th>Sheet 2</th>\n",
       "      <th>Similarity</th>\n",
       "      <th>Numbers 1</th>\n",
       "      <th>Numbers 2</th>\n",
       "    </tr>\n",
       "  </thead>\n",
       "  <tbody>\n",
       "    <tr>\n",
       "      <th>0</th>\n",
       "      <td>COLISEO</td>\n",
       "      <td>ATUN DESMENUZADO AGUA 170 GR  COLISEO</td>\n",
       "      <td>97840</td>\n",
       "      <td>PRISA Arbol_24_25</td>\n",
       "      <td>ATUN DESMENUZADO AGUA 170 GR COLISEO</td>\n",
       "      <td>85102</td>\n",
       "      <td>Prisur Arbol_24_25</td>\n",
       "      <td>100</td>\n",
       "      <td>[170.0]</td>\n",
       "      <td>[170.0]</td>\n",
       "    </tr>\n",
       "    <tr>\n",
       "      <th>1</th>\n",
       "      <td>COLISEO</td>\n",
       "      <td>ATUN DESMENUZADO AGUA 170 GR  COLISEO</td>\n",
       "      <td>97840</td>\n",
       "      <td>PRISA Arbol_24_25</td>\n",
       "      <td>ATUN DESMENUZADO AGUA 170 GR COLISEO</td>\n",
       "      <td>75969</td>\n",
       "      <td>Surtiventas Arbol_24_25</td>\n",
       "      <td>100</td>\n",
       "      <td>[170.0]</td>\n",
       "      <td>[170.0]</td>\n",
       "    </tr>\n",
       "    <tr>\n",
       "      <th>2</th>\n",
       "      <td>DEYCO</td>\n",
       "      <td>ATUN LOMITOS AGUA 160 GR DEYCO</td>\n",
       "      <td>72260</td>\n",
       "      <td>Surtiventas Arbol_24_25</td>\n",
       "      <td>ATUN LOMITOS AGUA 160 GR DEYCO</td>\n",
       "      <td>98372</td>\n",
       "      <td>Prinorte Arbol_24_25</td>\n",
       "      <td>100</td>\n",
       "      <td>[160.0]</td>\n",
       "      <td>[160.0]</td>\n",
       "    </tr>\n",
       "    <tr>\n",
       "      <th>3</th>\n",
       "      <td>GOURMET</td>\n",
       "      <td>CONDIMENTO CARNE PREMIUM 45 GR MOLINILLO GOURMET</td>\n",
       "      <td>92467</td>\n",
       "      <td>Surtiventas Arbol_24_25</td>\n",
       "      <td>CONDIMENTO CARNE PREMIUM 45 GR MOLINILLO GOURMET</td>\n",
       "      <td>92362</td>\n",
       "      <td>Prisur Arbol_24_25</td>\n",
       "      <td>100</td>\n",
       "      <td>[45.0]</td>\n",
       "      <td>[45.0]</td>\n",
       "    </tr>\n",
       "    <tr>\n",
       "      <th>4</th>\n",
       "      <td>KRAFT</td>\n",
       "      <td>MAYONESA  90 GR SACHET DP X 18 UN DELI KRAFT</td>\n",
       "      <td>92286</td>\n",
       "      <td>Surtiventas Arbol_24_25</td>\n",
       "      <td>MAYONESA 90 GR SACHET DP X 18 UN DELI KRAFT</td>\n",
       "      <td>41682</td>\n",
       "      <td>Prinorte Arbol_24_25</td>\n",
       "      <td>100</td>\n",
       "      <td>[90.0, 18.0]</td>\n",
       "      <td>[90.0, 18.0]</td>\n",
       "    </tr>\n",
       "  </tbody>\n",
       "</table>\n",
       "</div>"
      ]
     },
     "execution_count": 22,
     "metadata": {},
     "output_type": "execute_result"
    }
   ],
   "execution_count": 22
  },
  {
   "metadata": {
    "ExecuteTime": {
     "end_time": "2025-07-23T18:58:33.570547Z",
     "start_time": "2025-07-23T18:58:33.546908Z"
    }
   },
   "cell_type": "code",
   "source": [
    "needs_review.head(5)\n",
    "# Aparecen poductos que ya pueden ser diferentes como\n",
    "#CEREAL BARRA COSTA FRUTOS ROJOS + YOGURT X 20 UDS\t -  CEREAL BARRA COSTA FRUTOS ROJOS (No tiene Yogurt)\n",
    "# SALSA DE SOYA SUAVE 165 CC GOURMET -  SALSA DE SOYA SUAVE 165 CC GOURMET (tiene Sauve)\n",
    "#\tYERBA MATE 250 GR. SUPREMO ARGENTIN -\tYERBA MATE 250 GR SUPREMO ARGENTINA NARANJA\n",
    "# CAFE INST. JUAN VALDEZ 95 GR LIOFILIZADO DESCAFEIN\t-  CAFE 95 GR JUAN VALDEZ INST. LIOFILIZADO\n",
    "# Pero la mayoria son iguales"
   ],
   "id": "d765185684037f06",
   "outputs": [
    {
     "data": {
      "text/plain": [
       "      Marca                                       Nombre SKU 1  SKU 1  \\\n",
       "0   COLISEO           FIDEO 400 GR SPAGUETTI  COLISEO SPECIALE  54052   \n",
       "1     COSTA  CEREAL BARRA COSTA FRUTOS ROJOS + YOGURT X 20 UDS  36035   \n",
       "2  ALOE WIN             BEBIDA ALOE WIN 500 CC ALOE VERA MANGO  12566   \n",
       "3     WASIL                         ARVEJA 340 CC. WASIL TETRA  57039   \n",
       "4  ALOE WIN             BEBIDA ALOE WIN 500 CC ALOE VERA MANGO  12566   \n",
       "\n",
       "                   Sheet 1                                  Nombre SKU 2  \\\n",
       "0  Surtiventas Arbol_24_25  PASTA FIDEO 400 GR COLISEO SPAGUETTI SPECIAL   \n",
       "1        PRISA Arbol_24_25      CEREAL BARRA COSTA FRUTOS ROJOS X 20 UDS   \n",
       "2        PRISA Arbol_24_25        BEBIDA ALOE VERA 500 ML MANGO ALOE WIN   \n",
       "3  Surtiventas Arbol_24_25                    ARVEJA 340 GR. WASIL TETRA   \n",
       "4        PRISA Arbol_24_25        BEBIDA ALOE VERA 500 ML MANGO ALOE WIN   \n",
       "\n",
       "   SKU 2                  Sheet 2  Similarity Numbers 1 Numbers 2  \n",
       "0  72501       Prisur Arbol_24_25          92   [400.0]   [400.0]  \n",
       "1  75263       Prisur Arbol_24_25          92    [20.0]    [20.0]  \n",
       "2  72475       Prisur Arbol_24_25          92   [500.0]   [500.0]  \n",
       "3  57031       Prisur Arbol_24_25          92   [340.0]   [340.0]  \n",
       "4  35160  Surtiventas Arbol_24_25          92   [500.0]   [500.0]  "
      ],
      "text/html": [
       "<div>\n",
       "<style scoped>\n",
       "    .dataframe tbody tr th:only-of-type {\n",
       "        vertical-align: middle;\n",
       "    }\n",
       "\n",
       "    .dataframe tbody tr th {\n",
       "        vertical-align: top;\n",
       "    }\n",
       "\n",
       "    .dataframe thead th {\n",
       "        text-align: right;\n",
       "    }\n",
       "</style>\n",
       "<table border=\"1\" class=\"dataframe\">\n",
       "  <thead>\n",
       "    <tr style=\"text-align: right;\">\n",
       "      <th></th>\n",
       "      <th>Marca</th>\n",
       "      <th>Nombre SKU 1</th>\n",
       "      <th>SKU 1</th>\n",
       "      <th>Sheet 1</th>\n",
       "      <th>Nombre SKU 2</th>\n",
       "      <th>SKU 2</th>\n",
       "      <th>Sheet 2</th>\n",
       "      <th>Similarity</th>\n",
       "      <th>Numbers 1</th>\n",
       "      <th>Numbers 2</th>\n",
       "    </tr>\n",
       "  </thead>\n",
       "  <tbody>\n",
       "    <tr>\n",
       "      <th>0</th>\n",
       "      <td>COLISEO</td>\n",
       "      <td>FIDEO 400 GR SPAGUETTI  COLISEO SPECIALE</td>\n",
       "      <td>54052</td>\n",
       "      <td>Surtiventas Arbol_24_25</td>\n",
       "      <td>PASTA FIDEO 400 GR COLISEO SPAGUETTI SPECIAL</td>\n",
       "      <td>72501</td>\n",
       "      <td>Prisur Arbol_24_25</td>\n",
       "      <td>92</td>\n",
       "      <td>[400.0]</td>\n",
       "      <td>[400.0]</td>\n",
       "    </tr>\n",
       "    <tr>\n",
       "      <th>1</th>\n",
       "      <td>COSTA</td>\n",
       "      <td>CEREAL BARRA COSTA FRUTOS ROJOS + YOGURT X 20 UDS</td>\n",
       "      <td>36035</td>\n",
       "      <td>PRISA Arbol_24_25</td>\n",
       "      <td>CEREAL BARRA COSTA FRUTOS ROJOS X 20 UDS</td>\n",
       "      <td>75263</td>\n",
       "      <td>Prisur Arbol_24_25</td>\n",
       "      <td>92</td>\n",
       "      <td>[20.0]</td>\n",
       "      <td>[20.0]</td>\n",
       "    </tr>\n",
       "    <tr>\n",
       "      <th>2</th>\n",
       "      <td>ALOE WIN</td>\n",
       "      <td>BEBIDA ALOE WIN 500 CC ALOE VERA MANGO</td>\n",
       "      <td>12566</td>\n",
       "      <td>PRISA Arbol_24_25</td>\n",
       "      <td>BEBIDA ALOE VERA 500 ML MANGO ALOE WIN</td>\n",
       "      <td>72475</td>\n",
       "      <td>Prisur Arbol_24_25</td>\n",
       "      <td>92</td>\n",
       "      <td>[500.0]</td>\n",
       "      <td>[500.0]</td>\n",
       "    </tr>\n",
       "    <tr>\n",
       "      <th>3</th>\n",
       "      <td>WASIL</td>\n",
       "      <td>ARVEJA 340 CC. WASIL TETRA</td>\n",
       "      <td>57039</td>\n",
       "      <td>Surtiventas Arbol_24_25</td>\n",
       "      <td>ARVEJA 340 GR. WASIL TETRA</td>\n",
       "      <td>57031</td>\n",
       "      <td>Prisur Arbol_24_25</td>\n",
       "      <td>92</td>\n",
       "      <td>[340.0]</td>\n",
       "      <td>[340.0]</td>\n",
       "    </tr>\n",
       "    <tr>\n",
       "      <th>4</th>\n",
       "      <td>ALOE WIN</td>\n",
       "      <td>BEBIDA ALOE WIN 500 CC ALOE VERA MANGO</td>\n",
       "      <td>12566</td>\n",
       "      <td>PRISA Arbol_24_25</td>\n",
       "      <td>BEBIDA ALOE VERA 500 ML MANGO ALOE WIN</td>\n",
       "      <td>35160</td>\n",
       "      <td>Surtiventas Arbol_24_25</td>\n",
       "      <td>92</td>\n",
       "      <td>[500.0]</td>\n",
       "      <td>[500.0]</td>\n",
       "    </tr>\n",
       "  </tbody>\n",
       "</table>\n",
       "</div>"
      ]
     },
     "execution_count": 23,
     "metadata": {},
     "output_type": "execute_result"
    }
   ],
   "execution_count": 23
  },
  {
   "metadata": {
    "ExecuteTime": {
     "end_time": "2025-07-23T18:58:33.604241Z",
     "start_time": "2025-07-23T18:58:33.600855Z"
    }
   },
   "cell_type": "code",
   "source": "",
   "id": "95165f628698e27d",
   "outputs": [],
   "execution_count": null
  },
  {
   "metadata": {
    "ExecuteTime": {
     "end_time": "2025-07-23T18:58:33.652926Z",
     "start_time": "2025-07-23T18:58:33.649970Z"
    }
   },
   "cell_type": "code",
   "source": "",
   "id": "f9d472a298a25a20",
   "outputs": [],
   "execution_count": null
  },
  {
   "metadata": {
    "ExecuteTime": {
     "end_time": "2025-07-23T18:58:38.744402Z",
     "start_time": "2025-07-23T18:58:33.695345Z"
    }
   },
   "cell_type": "code",
   "source": [
    "filtered = find_normal_cases(excel_path)\n",
    "filtered = filtered.rename(columns={\"Sheet\": \"Subempresa\"})\n",
    "filtered = filtered.drop_duplicates()\n",
    "filtered_count = filtered.shape[0]\n"
   ],
   "id": "4834f196e899103f",
   "outputs": [
    {
     "name": "stdout",
     "output_type": "stream",
     "text": [
      "(2381, 4)\n",
      "(2284, 4)\n"
     ]
    }
   ],
   "execution_count": 24
  },
  {
   "metadata": {
    "ExecuteTime": {
     "end_time": "2025-07-23T18:58:38.761736Z",
     "start_time": "2025-07-23T18:58:38.750985Z"
    }
   },
   "cell_type": "code",
   "source": "filtered_count",
   "id": "22ce68b313a74f85",
   "outputs": [
    {
     "data": {
      "text/plain": [
       "1452"
      ]
     },
     "execution_count": 25,
     "metadata": {},
     "output_type": "execute_result"
    }
   ],
   "execution_count": 25
  },
  {
   "metadata": {
    "ExecuteTime": {
     "end_time": "2025-07-23T18:58:38.811773Z",
     "start_time": "2025-07-23T18:58:38.807780Z"
    }
   },
   "cell_type": "code",
   "source": "",
   "id": "9f1a27f3ef1c251a",
   "outputs": [],
   "execution_count": null
  },
  {
   "metadata": {
    "ExecuteTime": {
     "end_time": "2025-07-23T18:58:38.887496Z",
     "start_time": "2025-07-23T18:58:38.858555Z"
    }
   },
   "cell_type": "code",
   "source": [
    "exact_prod = pairs_to_unique_products(exact_matches)\n",
    "partial_prod = pairs_to_unique_products(partial_matches)\n",
    "condident_prod = pairs_to_unique_products(confident)\n",
    "need_review_prod = pairs_to_unique_products(needs_review)"
   ],
   "id": "ae52d281f5ce84f9",
   "outputs": [],
   "execution_count": 26
  },
  {
   "metadata": {
    "ExecuteTime": {
     "end_time": "2025-07-23T18:58:38.940010Z",
     "start_time": "2025-07-23T18:58:38.916431Z"
    }
   },
   "cell_type": "code",
   "source": [
    "all_different_sku = pd.concat([condident_prod, need_review_prod])\n",
    "all_different_sku = all_different_sku.drop_duplicates([\"Nombre SKU\", \"Marca\", \"SKU\"])\n",
    "all_different_sku.shape\n",
    "\n"
   ],
   "id": "73569462b86b7870",
   "outputs": [
    {
     "data": {
      "text/plain": [
       "(143, 4)"
      ]
     },
     "execution_count": 27,
     "metadata": {},
     "output_type": "execute_result"
    }
   ],
   "execution_count": 27
  },
  {
   "metadata": {
    "ExecuteTime": {
     "end_time": "2025-07-23T18:58:38.991212Z",
     "start_time": "2025-07-23T18:58:38.975867Z"
    }
   },
   "cell_type": "code",
   "source": "all_different_sku",
   "id": "50f376d99545f8df",
   "outputs": [
    {
     "data": {
      "text/plain": [
       "       Marca                                        Nombre SKU    SKU  \\\n",
       "0    COLISEO             ATUN DESMENUZADO AGUA 170 GR  COLISEO  97840   \n",
       "1      DEYCO                    ATUN LOMITOS AGUA 160 GR DEYCO  72260   \n",
       "2    GOURMET  CONDIMENTO CARNE PREMIUM 45 GR MOLINILLO GOURMET  92467   \n",
       "3      KRAFT      MAYONESA  90 GR SACHET DP X 18 UN DELI KRAFT  92286   \n",
       "4      KRAFT       MAYONESA 90 GR SACHET DP X 18 UN DELI KRAFT  41682   \n",
       "..       ...                                               ...    ...   \n",
       "56   CAROZZI          PASTA FIDEO 400 GR CABELLO CORTO CAROZZI  85338   \n",
       "57   COLISEO      PASTA FIDEO 400 GR COLISEO RIGATONI SPECIALE  72501   \n",
       "58  ALCAFOOD             PURE DE PAPAS 250 GR ESTUCHE ALCAFOOD  72450   \n",
       "59     WASIL                     PI¥AS EN CUBITOS 565 GR WASIL  52890   \n",
       "60     IANSA                     AZUCAR RUBIA 1 KG IANSA BOLSA  82942   \n",
       "\n",
       "                      Sheet  \n",
       "0         PRISA Arbol_24_25  \n",
       "1   Surtiventas Arbol_24_25  \n",
       "2   Surtiventas Arbol_24_25  \n",
       "3   Surtiventas Arbol_24_25  \n",
       "4      Prinorte Arbol_24_25  \n",
       "..                      ...  \n",
       "56     Prinorte Arbol_24_25  \n",
       "57       Prisur Arbol_24_25  \n",
       "58       Prisur Arbol_24_25  \n",
       "59       Prisur Arbol_24_25  \n",
       "60       Prisur Arbol_24_25  \n",
       "\n",
       "[143 rows x 4 columns]"
      ],
      "text/html": [
       "<div>\n",
       "<style scoped>\n",
       "    .dataframe tbody tr th:only-of-type {\n",
       "        vertical-align: middle;\n",
       "    }\n",
       "\n",
       "    .dataframe tbody tr th {\n",
       "        vertical-align: top;\n",
       "    }\n",
       "\n",
       "    .dataframe thead th {\n",
       "        text-align: right;\n",
       "    }\n",
       "</style>\n",
       "<table border=\"1\" class=\"dataframe\">\n",
       "  <thead>\n",
       "    <tr style=\"text-align: right;\">\n",
       "      <th></th>\n",
       "      <th>Marca</th>\n",
       "      <th>Nombre SKU</th>\n",
       "      <th>SKU</th>\n",
       "      <th>Sheet</th>\n",
       "    </tr>\n",
       "  </thead>\n",
       "  <tbody>\n",
       "    <tr>\n",
       "      <th>0</th>\n",
       "      <td>COLISEO</td>\n",
       "      <td>ATUN DESMENUZADO AGUA 170 GR  COLISEO</td>\n",
       "      <td>97840</td>\n",
       "      <td>PRISA Arbol_24_25</td>\n",
       "    </tr>\n",
       "    <tr>\n",
       "      <th>1</th>\n",
       "      <td>DEYCO</td>\n",
       "      <td>ATUN LOMITOS AGUA 160 GR DEYCO</td>\n",
       "      <td>72260</td>\n",
       "      <td>Surtiventas Arbol_24_25</td>\n",
       "    </tr>\n",
       "    <tr>\n",
       "      <th>2</th>\n",
       "      <td>GOURMET</td>\n",
       "      <td>CONDIMENTO CARNE PREMIUM 45 GR MOLINILLO GOURMET</td>\n",
       "      <td>92467</td>\n",
       "      <td>Surtiventas Arbol_24_25</td>\n",
       "    </tr>\n",
       "    <tr>\n",
       "      <th>3</th>\n",
       "      <td>KRAFT</td>\n",
       "      <td>MAYONESA  90 GR SACHET DP X 18 UN DELI KRAFT</td>\n",
       "      <td>92286</td>\n",
       "      <td>Surtiventas Arbol_24_25</td>\n",
       "    </tr>\n",
       "    <tr>\n",
       "      <th>4</th>\n",
       "      <td>KRAFT</td>\n",
       "      <td>MAYONESA 90 GR SACHET DP X 18 UN DELI KRAFT</td>\n",
       "      <td>41682</td>\n",
       "      <td>Prinorte Arbol_24_25</td>\n",
       "    </tr>\n",
       "    <tr>\n",
       "      <th>...</th>\n",
       "      <td>...</td>\n",
       "      <td>...</td>\n",
       "      <td>...</td>\n",
       "      <td>...</td>\n",
       "    </tr>\n",
       "    <tr>\n",
       "      <th>56</th>\n",
       "      <td>CAROZZI</td>\n",
       "      <td>PASTA FIDEO 400 GR CABELLO CORTO CAROZZI</td>\n",
       "      <td>85338</td>\n",
       "      <td>Prinorte Arbol_24_25</td>\n",
       "    </tr>\n",
       "    <tr>\n",
       "      <th>57</th>\n",
       "      <td>COLISEO</td>\n",
       "      <td>PASTA FIDEO 400 GR COLISEO RIGATONI SPECIALE</td>\n",
       "      <td>72501</td>\n",
       "      <td>Prisur Arbol_24_25</td>\n",
       "    </tr>\n",
       "    <tr>\n",
       "      <th>58</th>\n",
       "      <td>ALCAFOOD</td>\n",
       "      <td>PURE DE PAPAS 250 GR ESTUCHE ALCAFOOD</td>\n",
       "      <td>72450</td>\n",
       "      <td>Prisur Arbol_24_25</td>\n",
       "    </tr>\n",
       "    <tr>\n",
       "      <th>59</th>\n",
       "      <td>WASIL</td>\n",
       "      <td>PI¥AS EN CUBITOS 565 GR WASIL</td>\n",
       "      <td>52890</td>\n",
       "      <td>Prisur Arbol_24_25</td>\n",
       "    </tr>\n",
       "    <tr>\n",
       "      <th>60</th>\n",
       "      <td>IANSA</td>\n",
       "      <td>AZUCAR RUBIA 1 KG IANSA BOLSA</td>\n",
       "      <td>82942</td>\n",
       "      <td>Prisur Arbol_24_25</td>\n",
       "    </tr>\n",
       "  </tbody>\n",
       "</table>\n",
       "<p>143 rows × 4 columns</p>\n",
       "</div>"
      ]
     },
     "execution_count": 28,
     "metadata": {},
     "output_type": "execute_result"
    }
   ],
   "execution_count": 28
  },
  {
   "metadata": {
    "ExecuteTime": {
     "end_time": "2025-07-23T18:58:39.056070Z",
     "start_time": "2025-07-23T18:58:39.032065Z"
    }
   },
   "cell_type": "code",
   "source": [
    "\n",
    "confident_counts = count_unique_products_per_sheet(confident)"
   ],
   "id": "a20f8bffecdd79fd",
   "outputs": [],
   "execution_count": 29
  },
  {
   "metadata": {
    "ExecuteTime": {
     "end_time": "2025-07-23T18:58:39.102941Z",
     "start_time": "2025-07-23T18:58:39.082338Z"
    }
   },
   "cell_type": "code",
   "source": "needs_review_counts = count_unique_products_per_sheet(needs_review)",
   "id": "180a51bf82d5c7b7",
   "outputs": [],
   "execution_count": 30
  },
  {
   "metadata": {
    "ExecuteTime": {
     "end_time": "2025-07-23T19:01:01.055122Z",
     "start_time": "2025-07-23T19:01:01.051476Z"
    }
   },
   "cell_type": "code",
   "source": "",
   "id": "a1cb735ad8d5a072",
   "outputs": [],
   "execution_count": null
  },
  {
   "metadata": {
    "ExecuteTime": {
     "end_time": "2025-07-23T19:00:53.293467Z",
     "start_time": "2025-07-23T19:00:53.269936Z"
    }
   },
   "cell_type": "code",
   "source": "# En las estadísticas se muestra el número de productos únicos. (no coincidencias)",
   "id": "bf9f9bebcec5a690",
   "outputs": [],
   "execution_count": 53
  },
  {
   "metadata": {
    "ExecuteTime": {
     "end_time": "2025-07-23T19:00:54.143328Z",
     "start_time": "2025-07-23T19:00:54.035867Z"
    }
   },
   "cell_type": "code",
   "source": [
    "visualize( need_review_prod.shape[0], condident_prod.shape[0], exact_prod.shape[0],\n",
    "          partial_prod.shape[0], filtered_count)\n"
   ],
   "id": "7762adeee501a613",
   "outputs": [
    {
     "data": {
      "text/plain": [
       "<Figure size 1200x600 with 1 Axes>"
      ],
      "image/png": "[encoded data removed]"
     },
     "metadata": {},
     "output_type": "display_data"
    }
   ],
   "execution_count": 54
  },
  {
   "metadata": {
    "ExecuteTime": {
     "end_time": "2025-07-23T18:58:39.402816Z",
     "start_time": "2025-07-23T18:58:39.399318Z"
    }
   },
   "cell_type": "code",
   "source": "",
   "id": "616dcd9b383df146",
   "outputs": [],
   "execution_count": null
  },
  {
   "metadata": {
    "ExecuteTime": {
     "end_time": "2025-07-23T18:58:39.492817Z",
     "start_time": "2025-07-23T18:58:39.447606Z"
    }
   },
   "cell_type": "code",
   "source": [
    "# Calculamos cuántos productos se repiten en 2, 3 o 4 empresas.\n",
    "output_needs_review = count_unique_subempresas_per_product(needs_review)\n",
    "output_confident = count_unique_subempresas_per_product(confident)\n",
    "output_exact = count_unique_subempresas_per_product(exact_matches)\n",
    "output_partial = count_unique_subempresas_per_product(partial_matches)\n",
    "needs_review_stats = count_product_distribution_dict_only(output_needs_review)\n",
    "confident_stats = count_product_distribution_dict_only(output_confident)\n",
    "exact_matches_stats = count_product_distribution_dict_only(output_exact)\n",
    "partial_matches_stats = count_product_distribution_dict_only(output_partial)\n"
   ],
   "id": "66931d46b50042be",
   "outputs": [],
   "execution_count": 33
  },
  {
   "metadata": {
    "ExecuteTime": {
     "end_time": "2025-07-23T18:58:39.587227Z",
     "start_time": "2025-07-23T18:58:39.496416Z"
    }
   },
   "cell_type": "code",
   "source": [
    "df = pd.DataFrame([{'Product': name, 'Number of companies where the product is present': count} for (name, _), count in\n",
    "                   output_needs_review.items()])\n",
    "path = \"/home/viktoria/Downloads/prisa/needs_review_count.xlsx\"\n",
    "df.to_excel(path, index=False)\n",
    "\n",
    "df = pd.DataFrame([{'Product': name, 'Number of companies where the product is present': count} for (name, _), count in\n",
    "                   output_confident.items()])\n",
    "path = \"/home/viktoria/Downloads/prisa/confident_count.xlsx\"\n",
    "df.to_excel(path, index=False)\n",
    "\n",
    "df = pd.DataFrame([{'Product': name, 'Number of companies where the product is present': count} for (name, _), count in\n",
    "                   output_exact.items()])\n",
    "path = \"/home/viktoria/Downloads/prisa/exact_count.xlsx\"\n",
    "df.to_excel(path, index=False)\n",
    "\n",
    "df = pd.DataFrame([{'Product': name, 'Number of companies where the product is present': count} for (name, _), count in\n",
    "                   output_partial.items()])\n",
    "path = \"/home/viktoria/Downloads/prisa/partial_count.xlsx\"\n",
    "df.to_excel(path, index=False)\n"
   ],
   "id": "9d53a632684111b3",
   "outputs": [],
   "execution_count": 34
  },
  {
   "metadata": {
    "ExecuteTime": {
     "end_time": "2025-07-23T18:58:39.591976Z",
     "start_time": "2025-07-23T18:58:39.590502Z"
    }
   },
   "cell_type": "code",
   "source": "",
   "id": "51c1b559fb02b59b",
   "outputs": [],
   "execution_count": null
  },
  {
   "metadata": {
    "ExecuteTime": {
     "end_time": "2025-07-23T18:58:39.744096Z",
     "start_time": "2025-07-23T18:58:39.649635Z"
    }
   },
   "cell_type": "code",
   "source": [
    "# Nombres distintos (productos iguales) con SKUs distintos (los casos que necesitan la revisión)\n",
    "# Si por ejemplo hay producto que tiene 2 parecidos por nombres en 2 otras esmpresas todos sus 3 variaciones se cuentan como solo uno producto\n",
    "\n",
    "graficar_distribucion_productos(needs_review_stats, \"green\")"
   ],
   "id": "6e2eb36d64af89d2",
   "outputs": [
    {
     "data": {
      "text/plain": [
       "<Figure size 800x600 with 1 Axes>"
      ],
      "image/png": "[encoded data removed]"
     },
     "metadata": {},
     "output_type": "display_data"
    }
   ],
   "execution_count": 35
  },
  {
   "metadata": {
    "ExecuteTime": {
     "end_time": "2025-07-23T18:58:39.827759Z",
     "start_time": "2025-07-23T18:58:39.751573Z"
    }
   },
   "cell_type": "code",
   "source": [
    "#Nombres distintos (productos iguales) con SKUs distintos (los casos seguros)\n",
    "graficar_distribucion_productos(confident_stats, \"yellow\")\n"
   ],
   "id": "db6221b323bfaf44",
   "outputs": [
    {
     "data": {
      "text/plain": [
       "<Figure size 800x600 with 1 Axes>"
      ],
      "image/png": "[encoded data removed]"
     },
     "metadata": {},
     "output_type": "display_data"
    }
   ],
   "execution_count": 36
  },
  {
   "metadata": {
    "ExecuteTime": {
     "end_time": "2025-07-23T18:58:39.918093Z",
     "start_time": "2025-07-23T18:58:39.838010Z"
    }
   },
   "cell_type": "code",
   "source": [
    "# Nombres y SKUs exactamente iguales\n",
    "graficar_distribucion_productos(exact_matches_stats, \"blue\")"
   ],
   "id": "85a1a403c3b885e6",
   "outputs": [
    {
     "data": {
      "text/plain": [
       "<Figure size 800x600 with 1 Axes>"
      ],
      "image/png": "[encoded data removed]"
     },
     "metadata": {},
     "output_type": "display_data"
    }
   ],
   "execution_count": 37
  },
  {
   "metadata": {
    "ExecuteTime": {
     "end_time": "2025-07-23T18:58:40.007471Z",
     "start_time": "2025-07-23T18:58:39.925045Z"
    }
   },
   "cell_type": "code",
   "source": [
    "# Nombres similares con SKUs iguales\n",
    "graficar_distribucion_productos(partial_matches_stats, \"purple\")"
   ],
   "id": "b20f7a6914189895",
   "outputs": [
    {
     "data": {
      "text/plain": [
       "<Figure size 800x600 with 1 Axes>"
      ],
      "image/png": "[encoded data removed]"
     },
     "metadata": {},
     "output_type": "display_data"
    }
   ],
   "execution_count": 38
  },
  {
   "metadata": {
    "ExecuteTime": {
     "end_time": "2025-07-23T18:58:40.015199Z",
     "start_time": "2025-07-23T18:58:40.013487Z"
    }
   },
   "cell_type": "code",
   "source": "",
   "id": "8765145666956214",
   "outputs": [],
   "execution_count": null
  },
  {
   "metadata": {
    "ExecuteTime": {
     "end_time": "2025-07-23T18:58:40.072300Z",
     "start_time": "2025-07-23T18:58:40.059701Z"
    }
   },
   "cell_type": "code",
   "source": [
    "unique_sheets = all_different_sku['Sheet'].unique()\n",
    "unique_sheets = [sheet for sheet in unique_sheets if sheet != \"Prilogic Arbol_24_25\"]\n",
    "\n",
    "all_different_sku_count = {}\n",
    "\n",
    "for sheet in unique_sheets:\n",
    "    sub_df = all_different_sku[all_different_sku['Sheet'] == sheet]\n",
    "    all_different_sku_count[sheet] = sub_df.shape[0]"
   ],
   "id": "bbefcad3083b49aa",
   "outputs": [],
   "execution_count": 39
  },
  {
   "metadata": {
    "ExecuteTime": {
     "end_time": "2025-07-23T18:58:40.132933Z",
     "start_time": "2025-07-23T18:58:40.110944Z"
    }
   },
   "cell_type": "code",
   "source": [
    "unique_sheets = filtered['Subempresa'].unique()\n",
    "unique_sheets = [sheet for sheet in unique_sheets if sheet != \"Prilogic Arbol_24_25\"]\n",
    "\n",
    "filtered_counts = {}\n",
    "\n",
    "for sheet in unique_sheets:\n",
    "    sub_df = filtered[filtered['Subempresa'] == sheet]\n",
    "    filtered_counts[sheet] = sub_df.shape[0]\n"
   ],
   "id": "7a8690b958ab499c",
   "outputs": [],
   "execution_count": 40
  },
  {
   "metadata": {
    "ExecuteTime": {
     "end_time": "2025-07-23T18:58:40.191692Z",
     "start_time": "2025-07-23T18:58:40.169116Z"
    }
   },
   "cell_type": "code",
   "source": "filtered_counts",
   "id": "2435ea8802ebb6d",
   "outputs": [
    {
     "data": {
      "text/plain": [
       "{'PRISA Arbol_24_25': 477,\n",
       " 'Surtiventas Arbol_24_25': 412,\n",
       " 'Prinorte Arbol_24_25': 76,\n",
       " 'Prisur Arbol_24_25': 251}"
      ]
     },
     "execution_count": 41,
     "metadata": {},
     "output_type": "execute_result"
    }
   ],
   "execution_count": 41
  },
  {
   "metadata": {
    "ExecuteTime": {
     "end_time": "2025-07-23T18:58:40.254056Z",
     "start_time": "2025-07-23T18:58:40.228202Z"
    }
   },
   "cell_type": "code",
   "source": "all_different_sku_count",
   "id": "b634d92f2f5f679c",
   "outputs": [
    {
     "data": {
      "text/plain": [
       "{'PRISA Arbol_24_25': 28,\n",
       " 'Surtiventas Arbol_24_25': 53,\n",
       " 'Prinorte Arbol_24_25': 8,\n",
       " 'Prisur Arbol_24_25': 54}"
      ]
     },
     "execution_count": 42,
     "metadata": {},
     "output_type": "execute_result"
    }
   ],
   "execution_count": 42
  },
  {
   "metadata": {
    "ExecuteTime": {
     "end_time": "2025-07-23T18:58:41.502404Z",
     "start_time": "2025-07-23T18:58:41.485258Z"
    }
   },
   "cell_type": "code",
   "source": "duplicates_counts",
   "id": "4bb9e9737cbbfda2",
   "outputs": [
    {
     "data": {
      "text/plain": [
       "{}"
      ]
     },
     "execution_count": 43,
     "metadata": {},
     "output_type": "execute_result"
    }
   ],
   "execution_count": 43
  },
  {
   "metadata": {
    "ExecuteTime": {
     "end_time": "2025-07-23T18:58:41.731887Z",
     "start_time": "2025-07-23T18:58:41.720427Z"
    }
   },
   "cell_type": "code",
   "source": "exact_matches_counts",
   "id": "8089962184f69986",
   "outputs": [
    {
     "data": {
      "text/plain": [
       "{'PRISA Arbol_24_25': 41,\n",
       " 'Prinorte Arbol_24_25': 79,\n",
       " 'Prisur Arbol_24_25': 198,\n",
       " 'Surtiventas Arbol_24_25': 168}"
      ]
     },
     "execution_count": 44,
     "metadata": {},
     "output_type": "execute_result"
    }
   ],
   "execution_count": 44
  },
  {
   "metadata": {
    "ExecuteTime": {
     "end_time": "2025-07-23T18:58:41.920884Z",
     "start_time": "2025-07-23T18:58:41.897941Z"
    }
   },
   "cell_type": "code",
   "source": "partial_matches_counts",
   "id": "ff34873afda5eeb7",
   "outputs": [
    {
     "data": {
      "text/plain": [
       "{'PRISA Arbol_24_25': 53,\n",
       " 'Prinorte Arbol_24_25': 44,\n",
       " 'Prisur Arbol_24_25': 134,\n",
       " 'Surtiventas Arbol_24_25': 138}"
      ]
     },
     "execution_count": 45,
     "metadata": {},
     "output_type": "execute_result"
    }
   ],
   "execution_count": 45
  },
  {
   "metadata": {
    "ExecuteTime": {
     "end_time": "2025-07-23T18:58:42.144360Z",
     "start_time": "2025-07-23T18:58:42.121722Z"
    }
   },
   "cell_type": "code",
   "source": [
    "dictionaries = [exact_matches_counts, partial_matches_counts, duplicates_counts, all_different_sku_count,\n",
    "                filtered_counts]\n",
    "results = dict()\n",
    "for dct in dictionaries:\n",
    "    for key in dct.keys():\n",
    "        if not key in results.keys():\n",
    "            results[key] = dct[key]\n",
    "        else:\n",
    "            results[key] += dct[key]\n"
   ],
   "id": "f87df6a11aca429c",
   "outputs": [],
   "execution_count": 46
  },
  {
   "metadata": {
    "ExecuteTime": {
     "end_time": "2025-07-23T18:58:42.845454Z",
     "start_time": "2025-07-23T18:58:42.827946Z"
    }
   },
   "cell_type": "code",
   "source": "results",
   "id": "46bcf847e1573f93",
   "outputs": [
    {
     "data": {
      "text/plain": [
       "{'PRISA Arbol_24_25': 599,\n",
       " 'Prinorte Arbol_24_25': 207,\n",
       " 'Prisur Arbol_24_25': 637,\n",
       " 'Surtiventas Arbol_24_25': 771}"
      ]
     },
     "execution_count": 47,
     "metadata": {},
     "output_type": "execute_result"
    }
   ],
   "execution_count": 47
  },
  {
   "metadata": {
    "ExecuteTime": {
     "end_time": "2025-07-23T18:58:44.387350Z",
     "start_time": "2025-07-23T18:58:44.362342Z"
    }
   },
   "cell_type": "code",
   "source": "total_count_products",
   "id": "8a83fc6cdeaed364",
   "outputs": [
    {
     "data": {
      "text/plain": [
       "                     Sheet  Product Count\n",
       "0        PRISA Arbol_24_25            587\n",
       "1     Prilogic Arbol_24_25            265\n",
       "2     Prinorte Arbol_24_25            183\n",
       "3       Prisur Arbol_24_25            602\n",
       "4  Surtiventas Arbol_24_25            744"
      ],
      "text/html": [
       "<div>\n",
       "<style scoped>\n",
       "    .dataframe tbody tr th:only-of-type {\n",
       "        vertical-align: middle;\n",
       "    }\n",
       "\n",
       "    .dataframe tbody tr th {\n",
       "        vertical-align: top;\n",
       "    }\n",
       "\n",
       "    .dataframe thead th {\n",
       "        text-align: right;\n",
       "    }\n",
       "</style>\n",
       "<table border=\"1\" class=\"dataframe\">\n",
       "  <thead>\n",
       "    <tr style=\"text-align: right;\">\n",
       "      <th></th>\n",
       "      <th>Sheet</th>\n",
       "      <th>Product Count</th>\n",
       "    </tr>\n",
       "  </thead>\n",
       "  <tbody>\n",
       "    <tr>\n",
       "      <th>0</th>\n",
       "      <td>PRISA Arbol_24_25</td>\n",
       "      <td>587</td>\n",
       "    </tr>\n",
       "    <tr>\n",
       "      <th>1</th>\n",
       "      <td>Prilogic Arbol_24_25</td>\n",
       "      <td>265</td>\n",
       "    </tr>\n",
       "    <tr>\n",
       "      <th>2</th>\n",
       "      <td>Prinorte Arbol_24_25</td>\n",
       "      <td>183</td>\n",
       "    </tr>\n",
       "    <tr>\n",
       "      <th>3</th>\n",
       "      <td>Prisur Arbol_24_25</td>\n",
       "      <td>602</td>\n",
       "    </tr>\n",
       "    <tr>\n",
       "      <th>4</th>\n",
       "      <td>Surtiventas Arbol_24_25</td>\n",
       "      <td>744</td>\n",
       "    </tr>\n",
       "  </tbody>\n",
       "</table>\n",
       "</div>"
      ]
     },
     "execution_count": 48,
     "metadata": {},
     "output_type": "execute_result"
    }
   ],
   "execution_count": 48
  },
  {
   "metadata": {
    "ExecuteTime": {
     "end_time": "2025-07-23T18:58:53.426441Z",
     "start_time": "2025-07-23T18:58:53.422969Z"
    }
   },
   "cell_type": "code",
   "source": "",
   "id": "c08f04a55568d314",
   "outputs": [],
   "execution_count": null
  },
  {
   "metadata": {
    "ExecuteTime": {
     "end_time": "2025-07-23T18:58:53.906107Z",
     "start_time": "2025-07-23T18:58:53.879071Z"
    }
   },
   "cell_type": "code",
   "source": [
    "\n",
    "dictionaries = [\n",
    "    duplicates_counts,\n",
    "    exact_matches_counts,\n",
    "    partial_matches_counts,\n",
    "    all_different_sku_count,\n",
    "    filtered_counts,\n",
    "    results\n",
    "]\n",
    "\n",
    "column_names = [\n",
    "    \"Duplicates\",\n",
    "    \"Same SKU, same name\",\n",
    "    \"Same SKU, similar name\",\n",
    "    \"Same product, different SKU\",\n",
    "    \"Unique Products\",\n",
    "    \"Total\"\n",
    "]\n",
    "\n",
    "df = pd.DataFrame(dictionaries, index=column_names).T.fillna(0).astype(int)\n",
    "df.index.name = \"Company\"\n",
    "\n",
    "df\n",
    "# explicaciones para cada categoria\n",
    "# Need review + Confident"
   ],
   "id": "62ae177a85c8624a",
   "outputs": [
    {
     "data": {
      "text/plain": [
       "                         Duplicates  Same SKU, same name  \\\n",
       "Company                                                    \n",
       "PRISA Arbol_24_25                 0                   41   \n",
       "Prinorte Arbol_24_25              0                   79   \n",
       "Prisur Arbol_24_25                0                  198   \n",
       "Surtiventas Arbol_24_25           0                  168   \n",
       "\n",
       "                         Same SKU, similar name  Same product, different SKU  \\\n",
       "Company                                                                        \n",
       "PRISA Arbol_24_25                            53                           28   \n",
       "Prinorte Arbol_24_25                         44                            8   \n",
       "Prisur Arbol_24_25                          134                           54   \n",
       "Surtiventas Arbol_24_25                     138                           53   \n",
       "\n",
       "                         Unique Products  Total  \n",
       "Company                                          \n",
       "PRISA Arbol_24_25                    477    599  \n",
       "Prinorte Arbol_24_25                  76    207  \n",
       "Prisur Arbol_24_25                   251    637  \n",
       "Surtiventas Arbol_24_25              412    771  "
      ],
      "text/html": [
       "<div>\n",
       "<style scoped>\n",
       "    .dataframe tbody tr th:only-of-type {\n",
       "        vertical-align: middle;\n",
       "    }\n",
       "\n",
       "    .dataframe tbody tr th {\n",
       "        vertical-align: top;\n",
       "    }\n",
       "\n",
       "    .dataframe thead th {\n",
       "        text-align: right;\n",
       "    }\n",
       "</style>\n",
       "<table border=\"1\" class=\"dataframe\">\n",
       "  <thead>\n",
       "    <tr style=\"text-align: right;\">\n",
       "      <th></th>\n",
       "      <th>Duplicates</th>\n",
       "      <th>Same SKU, same name</th>\n",
       "      <th>Same SKU, similar name</th>\n",
       "      <th>Same product, different SKU</th>\n",
       "      <th>Unique Products</th>\n",
       "      <th>Total</th>\n",
       "    </tr>\n",
       "    <tr>\n",
       "      <th>Company</th>\n",
       "      <th></th>\n",
       "      <th></th>\n",
       "      <th></th>\n",
       "      <th></th>\n",
       "      <th></th>\n",
       "      <th></th>\n",
       "    </tr>\n",
       "  </thead>\n",
       "  <tbody>\n",
       "    <tr>\n",
       "      <th>PRISA Arbol_24_25</th>\n",
       "      <td>0</td>\n",
       "      <td>41</td>\n",
       "      <td>53</td>\n",
       "      <td>28</td>\n",
       "      <td>477</td>\n",
       "      <td>599</td>\n",
       "    </tr>\n",
       "    <tr>\n",
       "      <th>Prinorte Arbol_24_25</th>\n",
       "      <td>0</td>\n",
       "      <td>79</td>\n",
       "      <td>44</td>\n",
       "      <td>8</td>\n",
       "      <td>76</td>\n",
       "      <td>207</td>\n",
       "    </tr>\n",
       "    <tr>\n",
       "      <th>Prisur Arbol_24_25</th>\n",
       "      <td>0</td>\n",
       "      <td>198</td>\n",
       "      <td>134</td>\n",
       "      <td>54</td>\n",
       "      <td>251</td>\n",
       "      <td>637</td>\n",
       "    </tr>\n",
       "    <tr>\n",
       "      <th>Surtiventas Arbol_24_25</th>\n",
       "      <td>0</td>\n",
       "      <td>168</td>\n",
       "      <td>138</td>\n",
       "      <td>53</td>\n",
       "      <td>412</td>\n",
       "      <td>771</td>\n",
       "    </tr>\n",
       "  </tbody>\n",
       "</table>\n",
       "</div>"
      ]
     },
     "execution_count": 49,
     "metadata": {},
     "output_type": "execute_result"
    }
   ],
   "execution_count": 49
  },
  {
   "metadata": {
    "ExecuteTime": {
     "end_time": "2025-07-23T18:58:54.917093Z",
     "start_time": "2025-07-23T18:58:54.893652Z"
    }
   },
   "cell_type": "code",
   "source": "total_count_products",
   "id": "bbac655b883dcda3",
   "outputs": [
    {
     "data": {
      "text/plain": [
       "                     Sheet  Product Count\n",
       "0        PRISA Arbol_24_25            587\n",
       "1     Prilogic Arbol_24_25            265\n",
       "2     Prinorte Arbol_24_25            183\n",
       "3       Prisur Arbol_24_25            602\n",
       "4  Surtiventas Arbol_24_25            744"
      ],
      "text/html": [
       "<div>\n",
       "<style scoped>\n",
       "    .dataframe tbody tr th:only-of-type {\n",
       "        vertical-align: middle;\n",
       "    }\n",
       "\n",
       "    .dataframe tbody tr th {\n",
       "        vertical-align: top;\n",
       "    }\n",
       "\n",
       "    .dataframe thead th {\n",
       "        text-align: right;\n",
       "    }\n",
       "</style>\n",
       "<table border=\"1\" class=\"dataframe\">\n",
       "  <thead>\n",
       "    <tr style=\"text-align: right;\">\n",
       "      <th></th>\n",
       "      <th>Sheet</th>\n",
       "      <th>Product Count</th>\n",
       "    </tr>\n",
       "  </thead>\n",
       "  <tbody>\n",
       "    <tr>\n",
       "      <th>0</th>\n",
       "      <td>PRISA Arbol_24_25</td>\n",
       "      <td>587</td>\n",
       "    </tr>\n",
       "    <tr>\n",
       "      <th>1</th>\n",
       "      <td>Prilogic Arbol_24_25</td>\n",
       "      <td>265</td>\n",
       "    </tr>\n",
       "    <tr>\n",
       "      <th>2</th>\n",
       "      <td>Prinorte Arbol_24_25</td>\n",
       "      <td>183</td>\n",
       "    </tr>\n",
       "    <tr>\n",
       "      <th>3</th>\n",
       "      <td>Prisur Arbol_24_25</td>\n",
       "      <td>602</td>\n",
       "    </tr>\n",
       "    <tr>\n",
       "      <th>4</th>\n",
       "      <td>Surtiventas Arbol_24_25</td>\n",
       "      <td>744</td>\n",
       "    </tr>\n",
       "  </tbody>\n",
       "</table>\n",
       "</div>"
      ]
     },
     "execution_count": 50,
     "metadata": {},
     "output_type": "execute_result"
    }
   ],
   "execution_count": 50
  },
  {
   "metadata": {
    "ExecuteTime": {
     "end_time": "2025-07-23T18:58:56.823406Z",
     "start_time": "2025-07-23T18:58:56.764985Z"
    }
   },
   "cell_type": "code",
   "source": [
    "from openpyxl import load_workbook\n",
    "from openpyxl.styles import PatternFill\n",
    "from openpyxl.utils import get_column_letter\n",
    "\n",
    "df_reset = df.reset_index()\n",
    "\n",
    "excel_path = \"Products for each company.xlsx\"\n",
    "df_reset.to_excel(excel_path, index=False)\n",
    "\n",
    "\n",
    "column_colors = {\n",
    "    \"Company\": \"D3D3D3\",                # Light Gray\n",
    "    \"Total\": \"D3D3D3\",                  # Light Gray\n",
    "    \"Duplicates\": \"A52A2A\",            # Brown\n",
    "    \"Same SKU, same name\": \"87CEEB\",   # Blue\n",
    "    \"Same SKU, similar name\": \"9370DB\",# Purple\n",
    "    \"Same product, different SKU\": \"90EE90\", # Green\n",
    "    \"Unique Products\": \"FF7F7F\"        # Red\n",
    "}\n",
    "\n",
    "column_widths = {\n",
    "    \"Company\": 30,\n",
    "    \"Duplicates\": 15,\n",
    "    \"Same SKU, same name\": 22,\n",
    "    \"Same SKU, similar name\": 25,\n",
    "    \"Same product, different SKU\": 28,\n",
    "    \"Unique Products\": 18,\n",
    "    \"Total\": 10\n",
    "}\n",
    "\n",
    "wb = load_workbook(excel_path)\n",
    "ws = wb.active\n",
    "\n",
    "header = [cell.value for cell in ws[1]]\n",
    "\n",
    "for col_idx, col_name in enumerate(header, start=1):\n",
    "\n",
    "    color = column_colors.get(col_name)\n",
    "    if color:\n",
    "        fill = PatternFill(start_color=color, end_color=color, fill_type=\"solid\")\n",
    "        for row in range(2, ws.max_row + 1):\n",
    "            ws.cell(row=row, column=col_idx).fill = fill\n",
    "\n",
    "    width = column_widths.get(col_name, 15)\n",
    "    ws.column_dimensions[get_column_letter(col_idx)].width = width\n",
    "\n",
    "from openpyxl.styles import Font\n",
    "for cell in ws[1]:\n",
    "    cell.font = Font(bold=True)\n",
    "ws.freeze_panes = \"B2\"\n",
    "# Save\n",
    "wb.save(excel_path)\n"
   ],
   "id": "cbdd4bd8941d9a3f",
   "outputs": [],
   "execution_count": 51
  },
  {
   "metadata": {},
   "cell_type": "code",
   "outputs": [],
   "execution_count": null,
   "source": "",
   "id": "73ee38e8add6138a"
  },
  {
   "metadata": {
    "ExecuteTime": {
     "end_time": "2025-07-23T02:52:44.200576Z",
     "start_time": "2025-07-23T02:52:44.184800Z"
    }
   },
   "cell_type": "code",
   "source": "needs_review.loc[needs_review[\"SKU 1\"] == 11484]",
   "id": "68205c3b17b17c5d",
   "outputs": [
    {
     "data": {
      "text/plain": [
       "     Marca                         Nombre SKU 1  SKU 1  \\\n",
       "20  LIPTON  TE DP X 100 BOL LIPTON YELLOW LABEL  11484   \n",
       "\n",
       "                    Sheet 1                            Nombre SKU 2  SKU 2  \\\n",
       "20  Surtiventas Arbol_24_25  TE LIPTON  YELLOW LABEL X 100 BOLSITAS  71075   \n",
       "\n",
       "               Sheet 2  Similarity Numbers 1 Numbers 2  \n",
       "20  Prisur Arbol_24_25          89   [100.0]   [100.0]  "
      ],
      "text/html": [
       "<div>\n",
       "<style scoped>\n",
       "    .dataframe tbody tr th:only-of-type {\n",
       "        vertical-align: middle;\n",
       "    }\n",
       "\n",
       "    .dataframe tbody tr th {\n",
       "        vertical-align: top;\n",
       "    }\n",
       "\n",
       "    .dataframe thead th {\n",
       "        text-align: right;\n",
       "    }\n",
       "</style>\n",
       "<table border=\"1\" class=\"dataframe\">\n",
       "  <thead>\n",
       "    <tr style=\"text-align: right;\">\n",
       "      <th></th>\n",
       "      <th>Marca</th>\n",
       "      <th>Nombre SKU 1</th>\n",
       "      <th>SKU 1</th>\n",
       "      <th>Sheet 1</th>\n",
       "      <th>Nombre SKU 2</th>\n",
       "      <th>SKU 2</th>\n",
       "      <th>Sheet 2</th>\n",
       "      <th>Similarity</th>\n",
       "      <th>Numbers 1</th>\n",
       "      <th>Numbers 2</th>\n",
       "    </tr>\n",
       "  </thead>\n",
       "  <tbody>\n",
       "    <tr>\n",
       "      <th>20</th>\n",
       "      <td>LIPTON</td>\n",
       "      <td>TE DP X 100 BOL LIPTON YELLOW LABEL</td>\n",
       "      <td>11484</td>\n",
       "      <td>Surtiventas Arbol_24_25</td>\n",
       "      <td>TE LIPTON  YELLOW LABEL X 100 BOLSITAS</td>\n",
       "      <td>71075</td>\n",
       "      <td>Prisur Arbol_24_25</td>\n",
       "      <td>89</td>\n",
       "      <td>[100.0]</td>\n",
       "      <td>[100.0]</td>\n",
       "    </tr>\n",
       "  </tbody>\n",
       "</table>\n",
       "</div>"
      ]
     },
     "execution_count": 249,
     "metadata": {},
     "output_type": "execute_result"
    }
   ],
   "execution_count": 249
  },
  {
   "metadata": {
    "ExecuteTime": {
     "end_time": "2025-07-23T02:53:05.779640Z",
     "start_time": "2025-07-23T02:53:05.750690Z"
    }
   },
   "cell_type": "code",
   "outputs": [
    {
     "data": {
      "text/plain": [
       "     Marca                         Nombre SKU 1  SKU 1  \\\n",
       "36  LIPTON  TE DP X 100 BOL LIPTON YELLOW LABEL  11484   \n",
       "\n",
       "                    Sheet 1                     Nombre SKU 2  SKU 2  \\\n",
       "36  Surtiventas Arbol_24_25  TE LIPTON YELLOW LABEL X 100 BL  71075   \n",
       "\n",
       "                 Sheet 2  Similarity Numbers 1 Numbers 2  \n",
       "36  Prinorte Arbol_24_25          94   [100.0]   [100.0]  "
      ],
      "text/html": [
       "<div>\n",
       "<style scoped>\n",
       "    .dataframe tbody tr th:only-of-type {\n",
       "        vertical-align: middle;\n",
       "    }\n",
       "\n",
       "    .dataframe tbody tr th {\n",
       "        vertical-align: top;\n",
       "    }\n",
       "\n",
       "    .dataframe thead th {\n",
       "        text-align: right;\n",
       "    }\n",
       "</style>\n",
       "<table border=\"1\" class=\"dataframe\">\n",
       "  <thead>\n",
       "    <tr style=\"text-align: right;\">\n",
       "      <th></th>\n",
       "      <th>Marca</th>\n",
       "      <th>Nombre SKU 1</th>\n",
       "      <th>SKU 1</th>\n",
       "      <th>Sheet 1</th>\n",
       "      <th>Nombre SKU 2</th>\n",
       "      <th>SKU 2</th>\n",
       "      <th>Sheet 2</th>\n",
       "      <th>Similarity</th>\n",
       "      <th>Numbers 1</th>\n",
       "      <th>Numbers 2</th>\n",
       "    </tr>\n",
       "  </thead>\n",
       "  <tbody>\n",
       "    <tr>\n",
       "      <th>36</th>\n",
       "      <td>LIPTON</td>\n",
       "      <td>TE DP X 100 BOL LIPTON YELLOW LABEL</td>\n",
       "      <td>11484</td>\n",
       "      <td>Surtiventas Arbol_24_25</td>\n",
       "      <td>TE LIPTON YELLOW LABEL X 100 BL</td>\n",
       "      <td>71075</td>\n",
       "      <td>Prinorte Arbol_24_25</td>\n",
       "      <td>94</td>\n",
       "      <td>[100.0]</td>\n",
       "      <td>[100.0]</td>\n",
       "    </tr>\n",
       "  </tbody>\n",
       "</table>\n",
       "</div>"
      ]
     },
     "execution_count": 250,
     "metadata": {},
     "output_type": "execute_result"
    }
   ],
   "execution_count": 250,
   "source": "confident.loc[confident[\"SKU 1\"] == 11484]",
   "id": "86515d3569592b9a"
  },
  {
   "metadata": {},
   "cell_type": "code",
   "outputs": [],
   "execution_count": null,
   "source": "",
   "id": "40ce3e878d7b2f2c"
  },
  {
   "metadata": {},
   "cell_type": "code",
   "outputs": [],
   "execution_count": null,
   "source": "",
   "id": "6ea1d7b606304883"
  },
  {
   "metadata": {},
   "cell_type": "code",
   "outputs": [],
   "execution_count": null,
   "source": "",
   "id": "46faa370410445b7"
  },
  {
   "metadata": {
    "ExecuteTime": {
     "end_time": "2025-07-23T02:55:16.215867Z",
     "start_time": "2025-07-23T02:55:16.192639Z"
    }
   },
   "cell_type": "code",
   "source": "needs_review.loc[needs_review[\"SKU 1\"] == 41058]",
   "id": "9689375128e0ca30",
   "outputs": [
    {
     "data": {
      "text/plain": [
       "     Marca                  Nombre SKU 1  SKU 1                  Sheet 1  \\\n",
       "3  GOURMET  SALSA DE SOYA 165 CC GOURMET  41058  Surtiventas Arbol_24_25   \n",
       "\n",
       "                         Nombre SKU 2  SKU 2             Sheet 2  Similarity  \\\n",
       "3  SALSA DE SOYA SUAVE 165 CC GOURMET  92370  Prisur Arbol_24_25          90   \n",
       "\n",
       "  Numbers 1 Numbers 2  \n",
       "3   [165.0]   [165.0]  "
      ],
      "text/html": [
       "<div>\n",
       "<style scoped>\n",
       "    .dataframe tbody tr th:only-of-type {\n",
       "        vertical-align: middle;\n",
       "    }\n",
       "\n",
       "    .dataframe tbody tr th {\n",
       "        vertical-align: top;\n",
       "    }\n",
       "\n",
       "    .dataframe thead th {\n",
       "        text-align: right;\n",
       "    }\n",
       "</style>\n",
       "<table border=\"1\" class=\"dataframe\">\n",
       "  <thead>\n",
       "    <tr style=\"text-align: right;\">\n",
       "      <th></th>\n",
       "      <th>Marca</th>\n",
       "      <th>Nombre SKU 1</th>\n",
       "      <th>SKU 1</th>\n",
       "      <th>Sheet 1</th>\n",
       "      <th>Nombre SKU 2</th>\n",
       "      <th>SKU 2</th>\n",
       "      <th>Sheet 2</th>\n",
       "      <th>Similarity</th>\n",
       "      <th>Numbers 1</th>\n",
       "      <th>Numbers 2</th>\n",
       "    </tr>\n",
       "  </thead>\n",
       "  <tbody>\n",
       "    <tr>\n",
       "      <th>3</th>\n",
       "      <td>GOURMET</td>\n",
       "      <td>SALSA DE SOYA 165 CC GOURMET</td>\n",
       "      <td>41058</td>\n",
       "      <td>Surtiventas Arbol_24_25</td>\n",
       "      <td>SALSA DE SOYA SUAVE 165 CC GOURMET</td>\n",
       "      <td>92370</td>\n",
       "      <td>Prisur Arbol_24_25</td>\n",
       "      <td>90</td>\n",
       "      <td>[165.0]</td>\n",
       "      <td>[165.0]</td>\n",
       "    </tr>\n",
       "  </tbody>\n",
       "</table>\n",
       "</div>"
      ]
     },
     "execution_count": 255,
     "metadata": {},
     "output_type": "execute_result"
    }
   ],
   "execution_count": 255
  },
  {
   "metadata": {
    "ExecuteTime": {
     "end_time": "2025-07-23T02:55:34.206932Z",
     "start_time": "2025-07-23T02:55:34.181715Z"
    }
   },
   "cell_type": "code",
   "source": "exact_matches.loc[exact_matches[\"SKU 1\"] == 41058]",
   "id": "a825e5343abb30b6",
   "outputs": [
    {
     "data": {
      "text/plain": [
       "       Marca                  Nombre SKU 1  SKU 1                  Sheet 1  \\\n",
       "204  GOURMET  SALSA DE SOYA 165 CC GOURMET  41058  Surtiventas Arbol_24_25   \n",
       "\n",
       "                     Nombre SKU 2  SKU 2             Sheet 2  Similarity  \n",
       "204  SALSA DE SOYA 165 CC GOURMET  41058  Prisur Arbol_24_25         100  "
      ],
      "text/html": [
       "<div>\n",
       "<style scoped>\n",
       "    .dataframe tbody tr th:only-of-type {\n",
       "        vertical-align: middle;\n",
       "    }\n",
       "\n",
       "    .dataframe tbody tr th {\n",
       "        vertical-align: top;\n",
       "    }\n",
       "\n",
       "    .dataframe thead th {\n",
       "        text-align: right;\n",
       "    }\n",
       "</style>\n",
       "<table border=\"1\" class=\"dataframe\">\n",
       "  <thead>\n",
       "    <tr style=\"text-align: right;\">\n",
       "      <th></th>\n",
       "      <th>Marca</th>\n",
       "      <th>Nombre SKU 1</th>\n",
       "      <th>SKU 1</th>\n",
       "      <th>Sheet 1</th>\n",
       "      <th>Nombre SKU 2</th>\n",
       "      <th>SKU 2</th>\n",
       "      <th>Sheet 2</th>\n",
       "      <th>Similarity</th>\n",
       "    </tr>\n",
       "  </thead>\n",
       "  <tbody>\n",
       "    <tr>\n",
       "      <th>204</th>\n",
       "      <td>GOURMET</td>\n",
       "      <td>SALSA DE SOYA 165 CC GOURMET</td>\n",
       "      <td>41058</td>\n",
       "      <td>Surtiventas Arbol_24_25</td>\n",
       "      <td>SALSA DE SOYA 165 CC GOURMET</td>\n",
       "      <td>41058</td>\n",
       "      <td>Prisur Arbol_24_25</td>\n",
       "      <td>100</td>\n",
       "    </tr>\n",
       "  </tbody>\n",
       "</table>\n",
       "</div>"
      ]
     },
     "execution_count": 256,
     "metadata": {},
     "output_type": "execute_result"
    }
   ],
   "execution_count": 256
  },
  {
   "metadata": {},
   "cell_type": "code",
   "outputs": [],
   "execution_count": null,
   "source": "",
   "id": "e2007c83d0fd0332"
  }
 ],
 "metadata": {
  "kernelspec": {
   "display_name": "Python 3",
   "language": "python",
   "name": "python3"
  },
  "language_info": {
   "codemirror_mode": {
    "name": "ipython",
    "version": 2
   },
   "file_extension": ".py",
   "mimetype": "text/x-python",
   "name": "python",
   "nbconvert_exporter": "python",
   "pygments_lexer": "ipython2",
   "version": "2.7.6"
  }
 },
 "nbformat": 4,
 "nbformat_minor": 5
}
