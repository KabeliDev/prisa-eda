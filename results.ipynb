{
 "cells": [
  {
   "cell_type": "code",
   "id": "initial_id",
   "metadata": {
    "collapsed": true,
    "ExecuteTime": {
     "end_time": "2025-07-24T17:06:40.646349Z",
     "start_time": "2025-07-24T17:06:40.078119Z"
    }
   },
   "source": [
    "import importlib\n",
    "import utils\n",
    "import visualization\n",
    "\n",
    "importlib.reload(utils)\n",
    "importlib.reload(visualization)\n",
    "%reload_ext autoreload\n",
    "%autoreload 2\n",
    "from excel_utils import *\n",
    "from utils import *\n",
    "from visualization import visualize, graficar_distribucion_productos\n",
    "\n",
    "pd.set_option('display.max_colwidth', None)\n"
   ],
   "outputs": [],
   "execution_count": 1
  },
  {
   "metadata": {
    "ExecuteTime": {
     "end_time": "2025-07-24T17:06:43.182708Z",
     "start_time": "2025-07-24T17:06:43.031840Z"
    }
   },
   "cell_type": "code",
   "source": [
    "excel_path = \"/home/viktoria/Downloads/ARBOLES ALIMENTOS EJERCICIO KABELLI.xlsx\"\n",
    "# all data\n",
    "df_all = load_all_sheets(excel_path)\n",
    "\n",
    "print(\"Number os samples in the dataset:\", df_all.shape[0])"
   ],
   "id": "db5261d3a1137306",
   "outputs": [
    {
     "name": "stdout",
     "output_type": "stream",
     "text": [
      "Number os samples in the dataset: 2381\n"
     ]
    }
   ],
   "execution_count": 2
  },
  {
   "metadata": {
    "ExecuteTime": {
     "end_time": "2025-07-24T17:06:43.236350Z",
     "start_time": "2025-07-24T17:06:43.232524Z"
    }
   },
   "cell_type": "code",
   "source": "",
   "id": "da7233d8f9962a67",
   "outputs": [],
   "execution_count": null
  },
  {
   "metadata": {
    "ExecuteTime": {
     "end_time": "2025-07-24T17:06:43.390667Z",
     "start_time": "2025-07-24T17:06:43.387309Z"
    }
   },
   "cell_type": "code",
   "source": "",
   "id": "479ff91ed88dca57",
   "outputs": [],
   "execution_count": null
  },
  {
   "metadata": {
    "ExecuteTime": {
     "end_time": "2025-07-24T17:06:43.589781Z",
     "start_time": "2025-07-24T17:06:43.564796Z"
    }
   },
   "cell_type": "code",
   "source": [
    "total_count_products = (\n",
    "    df_all.groupby('Sheet')\n",
    "    .size()\n",
    "    .reset_index(name='Product Count')\n",
    ")\n",
    "total_count_products"
   ],
   "id": "181bc4d72d1624ce",
   "outputs": [
    {
     "data": {
      "text/plain": [
       "                     Sheet  Product Count\n",
       "0        PRISA Arbol_24_25            587\n",
       "1     Prilogic Arbol_24_25            265\n",
       "2     Prinorte Arbol_24_25            183\n",
       "3       Prisur Arbol_24_25            602\n",
       "4  Surtiventas Arbol_24_25            744"
      ],
      "text/html": [
       "<div>\n",
       "<style scoped>\n",
       "    .dataframe tbody tr th:only-of-type {\n",
       "        vertical-align: middle;\n",
       "    }\n",
       "\n",
       "    .dataframe tbody tr th {\n",
       "        vertical-align: top;\n",
       "    }\n",
       "\n",
       "    .dataframe thead th {\n",
       "        text-align: right;\n",
       "    }\n",
       "</style>\n",
       "<table border=\"1\" class=\"dataframe\">\n",
       "  <thead>\n",
       "    <tr style=\"text-align: right;\">\n",
       "      <th></th>\n",
       "      <th>Sheet</th>\n",
       "      <th>Product Count</th>\n",
       "    </tr>\n",
       "  </thead>\n",
       "  <tbody>\n",
       "    <tr>\n",
       "      <th>0</th>\n",
       "      <td>PRISA Arbol_24_25</td>\n",
       "      <td>587</td>\n",
       "    </tr>\n",
       "    <tr>\n",
       "      <th>1</th>\n",
       "      <td>Prilogic Arbol_24_25</td>\n",
       "      <td>265</td>\n",
       "    </tr>\n",
       "    <tr>\n",
       "      <th>2</th>\n",
       "      <td>Prinorte Arbol_24_25</td>\n",
       "      <td>183</td>\n",
       "    </tr>\n",
       "    <tr>\n",
       "      <th>3</th>\n",
       "      <td>Prisur Arbol_24_25</td>\n",
       "      <td>602</td>\n",
       "    </tr>\n",
       "    <tr>\n",
       "      <th>4</th>\n",
       "      <td>Surtiventas Arbol_24_25</td>\n",
       "      <td>744</td>\n",
       "    </tr>\n",
       "  </tbody>\n",
       "</table>\n",
       "</div>"
      ]
     },
     "execution_count": 3,
     "metadata": {},
     "output_type": "execute_result"
    }
   ],
   "execution_count": 3
  },
  {
   "metadata": {
    "ExecuteTime": {
     "end_time": "2025-07-24T17:06:43.748604Z",
     "start_time": "2025-07-24T17:06:43.744879Z"
    }
   },
   "cell_type": "code",
   "source": "",
   "id": "afcbe095cb52fc80",
   "outputs": [],
   "execution_count": null
  },
  {
   "metadata": {
    "ExecuteTime": {
     "end_time": "2025-07-24T17:06:44.378490Z",
     "start_time": "2025-07-24T17:06:44.375181Z"
    }
   },
   "cell_type": "code",
   "source": "",
   "id": "782aa947d5ba2eb3",
   "outputs": [],
   "execution_count": null
  },
  {
   "metadata": {
    "ExecuteTime": {
     "end_time": "2025-07-24T17:06:44.649692Z",
     "start_time": "2025-07-24T17:06:44.632970Z"
    }
   },
   "cell_type": "code",
   "source": "# Duplicados - los productos con los mismos SKU y Nombres SKU dentro de una subempresa",
   "id": "16f05d42939c499",
   "outputs": [],
   "execution_count": 4
  },
  {
   "metadata": {
    "ExecuteTime": {
     "end_time": "2025-07-24T17:06:44.874565Z",
     "start_time": "2025-07-24T17:06:44.832461Z"
    }
   },
   "cell_type": "code",
   "source": [
    "duplicates = find_internal_duplicates(df_all)\n",
    "print(f\"Number of duplicates: {duplicates.shape[0]}\")"
   ],
   "id": "ea740304d9292d67",
   "outputs": [
    {
     "name": "stdout",
     "output_type": "stream",
     "text": [
      "Number of duplicates: 58\n"
     ]
    }
   ],
   "execution_count": 5
  },
  {
   "metadata": {
    "ExecuteTime": {
     "end_time": "2025-07-24T17:06:45.051172Z",
     "start_time": "2025-07-24T17:06:45.028430Z"
    }
   },
   "cell_type": "code",
   "source": [
    "duplicates.head(5)\n",
    "# all duplicates are from Prilogic Arbol_24_25 company that is not considered\n"
   ],
   "id": "f7b20482bf28d460",
   "outputs": [
    {
     "data": {
      "text/plain": [
       "                                                Marca  \\\n",
       "0                        GALLETA COSTA TUAREG 120 GR.   \n",
       "1                        GALLETA COSTA TUAREG 120 GR.   \n",
       "2                ACEITE COCINA  1 LT. MARAVILLA CHEF.   \n",
       "3                ACEITE COCINA  1 LT. MARAVILLA CHEF.   \n",
       "4  GALLETA ARCOR BOCADITOS 300 GR DULCE/MEMBR HOLANDA   \n",
       "\n",
       "                                           Nombre SKU    SKU  \\\n",
       "0                        GALLETA COSTA TUAREG 120 GR.  10243   \n",
       "1                        GALLETA COSTA TUAREG 120 GR.  10243   \n",
       "2                ACEITE COCINA  1 LT. MARAVILLA CHEF.  12599   \n",
       "3                ACEITE COCINA  1 LT. MARAVILLA CHEF.  12599   \n",
       "4  GALLETA ARCOR BOCADITOS 300 GR DULCE/MEMBR HOLANDA  14266   \n",
       "\n",
       "                  Sheet  \n",
       "0  Prilogic Arbol_24_25  \n",
       "1  Prilogic Arbol_24_25  \n",
       "2  Prilogic Arbol_24_25  \n",
       "3  Prilogic Arbol_24_25  \n",
       "4  Prilogic Arbol_24_25  "
      ],
      "text/html": [
       "<div>\n",
       "<style scoped>\n",
       "    .dataframe tbody tr th:only-of-type {\n",
       "        vertical-align: middle;\n",
       "    }\n",
       "\n",
       "    .dataframe tbody tr th {\n",
       "        vertical-align: top;\n",
       "    }\n",
       "\n",
       "    .dataframe thead th {\n",
       "        text-align: right;\n",
       "    }\n",
       "</style>\n",
       "<table border=\"1\" class=\"dataframe\">\n",
       "  <thead>\n",
       "    <tr style=\"text-align: right;\">\n",
       "      <th></th>\n",
       "      <th>Marca</th>\n",
       "      <th>Nombre SKU</th>\n",
       "      <th>SKU</th>\n",
       "      <th>Sheet</th>\n",
       "    </tr>\n",
       "  </thead>\n",
       "  <tbody>\n",
       "    <tr>\n",
       "      <th>0</th>\n",
       "      <td>GALLETA COSTA TUAREG 120 GR.</td>\n",
       "      <td>GALLETA COSTA TUAREG 120 GR.</td>\n",
       "      <td>10243</td>\n",
       "      <td>Prilogic Arbol_24_25</td>\n",
       "    </tr>\n",
       "    <tr>\n",
       "      <th>1</th>\n",
       "      <td>GALLETA COSTA TUAREG 120 GR.</td>\n",
       "      <td>GALLETA COSTA TUAREG 120 GR.</td>\n",
       "      <td>10243</td>\n",
       "      <td>Prilogic Arbol_24_25</td>\n",
       "    </tr>\n",
       "    <tr>\n",
       "      <th>2</th>\n",
       "      <td>ACEITE COCINA  1 LT. MARAVILLA CHEF.</td>\n",
       "      <td>ACEITE COCINA  1 LT. MARAVILLA CHEF.</td>\n",
       "      <td>12599</td>\n",
       "      <td>Prilogic Arbol_24_25</td>\n",
       "    </tr>\n",
       "    <tr>\n",
       "      <th>3</th>\n",
       "      <td>ACEITE COCINA  1 LT. MARAVILLA CHEF.</td>\n",
       "      <td>ACEITE COCINA  1 LT. MARAVILLA CHEF.</td>\n",
       "      <td>12599</td>\n",
       "      <td>Prilogic Arbol_24_25</td>\n",
       "    </tr>\n",
       "    <tr>\n",
       "      <th>4</th>\n",
       "      <td>GALLETA ARCOR BOCADITOS 300 GR DULCE/MEMBR HOLANDA</td>\n",
       "      <td>GALLETA ARCOR BOCADITOS 300 GR DULCE/MEMBR HOLANDA</td>\n",
       "      <td>14266</td>\n",
       "      <td>Prilogic Arbol_24_25</td>\n",
       "    </tr>\n",
       "  </tbody>\n",
       "</table>\n",
       "</div>"
      ]
     },
     "execution_count": 6,
     "metadata": {},
     "output_type": "execute_result"
    }
   ],
   "execution_count": 6
  },
  {
   "metadata": {
    "ExecuteTime": {
     "end_time": "2025-07-24T17:06:45.172921Z",
     "start_time": "2025-07-24T17:06:45.170550Z"
    }
   },
   "cell_type": "code",
   "source": "",
   "id": "a7103179718294e9",
   "outputs": [],
   "execution_count": null
  },
  {
   "metadata": {
    "ExecuteTime": {
     "end_time": "2025-07-24T17:06:45.360157Z",
     "start_time": "2025-07-24T17:06:45.342497Z"
    }
   },
   "cell_type": "code",
   "source": [
    "import pandas as pd\n",
    "from fuzzywuzzy import fuzz\n",
    "\n",
    "# Exclude 'Prilogic Arbol_24_25' completely\n",
    "df_filtered = duplicates[duplicates[\"Sheet\"] != \"Prilogic Arbol_24_25\"]\n",
    "print(df_filtered.shape)\n",
    "\n"
   ],
   "id": "fc1a9bc313ad8f18",
   "outputs": [
    {
     "name": "stdout",
     "output_type": "stream",
     "text": [
      "(0, 4)\n"
     ]
    }
   ],
   "execution_count": 7
  },
  {
   "metadata": {
    "ExecuteTime": {
     "end_time": "2025-07-24T17:06:45.516457Z",
     "start_time": "2025-07-24T17:06:45.513880Z"
    }
   },
   "cell_type": "code",
   "source": "",
   "id": "c25acec00a914537",
   "outputs": [],
   "execution_count": null
  },
  {
   "metadata": {
    "ExecuteTime": {
     "end_time": "2025-07-24T17:06:45.709941Z",
     "start_time": "2025-07-24T17:06:45.689157Z"
    }
   },
   "cell_type": "code",
   "source": [
    "# The unique number of duplicates\n",
    "unique_duplicates = duplicates.groupby([\"Nombre SKU\", \"Marca\", \"SKU\"]).count()\n",
    "print(f\"Number of duplicated products: {unique_duplicates.shape[0]}\")"
   ],
   "id": "6c7b9747edd628f4",
   "outputs": [
    {
     "name": "stdout",
     "output_type": "stream",
     "text": [
      "Number of duplicated products: 29\n"
     ]
    }
   ],
   "execution_count": 8
  },
  {
   "metadata": {
    "ExecuteTime": {
     "end_time": "2025-07-24T17:06:45.898988Z",
     "start_time": "2025-07-24T17:06:45.862052Z"
    }
   },
   "cell_type": "code",
   "source": "unique_duplicates.head()",
   "id": "8cc09c3daae5ce51",
   "outputs": [
    {
     "data": {
      "text/plain": [
       "                                                                                       Sheet\n",
       "Nombre SKU                              Marca                                   SKU         \n",
       "ACEITE COCINA  1 LT. MARAVILLA CHEF.    ACEITE COCINA  1 LT. MARAVILLA CHEF.    12599      2\n",
       "AGUA MINERAL   500 CC BENEDICTINO S/GAS AGUA MINERAL   500 CC BENEDICTINO S/GAS 16817      2\n",
       "AGUA MINERAL   500 CC CACHANTUN C/GAS   AGUA MINERAL   500 CC CACHANTUN C/GAS   82036      2\n",
       "AGUA MINERAL   600 CC VITAL S/GAS       AGUA MINERAL   600 CC VITAL S/GAS       82041      2\n",
       "AZUCAR 1 KL. IANSA BOLSA GRADO 1        AZUCAR 1 KL. IANSA BOLSA GRADO 1        99839      2"
      ],
      "text/html": [
       "<div>\n",
       "<style scoped>\n",
       "    .dataframe tbody tr th:only-of-type {\n",
       "        vertical-align: middle;\n",
       "    }\n",
       "\n",
       "    .dataframe tbody tr th {\n",
       "        vertical-align: top;\n",
       "    }\n",
       "\n",
       "    .dataframe thead th {\n",
       "        text-align: right;\n",
       "    }\n",
       "</style>\n",
       "<table border=\"1\" class=\"dataframe\">\n",
       "  <thead>\n",
       "    <tr style=\"text-align: right;\">\n",
       "      <th></th>\n",
       "      <th></th>\n",
       "      <th></th>\n",
       "      <th>Sheet</th>\n",
       "    </tr>\n",
       "    <tr>\n",
       "      <th>Nombre SKU</th>\n",
       "      <th>Marca</th>\n",
       "      <th>SKU</th>\n",
       "      <th></th>\n",
       "    </tr>\n",
       "  </thead>\n",
       "  <tbody>\n",
       "    <tr>\n",
       "      <th>ACEITE COCINA  1 LT. MARAVILLA CHEF.</th>\n",
       "      <th>ACEITE COCINA  1 LT. MARAVILLA CHEF.</th>\n",
       "      <th>12599</th>\n",
       "      <td>2</td>\n",
       "    </tr>\n",
       "    <tr>\n",
       "      <th>AGUA MINERAL   500 CC BENEDICTINO S/GAS</th>\n",
       "      <th>AGUA MINERAL   500 CC BENEDICTINO S/GAS</th>\n",
       "      <th>16817</th>\n",
       "      <td>2</td>\n",
       "    </tr>\n",
       "    <tr>\n",
       "      <th>AGUA MINERAL   500 CC CACHANTUN C/GAS</th>\n",
       "      <th>AGUA MINERAL   500 CC CACHANTUN C/GAS</th>\n",
       "      <th>82036</th>\n",
       "      <td>2</td>\n",
       "    </tr>\n",
       "    <tr>\n",
       "      <th>AGUA MINERAL   600 CC VITAL S/GAS</th>\n",
       "      <th>AGUA MINERAL   600 CC VITAL S/GAS</th>\n",
       "      <th>82041</th>\n",
       "      <td>2</td>\n",
       "    </tr>\n",
       "    <tr>\n",
       "      <th>AZUCAR 1 KL. IANSA BOLSA GRADO 1</th>\n",
       "      <th>AZUCAR 1 KL. IANSA BOLSA GRADO 1</th>\n",
       "      <th>99839</th>\n",
       "      <td>2</td>\n",
       "    </tr>\n",
       "  </tbody>\n",
       "</table>\n",
       "</div>"
      ]
     },
     "execution_count": 9,
     "metadata": {},
     "output_type": "execute_result"
    }
   ],
   "execution_count": 9
  },
  {
   "metadata": {
    "ExecuteTime": {
     "end_time": "2025-07-24T17:06:46.043831Z",
     "start_time": "2025-07-24T17:06:46.039918Z"
    }
   },
   "cell_type": "code",
   "source": "",
   "id": "c6bb1d06dbcf114e",
   "outputs": [],
   "execution_count": null
  },
  {
   "metadata": {
    "ExecuteTime": {
     "end_time": "2025-07-24T17:06:46.227044Z",
     "start_time": "2025-07-24T17:06:46.213175Z"
    }
   },
   "cell_type": "code",
   "source": [
    "# There are no duplicates with exact same Nombre SKU in other companies besides Prilogic Arbol_24_25\n",
    "unique_sheets = duplicates['Sheet'].unique()\n",
    "unique_sheets = [sheet for sheet in unique_sheets if sheet != \"Prilogic Arbol_24_25\"]\n",
    "\n",
    "duplicates_counts = {}\n",
    "\n",
    "for sheet in unique_sheets:\n",
    "    sub_df = duplicates[duplicates['Sheet'] == sheet]\n",
    "    duplicates_counts[sheet] = sub_df.shape[0]\n",
    "\n",
    "print(duplicates_counts)"
   ],
   "id": "275b14a4151d4ea0",
   "outputs": [
    {
     "name": "stdout",
     "output_type": "stream",
     "text": [
      "{}\n"
     ]
    }
   ],
   "execution_count": 10
  },
  {
   "metadata": {
    "ExecuteTime": {
     "end_time": "2025-07-24T17:06:46.412100Z",
     "start_time": "2025-07-24T17:06:46.393598Z"
    }
   },
   "cell_type": "code",
   "source": [
    "# for futher analisis we do not consider duplicates\n",
    "df_all = df_all.drop_duplicates([\"Marca\", \"Nombre SKU\", \"SKU\", \"Sheet\"])"
   ],
   "id": "6ceca18082ffeeec",
   "outputs": [],
   "execution_count": 11
  },
  {
   "metadata": {},
   "cell_type": "markdown",
   "source": "### Busqueda de los productos iguales que tienen SKU iguales en las diferentes subempresas",
   "id": "4cf93a3a06cb74af"
  },
  {
   "metadata": {
    "ExecuteTime": {
     "end_time": "2025-07-24T17:06:49.253250Z",
     "start_time": "2025-07-24T17:06:46.742380Z"
    }
   },
   "cell_type": "code",
   "source": [
    "data = load_all_sheets(excel_path)\n",
    "\n",
    "correct_products = find_similar_products(data, 88, different_sku=False)\n",
    "correct_products = correct_products.copy()\n",
    "correct_products = remove_flavor_variants(correct_products)\n",
    "columns_to_show = [col for col in correct_products.columns if col not in ['Numbers 1', 'Numbers 2']]\n",
    "correct_products = correct_products.loc[:, columns_to_show]\n",
    "exact_matches = correct_products[correct_products['Similarity'] == 100]\n",
    "partial_matches = correct_products[correct_products['Similarity'] < 100]"
   ],
   "id": "4322a1f6fbf34a12",
   "outputs": [],
   "execution_count": 12
  },
  {
   "metadata": {
    "ExecuteTime": {
     "end_time": "2025-07-24T17:06:49.271187Z",
     "start_time": "2025-07-24T17:06:49.260346Z"
    }
   },
   "cell_type": "code",
   "source": [
    "# Los productos que tienen nombres iguales y SKU iguales\n",
    "same_name_same_sku = exact_matches.shape[0]\n",
    "print(same_name_same_sku)"
   ],
   "id": "dfa3f4435a371c46",
   "outputs": [
    {
     "name": "stdout",
     "output_type": "stream",
     "text": [
      "264\n"
     ]
    }
   ],
   "execution_count": 13
  },
  {
   "metadata": {
    "ExecuteTime": {
     "end_time": "2025-07-24T17:06:49.338995Z",
     "start_time": "2025-07-24T17:06:49.319595Z"
    }
   },
   "cell_type": "code",
   "source": "exact_matches.head(5)",
   "id": "57d0c7e0fe9a6907",
   "outputs": [
    {
     "data": {
      "text/plain": [
       "        Marca                          Nombre SKU 1  SKU 1  \\\n",
       "0     CASTANO  PAN DE PASCUA 500 GR CLASICO CASTANO  21720   \n",
       "1    LUCHETTI              SEMOLA 250 GR. LUCCHETTI  74627   \n",
       "2  LOS CHINOS        ARROZ 1 KG. GRADO 2 LOS CHINOS  78183   \n",
       "3     VITELLI  SOPA INST. 65 GR SABOR POLLO VITELLI  72472   \n",
       "4     VITELLI  SOPA INST. 65 GR SABOR CARNE VITELLI  72472   \n",
       "\n",
       "                   Sheet 1                          Nombre SKU 2  SKU 2  \\\n",
       "0  Surtiventas Arbol_24_25  PAN DE PASCUA 500 GR CLASICO CASTANO  21720   \n",
       "1  Surtiventas Arbol_24_25              SEMOLA 250 GR. LUCCHETTI  74627   \n",
       "2     Prinorte Arbol_24_25        ARROZ 1 KG. GRADO 2 LOS CHINOS  78183   \n",
       "3  Surtiventas Arbol_24_25  SOPA INST. 65 GR SABOR POLLO VITELLI  72472   \n",
       "4  Surtiventas Arbol_24_25  SOPA INST. 65 GR SABOR CARNE VITELLI  72472   \n",
       "\n",
       "              Sheet 2  Similarity  \n",
       "0  Prisur Arbol_24_25         100  \n",
       "1  Prisur Arbol_24_25         100  \n",
       "2  Prisur Arbol_24_25         100  \n",
       "3  Prisur Arbol_24_25         100  \n",
       "4  Prisur Arbol_24_25         100  "
      ],
      "text/html": [
       "<div>\n",
       "<style scoped>\n",
       "    .dataframe tbody tr th:only-of-type {\n",
       "        vertical-align: middle;\n",
       "    }\n",
       "\n",
       "    .dataframe tbody tr th {\n",
       "        vertical-align: top;\n",
       "    }\n",
       "\n",
       "    .dataframe thead th {\n",
       "        text-align: right;\n",
       "    }\n",
       "</style>\n",
       "<table border=\"1\" class=\"dataframe\">\n",
       "  <thead>\n",
       "    <tr style=\"text-align: right;\">\n",
       "      <th></th>\n",
       "      <th>Marca</th>\n",
       "      <th>Nombre SKU 1</th>\n",
       "      <th>SKU 1</th>\n",
       "      <th>Sheet 1</th>\n",
       "      <th>Nombre SKU 2</th>\n",
       "      <th>SKU 2</th>\n",
       "      <th>Sheet 2</th>\n",
       "      <th>Similarity</th>\n",
       "    </tr>\n",
       "  </thead>\n",
       "  <tbody>\n",
       "    <tr>\n",
       "      <th>0</th>\n",
       "      <td>CASTANO</td>\n",
       "      <td>PAN DE PASCUA 500 GR CLASICO CASTANO</td>\n",
       "      <td>21720</td>\n",
       "      <td>Surtiventas Arbol_24_25</td>\n",
       "      <td>PAN DE PASCUA 500 GR CLASICO CASTANO</td>\n",
       "      <td>21720</td>\n",
       "      <td>Prisur Arbol_24_25</td>\n",
       "      <td>100</td>\n",
       "    </tr>\n",
       "    <tr>\n",
       "      <th>1</th>\n",
       "      <td>LUCHETTI</td>\n",
       "      <td>SEMOLA 250 GR. LUCCHETTI</td>\n",
       "      <td>74627</td>\n",
       "      <td>Surtiventas Arbol_24_25</td>\n",
       "      <td>SEMOLA 250 GR. LUCCHETTI</td>\n",
       "      <td>74627</td>\n",
       "      <td>Prisur Arbol_24_25</td>\n",
       "      <td>100</td>\n",
       "    </tr>\n",
       "    <tr>\n",
       "      <th>2</th>\n",
       "      <td>LOS CHINOS</td>\n",
       "      <td>ARROZ 1 KG. GRADO 2 LOS CHINOS</td>\n",
       "      <td>78183</td>\n",
       "      <td>Prinorte Arbol_24_25</td>\n",
       "      <td>ARROZ 1 KG. GRADO 2 LOS CHINOS</td>\n",
       "      <td>78183</td>\n",
       "      <td>Prisur Arbol_24_25</td>\n",
       "      <td>100</td>\n",
       "    </tr>\n",
       "    <tr>\n",
       "      <th>3</th>\n",
       "      <td>VITELLI</td>\n",
       "      <td>SOPA INST. 65 GR SABOR POLLO VITELLI</td>\n",
       "      <td>72472</td>\n",
       "      <td>Surtiventas Arbol_24_25</td>\n",
       "      <td>SOPA INST. 65 GR SABOR POLLO VITELLI</td>\n",
       "      <td>72472</td>\n",
       "      <td>Prisur Arbol_24_25</td>\n",
       "      <td>100</td>\n",
       "    </tr>\n",
       "    <tr>\n",
       "      <th>4</th>\n",
       "      <td>VITELLI</td>\n",
       "      <td>SOPA INST. 65 GR SABOR CARNE VITELLI</td>\n",
       "      <td>72472</td>\n",
       "      <td>Surtiventas Arbol_24_25</td>\n",
       "      <td>SOPA INST. 65 GR SABOR CARNE VITELLI</td>\n",
       "      <td>72472</td>\n",
       "      <td>Prisur Arbol_24_25</td>\n",
       "      <td>100</td>\n",
       "    </tr>\n",
       "  </tbody>\n",
       "</table>\n",
       "</div>"
      ]
     },
     "execution_count": 14,
     "metadata": {},
     "output_type": "execute_result"
    }
   ],
   "execution_count": 14
  },
  {
   "metadata": {
    "ExecuteTime": {
     "end_time": "2025-07-24T17:06:49.409479Z",
     "start_time": "2025-07-24T17:06:49.385905Z"
    }
   },
   "cell_type": "code",
   "source": [
    "# Los productos que tienen nombres parecidos pero no iguales, SKU son iguales\n",
    "similar_name_same_sku = partial_matches.shape[0]\n",
    "print(similar_name_same_sku)"
   ],
   "id": "a3319661b769ba9f",
   "outputs": [
    {
     "name": "stdout",
     "output_type": "stream",
     "text": [
      "216\n"
     ]
    }
   ],
   "execution_count": 15
  },
  {
   "metadata": {
    "ExecuteTime": {
     "end_time": "2025-07-24T17:06:49.465826Z",
     "start_time": "2025-07-24T17:06:49.443740Z"
    }
   },
   "cell_type": "code",
   "source": "partial_matches.head(5)",
   "id": "ab3f258ef6891f9d",
   "outputs": [
    {
     "data": {
      "text/plain": [
       "       Marca                                     Nombre SKU 1  SKU 1  \\\n",
       "264  GOURMET          ESCENCIA DE PAN DE PASCUA 60 CC GOURMET  41077   \n",
       "265  GOURMET   CONDIMENTO CANELA ENTERA 15 GR X 50 UN GOURMET  41022   \n",
       "266     VIVO          JUGO NATURAL  190 ML VIVO PI¥A DP/3 UND  44103   \n",
       "267      LIV            AGUA MINERAL LIV 500 ML S/GAS X 12 UN  43738   \n",
       "268   SVELTY  LECHE EN POLVO  800 GR. SVELTY DESCRE. SOFTPACK  88276   \n",
       "\n",
       "                     Sheet 1                                     Nombre SKU 2  \\\n",
       "264  Surtiventas Arbol_24_25           ESENCIA DE PAN DE PASCUA 60 CC GOURMET   \n",
       "265  Surtiventas Arbol_24_25  CONDIMENTO CANELA ENTERA 15 GR X 50 UND GOURMET   \n",
       "266        PRISA Arbol_24_25           JUGO NATURAL 190 ML VIVO PINA DP/3 UND   \n",
       "267  Surtiventas Arbol_24_25           AGUA MINERAL LIV 500 ML S/GAS X 12 UND   \n",
       "268        PRISA Arbol_24_25    LECHE EN POLVO  800 GR SVELTY DESCR. SOFTPACK   \n",
       "\n",
       "     SKU 2               Sheet 2  Similarity  \n",
       "264  41077    Prisur Arbol_24_25          99  \n",
       "265  41022    Prisur Arbol_24_25          99  \n",
       "266  44103  Prinorte Arbol_24_25          99  \n",
       "267  43738    Prisur Arbol_24_25          99  \n",
       "268  88276  Prinorte Arbol_24_25          99  "
      ],
      "text/html": [
       "<div>\n",
       "<style scoped>\n",
       "    .dataframe tbody tr th:only-of-type {\n",
       "        vertical-align: middle;\n",
       "    }\n",
       "\n",
       "    .dataframe tbody tr th {\n",
       "        vertical-align: top;\n",
       "    }\n",
       "\n",
       "    .dataframe thead th {\n",
       "        text-align: right;\n",
       "    }\n",
       "</style>\n",
       "<table border=\"1\" class=\"dataframe\">\n",
       "  <thead>\n",
       "    <tr style=\"text-align: right;\">\n",
       "      <th></th>\n",
       "      <th>Marca</th>\n",
       "      <th>Nombre SKU 1</th>\n",
       "      <th>SKU 1</th>\n",
       "      <th>Sheet 1</th>\n",
       "      <th>Nombre SKU 2</th>\n",
       "      <th>SKU 2</th>\n",
       "      <th>Sheet 2</th>\n",
       "      <th>Similarity</th>\n",
       "    </tr>\n",
       "  </thead>\n",
       "  <tbody>\n",
       "    <tr>\n",
       "      <th>264</th>\n",
       "      <td>GOURMET</td>\n",
       "      <td>ESCENCIA DE PAN DE PASCUA 60 CC GOURMET</td>\n",
       "      <td>41077</td>\n",
       "      <td>Surtiventas Arbol_24_25</td>\n",
       "      <td>ESENCIA DE PAN DE PASCUA 60 CC GOURMET</td>\n",
       "      <td>41077</td>\n",
       "      <td>Prisur Arbol_24_25</td>\n",
       "      <td>99</td>\n",
       "    </tr>\n",
       "    <tr>\n",
       "      <th>265</th>\n",
       "      <td>GOURMET</td>\n",
       "      <td>CONDIMENTO CANELA ENTERA 15 GR X 50 UN GOURMET</td>\n",
       "      <td>41022</td>\n",
       "      <td>Surtiventas Arbol_24_25</td>\n",
       "      <td>CONDIMENTO CANELA ENTERA 15 GR X 50 UND GOURMET</td>\n",
       "      <td>41022</td>\n",
       "      <td>Prisur Arbol_24_25</td>\n",
       "      <td>99</td>\n",
       "    </tr>\n",
       "    <tr>\n",
       "      <th>266</th>\n",
       "      <td>VIVO</td>\n",
       "      <td>JUGO NATURAL  190 ML VIVO PI¥A DP/3 UND</td>\n",
       "      <td>44103</td>\n",
       "      <td>PRISA Arbol_24_25</td>\n",
       "      <td>JUGO NATURAL 190 ML VIVO PINA DP/3 UND</td>\n",
       "      <td>44103</td>\n",
       "      <td>Prinorte Arbol_24_25</td>\n",
       "      <td>99</td>\n",
       "    </tr>\n",
       "    <tr>\n",
       "      <th>267</th>\n",
       "      <td>LIV</td>\n",
       "      <td>AGUA MINERAL LIV 500 ML S/GAS X 12 UN</td>\n",
       "      <td>43738</td>\n",
       "      <td>Surtiventas Arbol_24_25</td>\n",
       "      <td>AGUA MINERAL LIV 500 ML S/GAS X 12 UND</td>\n",
       "      <td>43738</td>\n",
       "      <td>Prisur Arbol_24_25</td>\n",
       "      <td>99</td>\n",
       "    </tr>\n",
       "    <tr>\n",
       "      <th>268</th>\n",
       "      <td>SVELTY</td>\n",
       "      <td>LECHE EN POLVO  800 GR. SVELTY DESCRE. SOFTPACK</td>\n",
       "      <td>88276</td>\n",
       "      <td>PRISA Arbol_24_25</td>\n",
       "      <td>LECHE EN POLVO  800 GR SVELTY DESCR. SOFTPACK</td>\n",
       "      <td>88276</td>\n",
       "      <td>Prinorte Arbol_24_25</td>\n",
       "      <td>99</td>\n",
       "    </tr>\n",
       "  </tbody>\n",
       "</table>\n",
       "</div>"
      ]
     },
     "execution_count": 16,
     "metadata": {},
     "output_type": "execute_result"
    }
   ],
   "execution_count": 16
  },
  {
   "metadata": {
    "ExecuteTime": {
     "end_time": "2025-07-24T17:06:49.500066Z",
     "start_time": "2025-07-24T17:06:49.497798Z"
    }
   },
   "cell_type": "code",
   "source": "",
   "id": "c8aa3539f4e782cd",
   "outputs": [],
   "execution_count": null
  },
  {
   "metadata": {
    "ExecuteTime": {
     "end_time": "2025-07-24T17:06:49.578556Z",
     "start_time": "2025-07-24T17:06:49.547982Z"
    }
   },
   "cell_type": "code",
   "source": "exact_matches_counts = count_unique_products_per_sheet(exact_matches)",
   "id": "8ed3ebc053a9ead3",
   "outputs": [],
   "execution_count": 17
  },
  {
   "metadata": {
    "ExecuteTime": {
     "end_time": "2025-07-24T17:06:49.621869Z",
     "start_time": "2025-07-24T17:06:49.599710Z"
    }
   },
   "cell_type": "code",
   "source": "partial_matches_counts = count_unique_products_per_sheet(partial_matches)",
   "id": "7e53c005c26bbc73",
   "outputs": [],
   "execution_count": 18
  },
  {
   "metadata": {},
   "cell_type": "markdown",
   "source": "### Busqueda de los productos iguales que tienen diferentes SKU",
   "id": "f752f61609b9771d"
  },
  {
   "metadata": {
    "ExecuteTime": {
     "end_time": "2025-07-24T17:06:49.666683Z",
     "start_time": "2025-07-24T17:06:49.647422Z"
    }
   },
   "cell_type": "code",
   "source": "#Busqueda de los productos iguales que tienen diferentes SKU",
   "id": "ae4f5e07b11f801",
   "outputs": [],
   "execution_count": 19
  },
  {
   "metadata": {
    "ExecuteTime": {
     "end_time": "2025-07-24T17:06:49.702477Z",
     "start_time": "2025-07-24T17:06:49.699518Z"
    }
   },
   "cell_type": "code",
   "source": "",
   "id": "34fb108080381ebd",
   "outputs": [],
   "execution_count": null
  },
  {
   "metadata": {
    "ExecuteTime": {
     "end_time": "2025-07-24T17:06:52.276685Z",
     "start_time": "2025-07-24T17:06:49.750256Z"
    }
   },
   "cell_type": "code",
   "source": [
    "excel_path = \"/home/viktoria/Downloads/ARBOLES ALIMENTOS EJERCICIO KABELLI.xlsx\"\n",
    "\n",
    "confident, needs_review = process_excel_for_duplicates(\n",
    "    excel_path,\n",
    "    confidence_threshold=93,\n",
    "    low_confidence_threshold=77\n",
    ")\n"
   ],
   "id": "3a2098c528a571a2",
   "outputs": [],
   "execution_count": 20
  },
  {
   "metadata": {
    "ExecuteTime": {
     "end_time": "2025-07-24T17:06:52.300051Z",
     "start_time": "2025-07-24T17:06:52.284121Z"
    }
   },
   "cell_type": "code",
   "source": [
    "different_sku_conf = confident.shape[0]\n",
    "different_sku_conf"
   ],
   "id": "6fa154e4eb1bfa02",
   "outputs": [
    {
     "data": {
      "text/plain": [
       "58"
      ]
     },
     "execution_count": 21,
     "metadata": {},
     "output_type": "execute_result"
    }
   ],
   "execution_count": 21
  },
  {
   "metadata": {
    "ExecuteTime": {
     "end_time": "2025-07-24T17:06:52.370498Z",
     "start_time": "2025-07-24T17:06:52.349098Z"
    }
   },
   "cell_type": "code",
   "source": [
    "different_sku_review = needs_review.shape[0]\n",
    "different_sku_review"
   ],
   "id": "6ae7c83b072ff256",
   "outputs": [
    {
     "data": {
      "text/plain": [
       "232"
      ]
     },
     "execution_count": 22,
     "metadata": {},
     "output_type": "execute_result"
    }
   ],
   "execution_count": 22
  },
  {
   "metadata": {
    "ExecuteTime": {
     "end_time": "2025-07-24T17:06:52.431611Z",
     "start_time": "2025-07-24T17:06:52.409176Z"
    }
   },
   "cell_type": "code",
   "source": "confident.head(5)",
   "id": "3a23aa1221082748",
   "outputs": [
    {
     "data": {
      "text/plain": [
       "     Marca                           Nombre SKU 1  SKU 1  \\\n",
       "0    DEYCO         ATUN LOMITOS AGUA 160 GR DEYCO  72260   \n",
       "1  COLISEO        POROTO    1 KG. HALLADO COLISEO  75760   \n",
       "2  BELMONT  ACEITE COCINA 250 CC. VEGETAL BELMONT  79094   \n",
       "3  COLISEO                   AZUCAR 1 KG. COLISEO  22960   \n",
       "4  COLISEO   ATUN DESMENUZADO AGUA 170 GR COLISEO  75969   \n",
       "\n",
       "                   Sheet 1                           Nombre SKU 2  SKU 2  \\\n",
       "0  Surtiventas Arbol_24_25         ATUN LOMITOS AGUA 160 GR DEYCO  98372   \n",
       "1  Surtiventas Arbol_24_25        POROTO    1 KG. COLISEO HALLADO  85096   \n",
       "2  Surtiventas Arbol_24_25  ACEITE COCINA 250 CC. VEGETAL BELMONT  19256   \n",
       "3     Prinorte Arbol_24_25                 AZUCAR   1 KG. COLISEO  71978   \n",
       "4  Surtiventas Arbol_24_25   ATUN DESMENUZADO AGUA 170 GR COLISEO  85102   \n",
       "\n",
       "                Sheet 2  Similarity Numbers 1 Numbers 2  \n",
       "0  Prinorte Arbol_24_25         100   [160.0]   [160.0]  \n",
       "1    Prisur Arbol_24_25         100     [1.0]     [1.0]  \n",
       "2    Prisur Arbol_24_25         100   [250.0]   [250.0]  \n",
       "3    Prisur Arbol_24_25         100     [1.0]     [1.0]  \n",
       "4    Prisur Arbol_24_25         100   [170.0]   [170.0]  "
      ],
      "text/html": [
       "<div>\n",
       "<style scoped>\n",
       "    .dataframe tbody tr th:only-of-type {\n",
       "        vertical-align: middle;\n",
       "    }\n",
       "\n",
       "    .dataframe tbody tr th {\n",
       "        vertical-align: top;\n",
       "    }\n",
       "\n",
       "    .dataframe thead th {\n",
       "        text-align: right;\n",
       "    }\n",
       "</style>\n",
       "<table border=\"1\" class=\"dataframe\">\n",
       "  <thead>\n",
       "    <tr style=\"text-align: right;\">\n",
       "      <th></th>\n",
       "      <th>Marca</th>\n",
       "      <th>Nombre SKU 1</th>\n",
       "      <th>SKU 1</th>\n",
       "      <th>Sheet 1</th>\n",
       "      <th>Nombre SKU 2</th>\n",
       "      <th>SKU 2</th>\n",
       "      <th>Sheet 2</th>\n",
       "      <th>Similarity</th>\n",
       "      <th>Numbers 1</th>\n",
       "      <th>Numbers 2</th>\n",
       "    </tr>\n",
       "  </thead>\n",
       "  <tbody>\n",
       "    <tr>\n",
       "      <th>0</th>\n",
       "      <td>DEYCO</td>\n",
       "      <td>ATUN LOMITOS AGUA 160 GR DEYCO</td>\n",
       "      <td>72260</td>\n",
       "      <td>Surtiventas Arbol_24_25</td>\n",
       "      <td>ATUN LOMITOS AGUA 160 GR DEYCO</td>\n",
       "      <td>98372</td>\n",
       "      <td>Prinorte Arbol_24_25</td>\n",
       "      <td>100</td>\n",
       "      <td>[160.0]</td>\n",
       "      <td>[160.0]</td>\n",
       "    </tr>\n",
       "    <tr>\n",
       "      <th>1</th>\n",
       "      <td>COLISEO</td>\n",
       "      <td>POROTO    1 KG. HALLADO COLISEO</td>\n",
       "      <td>75760</td>\n",
       "      <td>Surtiventas Arbol_24_25</td>\n",
       "      <td>POROTO    1 KG. COLISEO HALLADO</td>\n",
       "      <td>85096</td>\n",
       "      <td>Prisur Arbol_24_25</td>\n",
       "      <td>100</td>\n",
       "      <td>[1.0]</td>\n",
       "      <td>[1.0]</td>\n",
       "    </tr>\n",
       "    <tr>\n",
       "      <th>2</th>\n",
       "      <td>BELMONT</td>\n",
       "      <td>ACEITE COCINA 250 CC. VEGETAL BELMONT</td>\n",
       "      <td>79094</td>\n",
       "      <td>Surtiventas Arbol_24_25</td>\n",
       "      <td>ACEITE COCINA 250 CC. VEGETAL BELMONT</td>\n",
       "      <td>19256</td>\n",
       "      <td>Prisur Arbol_24_25</td>\n",
       "      <td>100</td>\n",
       "      <td>[250.0]</td>\n",
       "      <td>[250.0]</td>\n",
       "    </tr>\n",
       "    <tr>\n",
       "      <th>3</th>\n",
       "      <td>COLISEO</td>\n",
       "      <td>AZUCAR 1 KG. COLISEO</td>\n",
       "      <td>22960</td>\n",
       "      <td>Prinorte Arbol_24_25</td>\n",
       "      <td>AZUCAR   1 KG. COLISEO</td>\n",
       "      <td>71978</td>\n",
       "      <td>Prisur Arbol_24_25</td>\n",
       "      <td>100</td>\n",
       "      <td>[1.0]</td>\n",
       "      <td>[1.0]</td>\n",
       "    </tr>\n",
       "    <tr>\n",
       "      <th>4</th>\n",
       "      <td>COLISEO</td>\n",
       "      <td>ATUN DESMENUZADO AGUA 170 GR COLISEO</td>\n",
       "      <td>75969</td>\n",
       "      <td>Surtiventas Arbol_24_25</td>\n",
       "      <td>ATUN DESMENUZADO AGUA 170 GR COLISEO</td>\n",
       "      <td>85102</td>\n",
       "      <td>Prisur Arbol_24_25</td>\n",
       "      <td>100</td>\n",
       "      <td>[170.0]</td>\n",
       "      <td>[170.0]</td>\n",
       "    </tr>\n",
       "  </tbody>\n",
       "</table>\n",
       "</div>"
      ]
     },
     "execution_count": 23,
     "metadata": {},
     "output_type": "execute_result"
    }
   ],
   "execution_count": 23
  },
  {
   "metadata": {
    "ExecuteTime": {
     "end_time": "2025-07-24T17:06:52.509108Z",
     "start_time": "2025-07-24T17:06:52.466097Z"
    }
   },
   "cell_type": "code",
   "source": [
    "needs_review.head(5)\n",
    "# Aparecen poductos que ya pueden ser diferentes como\n",
    "#CEREAL BARRA COSTA FRUTOS ROJOS + YOGURT X 20 UDS\t -  CEREAL BARRA COSTA FRUTOS ROJOS (No tiene Yogurt)\n",
    "# SALSA DE SOYA SUAVE 165 CC GOURMET -  SALSA DE SOYA SUAVE 165 CC GOURMET (tiene Sauve)\n",
    "#\tYERBA MATE 250 GR. SUPREMO ARGENTIN -\tYERBA MATE 250 GR SUPREMO ARGENTINA NARANJA\n",
    "# CAFE INST. JUAN VALDEZ 95 GR LIOFILIZADO DESCAFEIN\t-  CAFE 95 GR JUAN VALDEZ INST. LIOFILIZADO\n",
    "# Pero la mayoria son iguales"
   ],
   "id": "d765185684037f06",
   "outputs": [
    {
     "data": {
      "text/plain": [
       "       Marca                                      Nombre SKU 1  SKU 1  \\\n",
       "0    COLISEO          FIDEO 400 GR SPAGUETTI  COLISEO SPECIALE  54052   \n",
       "1      WASIL                        ARVEJA 340 CC. WASIL TETRA  57039   \n",
       "2  LUCCHETTI                FIDEO 400 GR TALLARIN 77 LUCCHETTI  24295   \n",
       "3    NESCAFE  CAFE INST. NESCAFE TRADICION  400 GR POLVO TARRO  12596   \n",
       "4   ALOE WIN            BEBIDA ALOE WIN 500 CC ALOE VERA MANGO  12566   \n",
       "\n",
       "                   Sheet 1                                  Nombre SKU 2  \\\n",
       "0  Surtiventas Arbol_24_25  PASTA FIDEO 400 GR COLISEO SPAGUETTI SPECIAL   \n",
       "1  Surtiventas Arbol_24_25                    ARVEJA 340 GR. WASIL TETRA   \n",
       "2  Surtiventas Arbol_24_25      PASTA FIDEO 400 GR LUCCHETTI TALLARIN 77   \n",
       "3        PRISA Arbol_24_25   CAFE 400 GR NESCAFE TRADICIONAL POLVO TARRO   \n",
       "4        PRISA Arbol_24_25        BEBIDA ALOE VERA 500 ML MANGO ALOE WIN   \n",
       "\n",
       "   SKU 2                  Sheet 2  Similarity      Numbers 1      Numbers 2  \n",
       "0  72501       Prisur Arbol_24_25          92        [400.0]        [400.0]  \n",
       "1  57031       Prisur Arbol_24_25          92        [340.0]        [340.0]  \n",
       "2  75555       Prisur Arbol_24_25          92  [400.0, 77.0]  [400.0, 77.0]  \n",
       "3  89295       Prisur Arbol_24_25          92        [400.0]        [400.0]  \n",
       "4  35160  Surtiventas Arbol_24_25          92        [500.0]        [500.0]  "
      ],
      "text/html": [
       "<div>\n",
       "<style scoped>\n",
       "    .dataframe tbody tr th:only-of-type {\n",
       "        vertical-align: middle;\n",
       "    }\n",
       "\n",
       "    .dataframe tbody tr th {\n",
       "        vertical-align: top;\n",
       "    }\n",
       "\n",
       "    .dataframe thead th {\n",
       "        text-align: right;\n",
       "    }\n",
       "</style>\n",
       "<table border=\"1\" class=\"dataframe\">\n",
       "  <thead>\n",
       "    <tr style=\"text-align: right;\">\n",
       "      <th></th>\n",
       "      <th>Marca</th>\n",
       "      <th>Nombre SKU 1</th>\n",
       "      <th>SKU 1</th>\n",
       "      <th>Sheet 1</th>\n",
       "      <th>Nombre SKU 2</th>\n",
       "      <th>SKU 2</th>\n",
       "      <th>Sheet 2</th>\n",
       "      <th>Similarity</th>\n",
       "      <th>Numbers 1</th>\n",
       "      <th>Numbers 2</th>\n",
       "    </tr>\n",
       "  </thead>\n",
       "  <tbody>\n",
       "    <tr>\n",
       "      <th>0</th>\n",
       "      <td>COLISEO</td>\n",
       "      <td>FIDEO 400 GR SPAGUETTI  COLISEO SPECIALE</td>\n",
       "      <td>54052</td>\n",
       "      <td>Surtiventas Arbol_24_25</td>\n",
       "      <td>PASTA FIDEO 400 GR COLISEO SPAGUETTI SPECIAL</td>\n",
       "      <td>72501</td>\n",
       "      <td>Prisur Arbol_24_25</td>\n",
       "      <td>92</td>\n",
       "      <td>[400.0]</td>\n",
       "      <td>[400.0]</td>\n",
       "    </tr>\n",
       "    <tr>\n",
       "      <th>1</th>\n",
       "      <td>WASIL</td>\n",
       "      <td>ARVEJA 340 CC. WASIL TETRA</td>\n",
       "      <td>57039</td>\n",
       "      <td>Surtiventas Arbol_24_25</td>\n",
       "      <td>ARVEJA 340 GR. WASIL TETRA</td>\n",
       "      <td>57031</td>\n",
       "      <td>Prisur Arbol_24_25</td>\n",
       "      <td>92</td>\n",
       "      <td>[340.0]</td>\n",
       "      <td>[340.0]</td>\n",
       "    </tr>\n",
       "    <tr>\n",
       "      <th>2</th>\n",
       "      <td>LUCCHETTI</td>\n",
       "      <td>FIDEO 400 GR TALLARIN 77 LUCCHETTI</td>\n",
       "      <td>24295</td>\n",
       "      <td>Surtiventas Arbol_24_25</td>\n",
       "      <td>PASTA FIDEO 400 GR LUCCHETTI TALLARIN 77</td>\n",
       "      <td>75555</td>\n",
       "      <td>Prisur Arbol_24_25</td>\n",
       "      <td>92</td>\n",
       "      <td>[400.0, 77.0]</td>\n",
       "      <td>[400.0, 77.0]</td>\n",
       "    </tr>\n",
       "    <tr>\n",
       "      <th>3</th>\n",
       "      <td>NESCAFE</td>\n",
       "      <td>CAFE INST. NESCAFE TRADICION  400 GR POLVO TARRO</td>\n",
       "      <td>12596</td>\n",
       "      <td>PRISA Arbol_24_25</td>\n",
       "      <td>CAFE 400 GR NESCAFE TRADICIONAL POLVO TARRO</td>\n",
       "      <td>89295</td>\n",
       "      <td>Prisur Arbol_24_25</td>\n",
       "      <td>92</td>\n",
       "      <td>[400.0]</td>\n",
       "      <td>[400.0]</td>\n",
       "    </tr>\n",
       "    <tr>\n",
       "      <th>4</th>\n",
       "      <td>ALOE WIN</td>\n",
       "      <td>BEBIDA ALOE WIN 500 CC ALOE VERA MANGO</td>\n",
       "      <td>12566</td>\n",
       "      <td>PRISA Arbol_24_25</td>\n",
       "      <td>BEBIDA ALOE VERA 500 ML MANGO ALOE WIN</td>\n",
       "      <td>35160</td>\n",
       "      <td>Surtiventas Arbol_24_25</td>\n",
       "      <td>92</td>\n",
       "      <td>[500.0]</td>\n",
       "      <td>[500.0]</td>\n",
       "    </tr>\n",
       "  </tbody>\n",
       "</table>\n",
       "</div>"
      ]
     },
     "execution_count": 24,
     "metadata": {},
     "output_type": "execute_result"
    }
   ],
   "execution_count": 24
  },
  {
   "metadata": {
    "ExecuteTime": {
     "end_time": "2025-07-24T17:06:52.556974Z",
     "start_time": "2025-07-24T17:06:52.554863Z"
    }
   },
   "cell_type": "code",
   "source": "",
   "id": "95165f628698e27d",
   "outputs": [],
   "execution_count": null
  },
  {
   "metadata": {
    "ExecuteTime": {
     "end_time": "2025-07-24T17:06:52.586599Z",
     "start_time": "2025-07-24T17:06:52.584007Z"
    }
   },
   "cell_type": "code",
   "source": "",
   "id": "f9d472a298a25a20",
   "outputs": [],
   "execution_count": null
  },
  {
   "metadata": {
    "ExecuteTime": {
     "end_time": "2025-07-24T17:06:57.688577Z",
     "start_time": "2025-07-24T17:06:52.631609Z"
    }
   },
   "cell_type": "code",
   "source": [
    "filtered = find_normal_cases(excel_path)\n",
    "filtered = filtered.rename(columns={\"Sheet\": \"Subempresa\"})\n",
    "filtered = filtered.drop_duplicates()\n",
    "filtered_count = filtered.shape[0]\n"
   ],
   "id": "4834f196e899103f",
   "outputs": [
    {
     "name": "stdout",
     "output_type": "stream",
     "text": [
      "(2381, 4)\n",
      "(2284, 4)\n"
     ]
    }
   ],
   "execution_count": 25
  },
  {
   "metadata": {
    "ExecuteTime": {
     "end_time": "2025-07-24T17:06:57.708513Z",
     "start_time": "2025-07-24T17:06:57.697720Z"
    }
   },
   "cell_type": "code",
   "source": "filtered_count",
   "id": "22ce68b313a74f85",
   "outputs": [
    {
     "data": {
      "text/plain": [
       "1376"
      ]
     },
     "execution_count": 26,
     "metadata": {},
     "output_type": "execute_result"
    }
   ],
   "execution_count": 26
  },
  {
   "metadata": {
    "ExecuteTime": {
     "end_time": "2025-07-24T17:06:57.759054Z",
     "start_time": "2025-07-24T17:06:57.754007Z"
    }
   },
   "cell_type": "code",
   "source": "",
   "id": "9f1a27f3ef1c251a",
   "outputs": [],
   "execution_count": null
  },
  {
   "metadata": {
    "ExecuteTime": {
     "end_time": "2025-07-24T17:06:57.825530Z",
     "start_time": "2025-07-24T17:06:57.808667Z"
    }
   },
   "cell_type": "code",
   "source": [
    "exact_prod = pairs_to_unique_products(exact_matches)\n",
    "partial_prod = pairs_to_unique_products(partial_matches)\n",
    "condident_prod = pairs_to_unique_products(confident)\n",
    "need_review_prod = pairs_to_unique_products(needs_review)"
   ],
   "id": "ae52d281f5ce84f9",
   "outputs": [],
   "execution_count": 27
  },
  {
   "metadata": {
    "ExecuteTime": {
     "end_time": "2025-07-24T17:06:57.889330Z",
     "start_time": "2025-07-24T17:06:57.867793Z"
    }
   },
   "cell_type": "code",
   "source": [
    "all_different_sku = pd.concat([condident_prod, need_review_prod])\n",
    "all_different_sku = all_different_sku.drop_duplicates([\"Nombre SKU\", \"Marca\", \"SKU\"])\n",
    "all_different_sku.shape\n",
    "\n"
   ],
   "id": "73569462b86b7870",
   "outputs": [
    {
     "data": {
      "text/plain": [
       "(288, 4)"
      ]
     },
     "execution_count": 28,
     "metadata": {},
     "output_type": "execute_result"
    }
   ],
   "execution_count": 28
  },
  {
   "metadata": {
    "ExecuteTime": {
     "end_time": "2025-07-24T17:06:57.955951Z",
     "start_time": "2025-07-24T17:06:57.931363Z"
    }
   },
   "cell_type": "code",
   "source": "all_different_sku",
   "id": "50f376d99545f8df",
   "outputs": [
    {
     "data": {
      "text/plain": [
       "         Marca                                          Nombre SKU    SKU  \\\n",
       "0        DEYCO                      ATUN LOMITOS AGUA 160 GR DEYCO  72260   \n",
       "1      COLISEO                     POROTO    1 KG. HALLADO COLISEO  75760   \n",
       "2      BELMONT               ACEITE COCINA 250 CC. VEGETAL BELMONT  79094   \n",
       "3      COLISEO                                AZUCAR 1 KG. COLISEO  22960   \n",
       "4      COLISEO                ATUN DESMENUZADO AGUA 170 GR COLISEO  75969   \n",
       "..         ...                                                 ...    ...   \n",
       "230  VERDEFLOR  YERBA MATE 500 GR VERDEFLOR CHAU ACIDEZ MEN/POL/CE  82618   \n",
       "231  COCA-COLA                BEBIDA LATA 350CC COCA-COLA ORIGINAL  82046   \n",
       "232      HAITI        CAFE 250 GR HAITI MEZCLA EXPRESS ROJO MOLIDO  84522   \n",
       "233      IANSA                  ENDULZANTE IANSA C.K 250 ML STEVIA  92473   \n",
       "234    SUPREMO         TE HIERBAS SUPREMO BAILAHUEN  X 20 BOLSITAS  84506   \n",
       "\n",
       "                       Sheet  \n",
       "0    Surtiventas Arbol_24_25  \n",
       "1    Surtiventas Arbol_24_25  \n",
       "2    Surtiventas Arbol_24_25  \n",
       "3       Prinorte Arbol_24_25  \n",
       "4    Surtiventas Arbol_24_25  \n",
       "..                       ...  \n",
       "230       Prisur Arbol_24_25  \n",
       "231       Prisur Arbol_24_25  \n",
       "232       Prisur Arbol_24_25  \n",
       "233  Surtiventas Arbol_24_25  \n",
       "234       Prisur Arbol_24_25  \n",
       "\n",
       "[288 rows x 4 columns]"
      ],
      "text/html": [
       "<div>\n",
       "<style scoped>\n",
       "    .dataframe tbody tr th:only-of-type {\n",
       "        vertical-align: middle;\n",
       "    }\n",
       "\n",
       "    .dataframe tbody tr th {\n",
       "        vertical-align: top;\n",
       "    }\n",
       "\n",
       "    .dataframe thead th {\n",
       "        text-align: right;\n",
       "    }\n",
       "</style>\n",
       "<table border=\"1\" class=\"dataframe\">\n",
       "  <thead>\n",
       "    <tr style=\"text-align: right;\">\n",
       "      <th></th>\n",
       "      <th>Marca</th>\n",
       "      <th>Nombre SKU</th>\n",
       "      <th>SKU</th>\n",
       "      <th>Sheet</th>\n",
       "    </tr>\n",
       "  </thead>\n",
       "  <tbody>\n",
       "    <tr>\n",
       "      <th>0</th>\n",
       "      <td>DEYCO</td>\n",
       "      <td>ATUN LOMITOS AGUA 160 GR DEYCO</td>\n",
       "      <td>72260</td>\n",
       "      <td>Surtiventas Arbol_24_25</td>\n",
       "    </tr>\n",
       "    <tr>\n",
       "      <th>1</th>\n",
       "      <td>COLISEO</td>\n",
       "      <td>POROTO    1 KG. HALLADO COLISEO</td>\n",
       "      <td>75760</td>\n",
       "      <td>Surtiventas Arbol_24_25</td>\n",
       "    </tr>\n",
       "    <tr>\n",
       "      <th>2</th>\n",
       "      <td>BELMONT</td>\n",
       "      <td>ACEITE COCINA 250 CC. VEGETAL BELMONT</td>\n",
       "      <td>79094</td>\n",
       "      <td>Surtiventas Arbol_24_25</td>\n",
       "    </tr>\n",
       "    <tr>\n",
       "      <th>3</th>\n",
       "      <td>COLISEO</td>\n",
       "      <td>AZUCAR 1 KG. COLISEO</td>\n",
       "      <td>22960</td>\n",
       "      <td>Prinorte Arbol_24_25</td>\n",
       "    </tr>\n",
       "    <tr>\n",
       "      <th>4</th>\n",
       "      <td>COLISEO</td>\n",
       "      <td>ATUN DESMENUZADO AGUA 170 GR COLISEO</td>\n",
       "      <td>75969</td>\n",
       "      <td>Surtiventas Arbol_24_25</td>\n",
       "    </tr>\n",
       "    <tr>\n",
       "      <th>...</th>\n",
       "      <td>...</td>\n",
       "      <td>...</td>\n",
       "      <td>...</td>\n",
       "      <td>...</td>\n",
       "    </tr>\n",
       "    <tr>\n",
       "      <th>230</th>\n",
       "      <td>VERDEFLOR</td>\n",
       "      <td>YERBA MATE 500 GR VERDEFLOR CHAU ACIDEZ MEN/POL/CE</td>\n",
       "      <td>82618</td>\n",
       "      <td>Prisur Arbol_24_25</td>\n",
       "    </tr>\n",
       "    <tr>\n",
       "      <th>231</th>\n",
       "      <td>COCA-COLA</td>\n",
       "      <td>BEBIDA LATA 350CC COCA-COLA ORIGINAL</td>\n",
       "      <td>82046</td>\n",
       "      <td>Prisur Arbol_24_25</td>\n",
       "    </tr>\n",
       "    <tr>\n",
       "      <th>232</th>\n",
       "      <td>HAITI</td>\n",
       "      <td>CAFE 250 GR HAITI MEZCLA EXPRESS ROJO MOLIDO</td>\n",
       "      <td>84522</td>\n",
       "      <td>Prisur Arbol_24_25</td>\n",
       "    </tr>\n",
       "    <tr>\n",
       "      <th>233</th>\n",
       "      <td>IANSA</td>\n",
       "      <td>ENDULZANTE IANSA C.K 250 ML STEVIA</td>\n",
       "      <td>92473</td>\n",
       "      <td>Surtiventas Arbol_24_25</td>\n",
       "    </tr>\n",
       "    <tr>\n",
       "      <th>234</th>\n",
       "      <td>SUPREMO</td>\n",
       "      <td>TE HIERBAS SUPREMO BAILAHUEN  X 20 BOLSITAS</td>\n",
       "      <td>84506</td>\n",
       "      <td>Prisur Arbol_24_25</td>\n",
       "    </tr>\n",
       "  </tbody>\n",
       "</table>\n",
       "<p>288 rows × 4 columns</p>\n",
       "</div>"
      ]
     },
     "execution_count": 29,
     "metadata": {},
     "output_type": "execute_result"
    }
   ],
   "execution_count": 29
  },
  {
   "metadata": {
    "ExecuteTime": {
     "end_time": "2025-07-24T17:06:58.010582Z",
     "start_time": "2025-07-24T17:06:57.987122Z"
    }
   },
   "cell_type": "code",
   "source": [
    "\n",
    "confident_counts = count_unique_products_per_sheet(confident)"
   ],
   "id": "a20f8bffecdd79fd",
   "outputs": [],
   "execution_count": 30
  },
  {
   "metadata": {
    "ExecuteTime": {
     "end_time": "2025-07-24T17:06:58.053162Z",
     "start_time": "2025-07-24T17:06:58.034654Z"
    }
   },
   "cell_type": "code",
   "source": "needs_review_counts = count_unique_products_per_sheet(needs_review)",
   "id": "180a51bf82d5c7b7",
   "outputs": [],
   "execution_count": 31
  },
  {
   "metadata": {
    "ExecuteTime": {
     "end_time": "2025-07-24T17:06:58.088682Z",
     "start_time": "2025-07-24T17:06:58.085392Z"
    }
   },
   "cell_type": "code",
   "source": "",
   "id": "a1cb735ad8d5a072",
   "outputs": [],
   "execution_count": null
  },
  {
   "metadata": {
    "ExecuteTime": {
     "end_time": "2025-07-24T17:06:58.156917Z",
     "start_time": "2025-07-24T17:06:58.135916Z"
    }
   },
   "cell_type": "code",
   "source": "# En las estadísticas se muestra el número de productos únicos. (no coincidencias)",
   "id": "bf9f9bebcec5a690",
   "outputs": [],
   "execution_count": 32
  },
  {
   "metadata": {
    "ExecuteTime": {
     "end_time": "2025-07-24T17:06:58.359009Z",
     "start_time": "2025-07-24T17:06:58.189167Z"
    }
   },
   "cell_type": "code",
   "source": [
    "visualize( need_review_prod.shape[0], condident_prod.shape[0], exact_prod.shape[0],\n",
    "          partial_prod.shape[0], filtered_count)\n"
   ],
   "id": "7762adeee501a613",
   "outputs": [
    {
     "data": {
      "text/plain": [
       "<Figure size 1200x600 with 1 Axes>"
      ],
      "image/png": "[encoded data removed]"
     },
     "metadata": {},
     "output_type": "display_data"
    }
   ],
   "execution_count": 33
  },
  {
   "metadata": {
    "ExecuteTime": {
     "end_time": "2025-07-24T17:06:58.375585Z",
     "start_time": "2025-07-24T17:06:58.373340Z"
    }
   },
   "cell_type": "code",
   "source": "",
   "id": "616dcd9b383df146",
   "outputs": [],
   "execution_count": null
  },
  {
   "metadata": {
    "ExecuteTime": {
     "end_time": "2025-07-24T17:06:58.463604Z",
     "start_time": "2025-07-24T17:06:58.417632Z"
    }
   },
   "cell_type": "code",
   "source": [
    "# Calculamos cuántos productos se repiten en 2, 3 o 4 empresas.\n",
    "output_needs_review = count_unique_subempresas_per_product(needs_review)\n",
    "output_confident = count_unique_subempresas_per_product(confident)\n",
    "output_exact = count_unique_subempresas_per_product(exact_matches)\n",
    "output_partial = count_unique_subempresas_per_product(partial_matches)\n",
    "needs_review_stats = count_product_distribution_dict_only(output_needs_review)\n",
    "confident_stats = count_product_distribution_dict_only(output_confident)\n",
    "exact_matches_stats = count_product_distribution_dict_only(output_exact)\n",
    "partial_matches_stats = count_product_distribution_dict_only(output_partial)\n"
   ],
   "id": "66931d46b50042be",
   "outputs": [],
   "execution_count": 34
  },
  {
   "metadata": {
    "ExecuteTime": {
     "end_time": "2025-07-24T17:06:58.514697Z",
     "start_time": "2025-07-24T17:06:58.467364Z"
    }
   },
   "cell_type": "code",
   "source": [
    "df = pd.DataFrame([{'Product': name, 'Number of companies where the product is present': count} for (name, _), count in\n",
    "                   output_needs_review.items()])\n",
    "path = \"/home/viktoria/Downloads/prisa/needs_review_count.xlsx\"\n",
    "df.to_excel(path, index=False)\n",
    "\n",
    "df = pd.DataFrame([{'Product': name, 'Number of companies where the product is present': count} for (name, _), count in\n",
    "                   output_confident.items()])\n",
    "path = \"/home/viktoria/Downloads/prisa/confident_count.xlsx\"\n",
    "df.to_excel(path, index=False)\n",
    "\n",
    "df = pd.DataFrame([{'Product': name, 'Number of companies where the product is present': count} for (name, _), count in\n",
    "                   output_exact.items()])\n",
    "path = \"/home/viktoria/Downloads/prisa/exact_count.xlsx\"\n",
    "df.to_excel(path, index=False)\n",
    "\n",
    "df = pd.DataFrame([{'Product': name, 'Number of companies where the product is present': count} for (name, _), count in\n",
    "                   output_partial.items()])\n",
    "path = \"/home/viktoria/Downloads/prisa/partial_count.xlsx\"\n",
    "df.to_excel(path, index=False)\n"
   ],
   "id": "9d53a632684111b3",
   "outputs": [],
   "execution_count": 35
  },
  {
   "metadata": {
    "ExecuteTime": {
     "end_time": "2025-07-24T17:06:58.519163Z",
     "start_time": "2025-07-24T17:06:58.517623Z"
    }
   },
   "cell_type": "code",
   "source": "",
   "id": "51c1b559fb02b59b",
   "outputs": [],
   "execution_count": null
  },
  {
   "metadata": {
    "ExecuteTime": {
     "end_time": "2025-07-24T17:06:58.674137Z",
     "start_time": "2025-07-24T17:06:58.569808Z"
    }
   },
   "cell_type": "code",
   "source": [
    "# Nombres distintos (productos iguales) con SKUs distintos (los casos que necesitan la revisión)\n",
    "# Si por ejemplo hay producto que tiene 2 parecidos por nombres en 2 otras esmpresas todos sus 3 variaciones se cuentan como solo uno producto\n",
    "\n",
    "graficar_distribucion_productos(needs_review_stats, \"green\")"
   ],
   "id": "6e2eb36d64af89d2",
   "outputs": [
    {
     "data": {
      "text/plain": [
       "<Figure size 800x600 with 1 Axes>"
      ],
      "image/png": "[encoded data removed]"
     },
     "metadata": {},
     "output_type": "display_data"
    }
   ],
   "execution_count": 36
  },
  {
   "metadata": {
    "ExecuteTime": {
     "end_time": "2025-07-24T17:06:58.760723Z",
     "start_time": "2025-07-24T17:06:58.682724Z"
    }
   },
   "cell_type": "code",
   "source": [
    "#Nombres distintos (productos iguales) con SKUs distintos (los casos seguros)\n",
    "graficar_distribucion_productos(confident_stats, \"yellow\")\n"
   ],
   "id": "db6221b323bfaf44",
   "outputs": [
    {
     "data": {
      "text/plain": [
       "<Figure size 800x600 with 1 Axes>"
      ],
      "image/png": "[encoded data removed]"
     },
     "metadata": {},
     "output_type": "display_data"
    }
   ],
   "execution_count": 37
  },
  {
   "metadata": {
    "ExecuteTime": {
     "end_time": "2025-07-24T17:06:58.847012Z",
     "start_time": "2025-07-24T17:06:58.766901Z"
    }
   },
   "cell_type": "code",
   "source": [
    "# Nombres y SKUs exactamente iguales\n",
    "graficar_distribucion_productos(exact_matches_stats, \"blue\")"
   ],
   "id": "85a1a403c3b885e6",
   "outputs": [
    {
     "data": {
      "text/plain": [
       "<Figure size 800x600 with 1 Axes>"
      ],
      "image/png": "[encoded data removed]"
     },
     "metadata": {},
     "output_type": "display_data"
    }
   ],
   "execution_count": 38
  },
  {
   "metadata": {
    "ExecuteTime": {
     "end_time": "2025-07-24T17:06:58.937083Z",
     "start_time": "2025-07-24T17:06:58.853927Z"
    }
   },
   "cell_type": "code",
   "source": [
    "# Nombres similares con SKUs iguales\n",
    "graficar_distribucion_productos(partial_matches_stats, \"purple\")"
   ],
   "id": "b20f7a6914189895",
   "outputs": [
    {
     "data": {
      "text/plain": [
       "<Figure size 800x600 with 1 Axes>"
      ],
      "image/png": "[encoded data removed]"
     },
     "metadata": {},
     "output_type": "display_data"
    }
   ],
   "execution_count": 39
  },
  {
   "metadata": {
    "ExecuteTime": {
     "end_time": "2025-07-24T17:06:58.946216Z",
     "start_time": "2025-07-24T17:06:58.944471Z"
    }
   },
   "cell_type": "code",
   "source": "",
   "id": "8765145666956214",
   "outputs": [],
   "execution_count": null
  },
  {
   "metadata": {
    "ExecuteTime": {
     "end_time": "2025-07-24T17:06:59.017960Z",
     "start_time": "2025-07-24T17:06:58.992065Z"
    }
   },
   "cell_type": "code",
   "source": [
    "unique_sheets = all_different_sku['Sheet'].unique()\n",
    "unique_sheets = [sheet for sheet in unique_sheets if sheet != \"Prilogic Arbol_24_25\"]\n",
    "\n",
    "all_different_sku_count = {}\n",
    "\n",
    "for sheet in unique_sheets:\n",
    "    sub_df = all_different_sku[all_different_sku['Sheet'] == sheet]\n",
    "    all_different_sku_count[sheet] = sub_df.shape[0]"
   ],
   "id": "bbefcad3083b49aa",
   "outputs": [],
   "execution_count": 40
  },
  {
   "metadata": {
    "ExecuteTime": {
     "end_time": "2025-07-24T17:06:59.056717Z",
     "start_time": "2025-07-24T17:06:59.041829Z"
    }
   },
   "cell_type": "code",
   "source": [
    "unique_sheets = filtered['Subempresa'].unique()\n",
    "unique_sheets = [sheet for sheet in unique_sheets if sheet != \"Prilogic Arbol_24_25\"]\n",
    "\n",
    "filtered_counts = {}\n",
    "\n",
    "for sheet in unique_sheets:\n",
    "    sub_df = filtered[filtered['Subempresa'] == sheet]\n",
    "    filtered_counts[sheet] = sub_df.shape[0]\n"
   ],
   "id": "7a8690b958ab499c",
   "outputs": [],
   "execution_count": 41
  },
  {
   "metadata": {
    "ExecuteTime": {
     "end_time": "2025-07-24T17:06:59.109954Z",
     "start_time": "2025-07-24T17:06:59.092796Z"
    }
   },
   "cell_type": "code",
   "source": "filtered_counts",
   "id": "2435ea8802ebb6d",
   "outputs": [
    {
     "data": {
      "text/plain": [
       "{'PRISA Arbol_24_25': 452,\n",
       " 'Surtiventas Arbol_24_25': 392,\n",
       " 'Prinorte Arbol_24_25': 72,\n",
       " 'Prisur Arbol_24_25': 224}"
      ]
     },
     "execution_count": 42,
     "metadata": {},
     "output_type": "execute_result"
    }
   ],
   "execution_count": 42
  },
  {
   "metadata": {
    "ExecuteTime": {
     "end_time": "2025-07-24T17:06:59.179375Z",
     "start_time": "2025-07-24T17:06:59.155809Z"
    }
   },
   "cell_type": "code",
   "source": "all_different_sku_count",
   "id": "b634d92f2f5f679c",
   "outputs": [
    {
     "data": {
      "text/plain": [
       "{'Surtiventas Arbol_24_25': 94,\n",
       " 'Prinorte Arbol_24_25': 30,\n",
       " 'PRISA Arbol_24_25': 58,\n",
       " 'Prisur Arbol_24_25': 106}"
      ]
     },
     "execution_count": 43,
     "metadata": {},
     "output_type": "execute_result"
    }
   ],
   "execution_count": 43
  },
  {
   "metadata": {
    "ExecuteTime": {
     "end_time": "2025-07-24T17:06:59.220116Z",
     "start_time": "2025-07-24T17:06:59.209242Z"
    }
   },
   "cell_type": "code",
   "source": "duplicates_counts",
   "id": "4bb9e9737cbbfda2",
   "outputs": [
    {
     "data": {
      "text/plain": [
       "{}"
      ]
     },
     "execution_count": 44,
     "metadata": {},
     "output_type": "execute_result"
    }
   ],
   "execution_count": 44
  },
  {
   "metadata": {
    "ExecuteTime": {
     "end_time": "2025-07-24T17:06:59.271771Z",
     "start_time": "2025-07-24T17:06:59.259121Z"
    }
   },
   "cell_type": "code",
   "source": "exact_matches_counts",
   "id": "8089962184f69986",
   "outputs": [
    {
     "data": {
      "text/plain": [
       "{'PRISA Arbol_24_25': 41,\n",
       " 'Prinorte Arbol_24_25': 79,\n",
       " 'Prisur Arbol_24_25': 198,\n",
       " 'Surtiventas Arbol_24_25': 168}"
      ]
     },
     "execution_count": 45,
     "metadata": {},
     "output_type": "execute_result"
    }
   ],
   "execution_count": 45
  },
  {
   "metadata": {
    "ExecuteTime": {
     "end_time": "2025-07-24T17:06:59.319002Z",
     "start_time": "2025-07-24T17:06:59.308163Z"
    }
   },
   "cell_type": "code",
   "source": "partial_matches_counts",
   "id": "ff34873afda5eeb7",
   "outputs": [
    {
     "data": {
      "text/plain": [
       "{'PRISA Arbol_24_25': 53,\n",
       " 'Prinorte Arbol_24_25': 44,\n",
       " 'Prisur Arbol_24_25': 134,\n",
       " 'Surtiventas Arbol_24_25': 138}"
      ]
     },
     "execution_count": 46,
     "metadata": {},
     "output_type": "execute_result"
    }
   ],
   "execution_count": 46
  },
  {
   "metadata": {
    "ExecuteTime": {
     "end_time": "2025-07-24T17:06:59.366967Z",
     "start_time": "2025-07-24T17:06:59.356139Z"
    }
   },
   "cell_type": "code",
   "source": [
    "dictionaries = [exact_matches_counts, partial_matches_counts, duplicates_counts, all_different_sku_count,\n",
    "                filtered_counts]\n",
    "results = dict()\n",
    "for dct in dictionaries:\n",
    "    for key in dct.keys():\n",
    "        if not key in results.keys():\n",
    "            results[key] = dct[key]\n",
    "        else:\n",
    "            results[key] += dct[key]\n"
   ],
   "id": "f87df6a11aca429c",
   "outputs": [],
   "execution_count": 47
  },
  {
   "metadata": {
    "ExecuteTime": {
     "end_time": "2025-07-24T17:06:59.415301Z",
     "start_time": "2025-07-24T17:06:59.404670Z"
    }
   },
   "cell_type": "code",
   "source": "results",
   "id": "46bcf847e1573f93",
   "outputs": [
    {
     "data": {
      "text/plain": [
       "{'PRISA Arbol_24_25': 604,\n",
       " 'Prinorte Arbol_24_25': 225,\n",
       " 'Prisur Arbol_24_25': 662,\n",
       " 'Surtiventas Arbol_24_25': 792}"
      ]
     },
     "execution_count": 48,
     "metadata": {},
     "output_type": "execute_result"
    }
   ],
   "execution_count": 48
  },
  {
   "metadata": {
    "ExecuteTime": {
     "end_time": "2025-07-24T17:06:59.467717Z",
     "start_time": "2025-07-24T17:06:59.453514Z"
    }
   },
   "cell_type": "code",
   "source": "total_count_products",
   "id": "8a83fc6cdeaed364",
   "outputs": [
    {
     "data": {
      "text/plain": [
       "                     Sheet  Product Count\n",
       "0        PRISA Arbol_24_25            587\n",
       "1     Prilogic Arbol_24_25            265\n",
       "2     Prinorte Arbol_24_25            183\n",
       "3       Prisur Arbol_24_25            602\n",
       "4  Surtiventas Arbol_24_25            744"
      ],
      "text/html": [
       "<div>\n",
       "<style scoped>\n",
       "    .dataframe tbody tr th:only-of-type {\n",
       "        vertical-align: middle;\n",
       "    }\n",
       "\n",
       "    .dataframe tbody tr th {\n",
       "        vertical-align: top;\n",
       "    }\n",
       "\n",
       "    .dataframe thead th {\n",
       "        text-align: right;\n",
       "    }\n",
       "</style>\n",
       "<table border=\"1\" class=\"dataframe\">\n",
       "  <thead>\n",
       "    <tr style=\"text-align: right;\">\n",
       "      <th></th>\n",
       "      <th>Sheet</th>\n",
       "      <th>Product Count</th>\n",
       "    </tr>\n",
       "  </thead>\n",
       "  <tbody>\n",
       "    <tr>\n",
       "      <th>0</th>\n",
       "      <td>PRISA Arbol_24_25</td>\n",
       "      <td>587</td>\n",
       "    </tr>\n",
       "    <tr>\n",
       "      <th>1</th>\n",
       "      <td>Prilogic Arbol_24_25</td>\n",
       "      <td>265</td>\n",
       "    </tr>\n",
       "    <tr>\n",
       "      <th>2</th>\n",
       "      <td>Prinorte Arbol_24_25</td>\n",
       "      <td>183</td>\n",
       "    </tr>\n",
       "    <tr>\n",
       "      <th>3</th>\n",
       "      <td>Prisur Arbol_24_25</td>\n",
       "      <td>602</td>\n",
       "    </tr>\n",
       "    <tr>\n",
       "      <th>4</th>\n",
       "      <td>Surtiventas Arbol_24_25</td>\n",
       "      <td>744</td>\n",
       "    </tr>\n",
       "  </tbody>\n",
       "</table>\n",
       "</div>"
      ]
     },
     "execution_count": 49,
     "metadata": {},
     "output_type": "execute_result"
    }
   ],
   "execution_count": 49
  },
  {
   "metadata": {
    "ExecuteTime": {
     "end_time": "2025-07-24T17:06:59.505658Z",
     "start_time": "2025-07-24T17:06:59.503022Z"
    }
   },
   "cell_type": "code",
   "source": "",
   "id": "c08f04a55568d314",
   "outputs": [],
   "execution_count": null
  },
  {
   "metadata": {
    "ExecuteTime": {
     "end_time": "2025-07-24T17:06:59.565234Z",
     "start_time": "2025-07-24T17:06:59.549521Z"
    }
   },
   "cell_type": "code",
   "source": [
    "\n",
    "dictionaries = [\n",
    "    duplicates_counts,\n",
    "    exact_matches_counts,\n",
    "    partial_matches_counts,\n",
    "    all_different_sku_count,\n",
    "    filtered_counts,\n",
    "    results\n",
    "]\n",
    "\n",
    "column_names = [\n",
    "    \"Duplicates\",\n",
    "    \"Same SKU, same name\",\n",
    "    \"Same SKU, similar name\",\n",
    "    \"Same product, different SKU\",\n",
    "    \"Unique Products\",\n",
    "    \"Total\"\n",
    "]\n",
    "\n",
    "df = pd.DataFrame(dictionaries, index=column_names).T.fillna(0).astype(int)\n",
    "df.index.name = \"Company\"\n",
    "\n",
    "df\n",
    "# explicaciones para cada categoria\n",
    "# Need review + Confident"
   ],
   "id": "62ae177a85c8624a",
   "outputs": [
    {
     "data": {
      "text/plain": [
       "                         Duplicates  Same SKU, same name  \\\n",
       "Company                                                    \n",
       "PRISA Arbol_24_25                 0                   41   \n",
       "Prinorte Arbol_24_25              0                   79   \n",
       "Prisur Arbol_24_25                0                  198   \n",
       "Surtiventas Arbol_24_25           0                  168   \n",
       "\n",
       "                         Same SKU, similar name  Same product, different SKU  \\\n",
       "Company                                                                        \n",
       "PRISA Arbol_24_25                            53                           58   \n",
       "Prinorte Arbol_24_25                         44                           30   \n",
       "Prisur Arbol_24_25                          134                          106   \n",
       "Surtiventas Arbol_24_25                     138                           94   \n",
       "\n",
       "                         Unique Products  Total  \n",
       "Company                                          \n",
       "PRISA Arbol_24_25                    452    604  \n",
       "Prinorte Arbol_24_25                  72    225  \n",
       "Prisur Arbol_24_25                   224    662  \n",
       "Surtiventas Arbol_24_25              392    792  "
      ],
      "text/html": [
       "<div>\n",
       "<style scoped>\n",
       "    .dataframe tbody tr th:only-of-type {\n",
       "        vertical-align: middle;\n",
       "    }\n",
       "\n",
       "    .dataframe tbody tr th {\n",
       "        vertical-align: top;\n",
       "    }\n",
       "\n",
       "    .dataframe thead th {\n",
       "        text-align: right;\n",
       "    }\n",
       "</style>\n",
       "<table border=\"1\" class=\"dataframe\">\n",
       "  <thead>\n",
       "    <tr style=\"text-align: right;\">\n",
       "      <th></th>\n",
       "      <th>Duplicates</th>\n",
       "      <th>Same SKU, same name</th>\n",
       "      <th>Same SKU, similar name</th>\n",
       "      <th>Same product, different SKU</th>\n",
       "      <th>Unique Products</th>\n",
       "      <th>Total</th>\n",
       "    </tr>\n",
       "    <tr>\n",
       "      <th>Company</th>\n",
       "      <th></th>\n",
       "      <th></th>\n",
       "      <th></th>\n",
       "      <th></th>\n",
       "      <th></th>\n",
       "      <th></th>\n",
       "    </tr>\n",
       "  </thead>\n",
       "  <tbody>\n",
       "    <tr>\n",
       "      <th>PRISA Arbol_24_25</th>\n",
       "      <td>0</td>\n",
       "      <td>41</td>\n",
       "      <td>53</td>\n",
       "      <td>58</td>\n",
       "      <td>452</td>\n",
       "      <td>604</td>\n",
       "    </tr>\n",
       "    <tr>\n",
       "      <th>Prinorte Arbol_24_25</th>\n",
       "      <td>0</td>\n",
       "      <td>79</td>\n",
       "      <td>44</td>\n",
       "      <td>30</td>\n",
       "      <td>72</td>\n",
       "      <td>225</td>\n",
       "    </tr>\n",
       "    <tr>\n",
       "      <th>Prisur Arbol_24_25</th>\n",
       "      <td>0</td>\n",
       "      <td>198</td>\n",
       "      <td>134</td>\n",
       "      <td>106</td>\n",
       "      <td>224</td>\n",
       "      <td>662</td>\n",
       "    </tr>\n",
       "    <tr>\n",
       "      <th>Surtiventas Arbol_24_25</th>\n",
       "      <td>0</td>\n",
       "      <td>168</td>\n",
       "      <td>138</td>\n",
       "      <td>94</td>\n",
       "      <td>392</td>\n",
       "      <td>792</td>\n",
       "    </tr>\n",
       "  </tbody>\n",
       "</table>\n",
       "</div>"
      ]
     },
     "execution_count": 50,
     "metadata": {},
     "output_type": "execute_result"
    }
   ],
   "execution_count": 50
  },
  {
   "metadata": {
    "ExecuteTime": {
     "end_time": "2025-07-24T17:06:59.620415Z",
     "start_time": "2025-07-24T17:06:59.605231Z"
    }
   },
   "cell_type": "code",
   "source": "total_count_products",
   "id": "bbac655b883dcda3",
   "outputs": [
    {
     "data": {
      "text/plain": [
       "                     Sheet  Product Count\n",
       "0        PRISA Arbol_24_25            587\n",
       "1     Prilogic Arbol_24_25            265\n",
       "2     Prinorte Arbol_24_25            183\n",
       "3       Prisur Arbol_24_25            602\n",
       "4  Surtiventas Arbol_24_25            744"
      ],
      "text/html": [
       "<div>\n",
       "<style scoped>\n",
       "    .dataframe tbody tr th:only-of-type {\n",
       "        vertical-align: middle;\n",
       "    }\n",
       "\n",
       "    .dataframe tbody tr th {\n",
       "        vertical-align: top;\n",
       "    }\n",
       "\n",
       "    .dataframe thead th {\n",
       "        text-align: right;\n",
       "    }\n",
       "</style>\n",
       "<table border=\"1\" class=\"dataframe\">\n",
       "  <thead>\n",
       "    <tr style=\"text-align: right;\">\n",
       "      <th></th>\n",
       "      <th>Sheet</th>\n",
       "      <th>Product Count</th>\n",
       "    </tr>\n",
       "  </thead>\n",
       "  <tbody>\n",
       "    <tr>\n",
       "      <th>0</th>\n",
       "      <td>PRISA Arbol_24_25</td>\n",
       "      <td>587</td>\n",
       "    </tr>\n",
       "    <tr>\n",
       "      <th>1</th>\n",
       "      <td>Prilogic Arbol_24_25</td>\n",
       "      <td>265</td>\n",
       "    </tr>\n",
       "    <tr>\n",
       "      <th>2</th>\n",
       "      <td>Prinorte Arbol_24_25</td>\n",
       "      <td>183</td>\n",
       "    </tr>\n",
       "    <tr>\n",
       "      <th>3</th>\n",
       "      <td>Prisur Arbol_24_25</td>\n",
       "      <td>602</td>\n",
       "    </tr>\n",
       "    <tr>\n",
       "      <th>4</th>\n",
       "      <td>Surtiventas Arbol_24_25</td>\n",
       "      <td>744</td>\n",
       "    </tr>\n",
       "  </tbody>\n",
       "</table>\n",
       "</div>"
      ]
     },
     "execution_count": 51,
     "metadata": {},
     "output_type": "execute_result"
    }
   ],
   "execution_count": 51
  },
  {
   "metadata": {
    "ExecuteTime": {
     "end_time": "2025-07-24T17:06:59.704054Z",
     "start_time": "2025-07-24T17:06:59.663518Z"
    }
   },
   "cell_type": "code",
   "source": [
    "from openpyxl import load_workbook\n",
    "from openpyxl.styles import PatternFill\n",
    "from openpyxl.utils import get_column_letter\n",
    "\n",
    "df_reset = df.reset_index()\n",
    "\n",
    "excel_path = \"Products for each company.xlsx\"\n",
    "df_reset.to_excel(excel_path, index=False)\n",
    "\n",
    "\n",
    "column_colors = {\n",
    "    \"Company\": \"D3D3D3\",                # Light Gray\n",
    "    \"Total\": \"D3D3D3\",                  # Light Gray\n",
    "    \"Duplicates\": \"A52A2A\",            # Brown\n",
    "    \"Same SKU, same name\": \"87CEEB\",   # Blue\n",
    "    \"Same SKU, similar name\": \"9370DB\",# Purple\n",
    "    \"Same product, different SKU\": \"90EE90\", # Green\n",
    "    \"Unique Products\": \"FF7F7F\"        # Red\n",
    "}\n",
    "\n",
    "column_widths = {\n",
    "    \"Company\": 30,\n",
    "    \"Duplicates\": 15,\n",
    "    \"Same SKU, same name\": 22,\n",
    "    \"Same SKU, similar name\": 25,\n",
    "    \"Same product, different SKU\": 28,\n",
    "    \"Unique Products\": 18,\n",
    "    \"Total\": 10\n",
    "}\n",
    "\n",
    "wb = load_workbook(excel_path)\n",
    "ws = wb.active\n",
    "\n",
    "header = [cell.value for cell in ws[1]]\n",
    "\n",
    "for col_idx, col_name in enumerate(header, start=1):\n",
    "\n",
    "    color = column_colors.get(col_name)\n",
    "    if color:\n",
    "        fill = PatternFill(start_color=color, end_color=color, fill_type=\"solid\")\n",
    "        for row in range(2, ws.max_row + 1):\n",
    "            ws.cell(row=row, column=col_idx).fill = fill\n",
    "\n",
    "    width = column_widths.get(col_name, 15)\n",
    "    ws.column_dimensions[get_column_letter(col_idx)].width = width\n",
    "\n",
    "from openpyxl.styles import Font\n",
    "for cell in ws[1]:\n",
    "    cell.font = Font(bold=True)\n",
    "ws.freeze_panes = \"B2\"\n",
    "wb.save(excel_path)\n"
   ],
   "id": "cbdd4bd8941d9a3f",
   "outputs": [],
   "execution_count": 52
  },
  {
   "metadata": {
    "ExecuteTime": {
     "end_time": "2025-07-24T17:06:59.718172Z",
     "start_time": "2025-07-24T17:06:59.715758Z"
    }
   },
   "cell_type": "code",
   "source": "",
   "id": "73ee38e8add6138a",
   "outputs": [],
   "execution_count": null
  },
  {
   "metadata": {
    "ExecuteTime": {
     "end_time": "2025-07-24T17:06:59.782674Z",
     "start_time": "2025-07-24T17:06:59.763733Z"
    }
   },
   "cell_type": "code",
   "source": "needs_review.loc[needs_review[\"SKU 1\"] == 11484]",
   "id": "68205c3b17b17c5d",
   "outputs": [
    {
     "data": {
      "text/plain": [
       "     Marca                         Nombre SKU 1  SKU 1  \\\n",
       "25  LIPTON  TE DP X 100 BOL LIPTON YELLOW LABEL  11484   \n",
       "\n",
       "                    Sheet 1                            Nombre SKU 2  SKU 2  \\\n",
       "25  Surtiventas Arbol_24_25  TE LIPTON  YELLOW LABEL X 100 BOLSITAS  71075   \n",
       "\n",
       "               Sheet 2  Similarity Numbers 1 Numbers 2  \n",
       "25  Prisur Arbol_24_25          89   [100.0]   [100.0]  "
      ],
      "text/html": [
       "<div>\n",
       "<style scoped>\n",
       "    .dataframe tbody tr th:only-of-type {\n",
       "        vertical-align: middle;\n",
       "    }\n",
       "\n",
       "    .dataframe tbody tr th {\n",
       "        vertical-align: top;\n",
       "    }\n",
       "\n",
       "    .dataframe thead th {\n",
       "        text-align: right;\n",
       "    }\n",
       "</style>\n",
       "<table border=\"1\" class=\"dataframe\">\n",
       "  <thead>\n",
       "    <tr style=\"text-align: right;\">\n",
       "      <th></th>\n",
       "      <th>Marca</th>\n",
       "      <th>Nombre SKU 1</th>\n",
       "      <th>SKU 1</th>\n",
       "      <th>Sheet 1</th>\n",
       "      <th>Nombre SKU 2</th>\n",
       "      <th>SKU 2</th>\n",
       "      <th>Sheet 2</th>\n",
       "      <th>Similarity</th>\n",
       "      <th>Numbers 1</th>\n",
       "      <th>Numbers 2</th>\n",
       "    </tr>\n",
       "  </thead>\n",
       "  <tbody>\n",
       "    <tr>\n",
       "      <th>25</th>\n",
       "      <td>LIPTON</td>\n",
       "      <td>TE DP X 100 BOL LIPTON YELLOW LABEL</td>\n",
       "      <td>11484</td>\n",
       "      <td>Surtiventas Arbol_24_25</td>\n",
       "      <td>TE LIPTON  YELLOW LABEL X 100 BOLSITAS</td>\n",
       "      <td>71075</td>\n",
       "      <td>Prisur Arbol_24_25</td>\n",
       "      <td>89</td>\n",
       "      <td>[100.0]</td>\n",
       "      <td>[100.0]</td>\n",
       "    </tr>\n",
       "  </tbody>\n",
       "</table>\n",
       "</div>"
      ]
     },
     "execution_count": 53,
     "metadata": {},
     "output_type": "execute_result"
    }
   ],
   "execution_count": 53
  },
  {
   "metadata": {
    "ExecuteTime": {
     "end_time": "2025-07-24T17:06:59.839413Z",
     "start_time": "2025-07-24T17:06:59.820557Z"
    }
   },
   "cell_type": "code",
   "source": "confident.loc[confident[\"SKU 1\"] == 11484]",
   "id": "86515d3569592b9a",
   "outputs": [
    {
     "data": {
      "text/plain": [
       "     Marca                         Nombre SKU 1  SKU 1  \\\n",
       "47  LIPTON  TE DP X 100 BOL LIPTON YELLOW LABEL  11484   \n",
       "\n",
       "                    Sheet 1                     Nombre SKU 2  SKU 2  \\\n",
       "47  Surtiventas Arbol_24_25  TE LIPTON YELLOW LABEL X 100 BL  71075   \n",
       "\n",
       "                 Sheet 2  Similarity Numbers 1 Numbers 2  \n",
       "47  Prinorte Arbol_24_25          94   [100.0]   [100.0]  "
      ],
      "text/html": [
       "<div>\n",
       "<style scoped>\n",
       "    .dataframe tbody tr th:only-of-type {\n",
       "        vertical-align: middle;\n",
       "    }\n",
       "\n",
       "    .dataframe tbody tr th {\n",
       "        vertical-align: top;\n",
       "    }\n",
       "\n",
       "    .dataframe thead th {\n",
       "        text-align: right;\n",
       "    }\n",
       "</style>\n",
       "<table border=\"1\" class=\"dataframe\">\n",
       "  <thead>\n",
       "    <tr style=\"text-align: right;\">\n",
       "      <th></th>\n",
       "      <th>Marca</th>\n",
       "      <th>Nombre SKU 1</th>\n",
       "      <th>SKU 1</th>\n",
       "      <th>Sheet 1</th>\n",
       "      <th>Nombre SKU 2</th>\n",
       "      <th>SKU 2</th>\n",
       "      <th>Sheet 2</th>\n",
       "      <th>Similarity</th>\n",
       "      <th>Numbers 1</th>\n",
       "      <th>Numbers 2</th>\n",
       "    </tr>\n",
       "  </thead>\n",
       "  <tbody>\n",
       "    <tr>\n",
       "      <th>47</th>\n",
       "      <td>LIPTON</td>\n",
       "      <td>TE DP X 100 BOL LIPTON YELLOW LABEL</td>\n",
       "      <td>11484</td>\n",
       "      <td>Surtiventas Arbol_24_25</td>\n",
       "      <td>TE LIPTON YELLOW LABEL X 100 BL</td>\n",
       "      <td>71075</td>\n",
       "      <td>Prinorte Arbol_24_25</td>\n",
       "      <td>94</td>\n",
       "      <td>[100.0]</td>\n",
       "      <td>[100.0]</td>\n",
       "    </tr>\n",
       "  </tbody>\n",
       "</table>\n",
       "</div>"
      ]
     },
     "execution_count": 54,
     "metadata": {},
     "output_type": "execute_result"
    }
   ],
   "execution_count": 54
  },
  {
   "metadata": {
    "ExecuteTime": {
     "end_time": "2025-07-24T17:06:59.882766Z",
     "start_time": "2025-07-24T17:06:59.878958Z"
    }
   },
   "cell_type": "code",
   "source": "",
   "id": "40ce3e878d7b2f2c",
   "outputs": [],
   "execution_count": null
  },
  {
   "metadata": {
    "ExecuteTime": {
     "end_time": "2025-07-24T17:06:59.933646Z",
     "start_time": "2025-07-24T17:06:59.931084Z"
    }
   },
   "cell_type": "code",
   "source": "",
   "id": "6ea1d7b606304883",
   "outputs": [],
   "execution_count": null
  },
  {
   "metadata": {
    "ExecuteTime": {
     "end_time": "2025-07-24T17:06:59.983511Z",
     "start_time": "2025-07-24T17:06:59.980322Z"
    }
   },
   "cell_type": "code",
   "source": "",
   "id": "46faa370410445b7",
   "outputs": [],
   "execution_count": null
  },
  {
   "metadata": {
    "ExecuteTime": {
     "end_time": "2025-07-24T17:07:00.060364Z",
     "start_time": "2025-07-24T17:07:00.033794Z"
    }
   },
   "cell_type": "code",
   "source": "needs_review.loc[needs_review[\"SKU 1\"] == 41058]",
   "id": "9689375128e0ca30",
   "outputs": [
    {
     "data": {
      "text/plain": [
       "      Marca                  Nombre SKU 1  SKU 1                  Sheet 1  \\\n",
       "20  GOURMET  SALSA DE SOYA 165 CC GOURMET  41058  Surtiventas Arbol_24_25   \n",
       "\n",
       "                          Nombre SKU 2  SKU 2             Sheet 2  Similarity  \\\n",
       "20  SALSA DE SOYA SUAVE 165 CC GOURMET  92370  Prisur Arbol_24_25          90   \n",
       "\n",
       "   Numbers 1 Numbers 2  \n",
       "20   [165.0]   [165.0]  "
      ],
      "text/html": [
       "<div>\n",
       "<style scoped>\n",
       "    .dataframe tbody tr th:only-of-type {\n",
       "        vertical-align: middle;\n",
       "    }\n",
       "\n",
       "    .dataframe tbody tr th {\n",
       "        vertical-align: top;\n",
       "    }\n",
       "\n",
       "    .dataframe thead th {\n",
       "        text-align: right;\n",
       "    }\n",
       "</style>\n",
       "<table border=\"1\" class=\"dataframe\">\n",
       "  <thead>\n",
       "    <tr style=\"text-align: right;\">\n",
       "      <th></th>\n",
       "      <th>Marca</th>\n",
       "      <th>Nombre SKU 1</th>\n",
       "      <th>SKU 1</th>\n",
       "      <th>Sheet 1</th>\n",
       "      <th>Nombre SKU 2</th>\n",
       "      <th>SKU 2</th>\n",
       "      <th>Sheet 2</th>\n",
       "      <th>Similarity</th>\n",
       "      <th>Numbers 1</th>\n",
       "      <th>Numbers 2</th>\n",
       "    </tr>\n",
       "  </thead>\n",
       "  <tbody>\n",
       "    <tr>\n",
       "      <th>20</th>\n",
       "      <td>GOURMET</td>\n",
       "      <td>SALSA DE SOYA 165 CC GOURMET</td>\n",
       "      <td>41058</td>\n",
       "      <td>Surtiventas Arbol_24_25</td>\n",
       "      <td>SALSA DE SOYA SUAVE 165 CC GOURMET</td>\n",
       "      <td>92370</td>\n",
       "      <td>Prisur Arbol_24_25</td>\n",
       "      <td>90</td>\n",
       "      <td>[165.0]</td>\n",
       "      <td>[165.0]</td>\n",
       "    </tr>\n",
       "  </tbody>\n",
       "</table>\n",
       "</div>"
      ]
     },
     "execution_count": 55,
     "metadata": {},
     "output_type": "execute_result"
    }
   ],
   "execution_count": 55
  },
  {
   "metadata": {
    "ExecuteTime": {
     "end_time": "2025-07-24T17:07:00.129481Z",
     "start_time": "2025-07-24T17:07:00.113624Z"
    }
   },
   "cell_type": "code",
   "source": "exact_matches.loc[exact_matches[\"SKU 1\"] == 41058]",
   "id": "a825e5343abb30b6",
   "outputs": [
    {
     "data": {
      "text/plain": [
       "       Marca                  Nombre SKU 1  SKU 1                  Sheet 1  \\\n",
       "213  GOURMET  SALSA DE SOYA 165 CC GOURMET  41058  Surtiventas Arbol_24_25   \n",
       "\n",
       "                     Nombre SKU 2  SKU 2             Sheet 2  Similarity  \n",
       "213  SALSA DE SOYA 165 CC GOURMET  41058  Prisur Arbol_24_25         100  "
      ],
      "text/html": [
       "<div>\n",
       "<style scoped>\n",
       "    .dataframe tbody tr th:only-of-type {\n",
       "        vertical-align: middle;\n",
       "    }\n",
       "\n",
       "    .dataframe tbody tr th {\n",
       "        vertical-align: top;\n",
       "    }\n",
       "\n",
       "    .dataframe thead th {\n",
       "        text-align: right;\n",
       "    }\n",
       "</style>\n",
       "<table border=\"1\" class=\"dataframe\">\n",
       "  <thead>\n",
       "    <tr style=\"text-align: right;\">\n",
       "      <th></th>\n",
       "      <th>Marca</th>\n",
       "      <th>Nombre SKU 1</th>\n",
       "      <th>SKU 1</th>\n",
       "      <th>Sheet 1</th>\n",
       "      <th>Nombre SKU 2</th>\n",
       "      <th>SKU 2</th>\n",
       "      <th>Sheet 2</th>\n",
       "      <th>Similarity</th>\n",
       "    </tr>\n",
       "  </thead>\n",
       "  <tbody>\n",
       "    <tr>\n",
       "      <th>213</th>\n",
       "      <td>GOURMET</td>\n",
       "      <td>SALSA DE SOYA 165 CC GOURMET</td>\n",
       "      <td>41058</td>\n",
       "      <td>Surtiventas Arbol_24_25</td>\n",
       "      <td>SALSA DE SOYA 165 CC GOURMET</td>\n",
       "      <td>41058</td>\n",
       "      <td>Prisur Arbol_24_25</td>\n",
       "      <td>100</td>\n",
       "    </tr>\n",
       "  </tbody>\n",
       "</table>\n",
       "</div>"
      ]
     },
     "execution_count": 56,
     "metadata": {},
     "output_type": "execute_result"
    }
   ],
   "execution_count": 56
  },
  {
   "metadata": {
    "ExecuteTime": {
     "end_time": "2025-07-24T17:07:00.170481Z",
     "start_time": "2025-07-24T17:07:00.167590Z"
    }
   },
   "cell_type": "code",
   "source": "",
   "id": "e2007c83d0fd0332",
   "outputs": [],
   "execution_count": null
  },
  {
   "metadata": {
    "ExecuteTime": {
     "end_time": "2025-07-24T17:07:00.220597Z",
     "start_time": "2025-07-24T17:07:00.217283Z"
    }
   },
   "cell_type": "code",
   "source": "",
   "id": "dd2f7ab41d7138b9",
   "outputs": [],
   "execution_count": null
  },
  {
   "metadata": {
    "ExecuteTime": {
     "end_time": "2025-07-24T17:07:00.272044Z",
     "start_time": "2025-07-24T17:07:00.267175Z"
    }
   },
   "cell_type": "code",
   "source": "",
   "id": "d54f488198aec0bb",
   "outputs": [],
   "execution_count": null
  },
  {
   "metadata": {
    "ExecuteTime": {
     "end_time": "2025-07-24T17:07:00.691020Z",
     "start_time": "2025-07-24T17:07:00.322915Z"
    }
   },
   "cell_type": "code",
   "source": [
    "# The check if there are any duplicates with very similar names in companies other than Prilogic\n",
    "\n",
    "import pandas as pd\n",
    "from fuzzywuzzy import fuzz\n",
    "\n",
    "def find_internal_duplicates(df):\n",
    "    \"\"\"\n",
    "    Finds products from the same subempresa with the same SKU and Nombre SKU.\n",
    "    \"\"\"\n",
    "    duplicates = (\n",
    "        df.groupby(['Sheet', 'SKU',])\n",
    "        .filter(lambda x: len(x) > 1)\n",
    "        .sort_values(['Sheet', 'SKU'])\n",
    "    )\n",
    "    return duplicates.reset_index(drop=True)\n",
    "\n",
    "duplicates = find_internal_duplicates(df_all)\n",
    "\n",
    "\n",
    "df_filtered = duplicates[duplicates[\"Sheet\"] != \"Prilogic Arbol_24_25\"]\n",
    "print(f\"Filtered rows: {df_filtered.shape}\")\n",
    "\n",
    "matches = []\n",
    "threshold = 92\n",
    "\n",
    "for sheet_name, group in df_filtered.groupby(\"Sheet\"):\n",
    "    group = group.reset_index(drop=True)\n",
    "\n",
    "    for i in range(len(group)):\n",
    "        row1 = group.iloc[i]\n",
    "        name1 = row1[\"Nombre SKU\"]\n",
    "        sku1 = row1[\"SKU\"]\n",
    "\n",
    "        for j in range(i + 1, len(group)):\n",
    "            row2 = group.iloc[j]\n",
    "            name2 = row2[\"Nombre SKU\"]\n",
    "            sku2 = row2[\"SKU\"]\n",
    "            if sku1!=sku2:\n",
    "                continue\n",
    "\n",
    "            score = fuzz.ratio(name1, name2)\n",
    "            if score >= threshold:\n",
    "                matches.append({\n",
    "                    \"Sheet\": sheet_name,\n",
    "                    \"SKU 1\": sku1,\n",
    "                    \"Name 1\": name1,\n",
    "                    \"SKU 2\": sku2,\n",
    "                    \"Name 2\": name2,\n",
    "                    \"Similarity\": score\n",
    "                })\n",
    "\n",
    "similar_df = pd.DataFrame(matches)\n",
    "similar_df.sort_values(by=\"Similarity\", ascending=False).head(15)\n"
   ],
   "id": "12e82b6b07d01bf2",
   "outputs": [
    {
     "name": "stdout",
     "output_type": "stream",
     "text": [
      "Filtered rows: (359, 4)\n"
     ]
    },
    {
     "data": {
      "text/plain": [
       "                      Sheet  SKU 1  \\\n",
       "22       Prisur Arbol_24_25  75555   \n",
       "0         PRISA Arbol_24_25  11737   \n",
       "1         PRISA Arbol_24_25  11737   \n",
       "17       Prisur Arbol_24_25  71131   \n",
       "18       Prisur Arbol_24_25  71132   \n",
       "19       Prisur Arbol_24_25  72472   \n",
       "33  Surtiventas Arbol_24_25  72472   \n",
       "31  Surtiventas Arbol_24_25  57024   \n",
       "14     Prinorte Arbol_24_25  53013   \n",
       "3         PRISA Arbol_24_25  11738   \n",
       "9         PRISA Arbol_24_25  70487   \n",
       "6         PRISA Arbol_24_25  44103   \n",
       "5         PRISA Arbol_24_25  16824   \n",
       "13     Prinorte Arbol_24_25  53013   \n",
       "8         PRISA Arbol_24_25  70487   \n",
       "\n",
       "                                                Name 1  SKU 2  \\\n",
       "22            PASTA FIDEO 400 GR LUCCHETTI TALLARIN 77  75555   \n",
       "0          BARRA PROTEINA WILD PROTEIN 45 GR CHOCOLATE  11737   \n",
       "1          BARRA PROTEINA WILD PROTEIN 45 GR CHOCOLATE  11737   \n",
       "17            COMIDA P.UNO SOPA CAMARON 65 GR TRAVERSO  71131   \n",
       "18             COMIDA P.UNO SOPA CAMARON 65 GR COLISEO  71132   \n",
       "19              SOPA INST. 65 GR SABOR CAMARON VITELLI  72472   \n",
       "33              SOPA INST. 65 GR SABOR CAMARON VITELLI  72472   \n",
       "31                      FIDEO 400 GR CORBATA LUCCHETTI  57024   \n",
       "14                  GLOBOS N. 9 LISO X 25 UN ROJO KIKO  53013   \n",
       "3   BARRA PROTEINA WILD PROTEIN 30 GR MUNCHY CHOC.CHIP  11738   \n",
       "9   JUGO NATURAL  200 CC WATTS MANZANA TETRA DP/6 UNDS  70487   \n",
       "6           JUGO NATURAL  190 ML VIVO MANZANA DP/3 UND  44103   \n",
       "5    BEBIDA DESECH. 1500CC GINGER ALE LIGHT CANADA DRY  16824   \n",
       "13                 GLOBOS N. 9 LISO X 25 UN NEGRO KIKO  53013   \n",
       "8   JUGO NATURAL  200 CC WATTS DURAZNO TETRA DP/6 UNDS  70487   \n",
       "\n",
       "                                                Name 2  Similarity  \n",
       "22            PASTA FIDEO 400 GR LUCCHETTI TALLARIN 78          98  \n",
       "0     BARRA PROTEINA WILD PROTEIN 45 GR CHOCOLATE COCO          95  \n",
       "1     BARRA PROTEINA WILD PROTEIN 45 GR CHOCOLATE MANI          95  \n",
       "17              COMIDA P.UNO SOPA CARNE 65 GR TRAVERSO          95  \n",
       "18               COMIDA P.UNO SOPA CARNE 65 GR COLISEO          95  \n",
       "19                SOPA INST. 65 GR SABOR CARNE VITELLI          95  \n",
       "33                SOPA INST. 65 GR SABOR CARNE VITELLI          95  \n",
       "31                   FIDEO 400 GR CORBATITAS LUCCHETTI          95  \n",
       "14                GLOBOS N. 9 LISO X 25 UN ROSADO KIKO          94  \n",
       "3   BARRA PROTEINA WILD PROTEIN 30 GR MUNCHY CHOC.MANI          94  \n",
       "9   JUGO NATURAL  200 CC WATTS NARANJA TETRA DP/6 UNDS          94  \n",
       "6           JUGO NATURAL  190 ML VIVO NARANJA DP/3 UND          93  \n",
       "5          BEBIDA DESECH. 1500CC GINGER ALE CANADA DRY          93  \n",
       "13                  GLOBOS N. 9 LISO X 25 UN ROJO KIKO          93  \n",
       "8   JUGO NATURAL  200 CC WATTS NARANJA TETRA DP/6 UNDS          92  "
      ],
      "text/html": [
       "<div>\n",
       "<style scoped>\n",
       "    .dataframe tbody tr th:only-of-type {\n",
       "        vertical-align: middle;\n",
       "    }\n",
       "\n",
       "    .dataframe tbody tr th {\n",
       "        vertical-align: top;\n",
       "    }\n",
       "\n",
       "    .dataframe thead th {\n",
       "        text-align: right;\n",
       "    }\n",
       "</style>\n",
       "<table border=\"1\" class=\"dataframe\">\n",
       "  <thead>\n",
       "    <tr style=\"text-align: right;\">\n",
       "      <th></th>\n",
       "      <th>Sheet</th>\n",
       "      <th>SKU 1</th>\n",
       "      <th>Name 1</th>\n",
       "      <th>SKU 2</th>\n",
       "      <th>Name 2</th>\n",
       "      <th>Similarity</th>\n",
       "    </tr>\n",
       "  </thead>\n",
       "  <tbody>\n",
       "    <tr>\n",
       "      <th>22</th>\n",
       "      <td>Prisur Arbol_24_25</td>\n",
       "      <td>75555</td>\n",
       "      <td>PASTA FIDEO 400 GR LUCCHETTI TALLARIN 77</td>\n",
       "      <td>75555</td>\n",
       "      <td>PASTA FIDEO 400 GR LUCCHETTI TALLARIN 78</td>\n",
       "      <td>98</td>\n",
       "    </tr>\n",
       "    <tr>\n",
       "      <th>0</th>\n",
       "      <td>PRISA Arbol_24_25</td>\n",
       "      <td>11737</td>\n",
       "      <td>BARRA PROTEINA WILD PROTEIN 45 GR CHOCOLATE</td>\n",
       "      <td>11737</td>\n",
       "      <td>BARRA PROTEINA WILD PROTEIN 45 GR CHOCOLATE COCO</td>\n",
       "      <td>95</td>\n",
       "    </tr>\n",
       "    <tr>\n",
       "      <th>1</th>\n",
       "      <td>PRISA Arbol_24_25</td>\n",
       "      <td>11737</td>\n",
       "      <td>BARRA PROTEINA WILD PROTEIN 45 GR CHOCOLATE</td>\n",
       "      <td>11737</td>\n",
       "      <td>BARRA PROTEINA WILD PROTEIN 45 GR CHOCOLATE MANI</td>\n",
       "      <td>95</td>\n",
       "    </tr>\n",
       "    <tr>\n",
       "      <th>17</th>\n",
       "      <td>Prisur Arbol_24_25</td>\n",
       "      <td>71131</td>\n",
       "      <td>COMIDA P.UNO SOPA CAMARON 65 GR TRAVERSO</td>\n",
       "      <td>71131</td>\n",
       "      <td>COMIDA P.UNO SOPA CARNE 65 GR TRAVERSO</td>\n",
       "      <td>95</td>\n",
       "    </tr>\n",
       "    <tr>\n",
       "      <th>18</th>\n",
       "      <td>Prisur Arbol_24_25</td>\n",
       "      <td>71132</td>\n",
       "      <td>COMIDA P.UNO SOPA CAMARON 65 GR COLISEO</td>\n",
       "      <td>71132</td>\n",
       "      <td>COMIDA P.UNO SOPA CARNE 65 GR COLISEO</td>\n",
       "      <td>95</td>\n",
       "    </tr>\n",
       "    <tr>\n",
       "      <th>19</th>\n",
       "      <td>Prisur Arbol_24_25</td>\n",
       "      <td>72472</td>\n",
       "      <td>SOPA INST. 65 GR SABOR CAMARON VITELLI</td>\n",
       "      <td>72472</td>\n",
       "      <td>SOPA INST. 65 GR SABOR CARNE VITELLI</td>\n",
       "      <td>95</td>\n",
       "    </tr>\n",
       "    <tr>\n",
       "      <th>33</th>\n",
       "      <td>Surtiventas Arbol_24_25</td>\n",
       "      <td>72472</td>\n",
       "      <td>SOPA INST. 65 GR SABOR CAMARON VITELLI</td>\n",
       "      <td>72472</td>\n",
       "      <td>SOPA INST. 65 GR SABOR CARNE VITELLI</td>\n",
       "      <td>95</td>\n",
       "    </tr>\n",
       "    <tr>\n",
       "      <th>31</th>\n",
       "      <td>Surtiventas Arbol_24_25</td>\n",
       "      <td>57024</td>\n",
       "      <td>FIDEO 400 GR CORBATA LUCCHETTI</td>\n",
       "      <td>57024</td>\n",
       "      <td>FIDEO 400 GR CORBATITAS LUCCHETTI</td>\n",
       "      <td>95</td>\n",
       "    </tr>\n",
       "    <tr>\n",
       "      <th>14</th>\n",
       "      <td>Prinorte Arbol_24_25</td>\n",
       "      <td>53013</td>\n",
       "      <td>GLOBOS N. 9 LISO X 25 UN ROJO KIKO</td>\n",
       "      <td>53013</td>\n",
       "      <td>GLOBOS N. 9 LISO X 25 UN ROSADO KIKO</td>\n",
       "      <td>94</td>\n",
       "    </tr>\n",
       "    <tr>\n",
       "      <th>3</th>\n",
       "      <td>PRISA Arbol_24_25</td>\n",
       "      <td>11738</td>\n",
       "      <td>BARRA PROTEINA WILD PROTEIN 30 GR MUNCHY CHOC.CHIP</td>\n",
       "      <td>11738</td>\n",
       "      <td>BARRA PROTEINA WILD PROTEIN 30 GR MUNCHY CHOC.MANI</td>\n",
       "      <td>94</td>\n",
       "    </tr>\n",
       "    <tr>\n",
       "      <th>9</th>\n",
       "      <td>PRISA Arbol_24_25</td>\n",
       "      <td>70487</td>\n",
       "      <td>JUGO NATURAL  200 CC WATTS MANZANA TETRA DP/6 UNDS</td>\n",
       "      <td>70487</td>\n",
       "      <td>JUGO NATURAL  200 CC WATTS NARANJA TETRA DP/6 UNDS</td>\n",
       "      <td>94</td>\n",
       "    </tr>\n",
       "    <tr>\n",
       "      <th>6</th>\n",
       "      <td>PRISA Arbol_24_25</td>\n",
       "      <td>44103</td>\n",
       "      <td>JUGO NATURAL  190 ML VIVO MANZANA DP/3 UND</td>\n",
       "      <td>44103</td>\n",
       "      <td>JUGO NATURAL  190 ML VIVO NARANJA DP/3 UND</td>\n",
       "      <td>93</td>\n",
       "    </tr>\n",
       "    <tr>\n",
       "      <th>5</th>\n",
       "      <td>PRISA Arbol_24_25</td>\n",
       "      <td>16824</td>\n",
       "      <td>BEBIDA DESECH. 1500CC GINGER ALE LIGHT CANADA DRY</td>\n",
       "      <td>16824</td>\n",
       "      <td>BEBIDA DESECH. 1500CC GINGER ALE CANADA DRY</td>\n",
       "      <td>93</td>\n",
       "    </tr>\n",
       "    <tr>\n",
       "      <th>13</th>\n",
       "      <td>Prinorte Arbol_24_25</td>\n",
       "      <td>53013</td>\n",
       "      <td>GLOBOS N. 9 LISO X 25 UN NEGRO KIKO</td>\n",
       "      <td>53013</td>\n",
       "      <td>GLOBOS N. 9 LISO X 25 UN ROJO KIKO</td>\n",
       "      <td>93</td>\n",
       "    </tr>\n",
       "    <tr>\n",
       "      <th>8</th>\n",
       "      <td>PRISA Arbol_24_25</td>\n",
       "      <td>70487</td>\n",
       "      <td>JUGO NATURAL  200 CC WATTS DURAZNO TETRA DP/6 UNDS</td>\n",
       "      <td>70487</td>\n",
       "      <td>JUGO NATURAL  200 CC WATTS NARANJA TETRA DP/6 UNDS</td>\n",
       "      <td>92</td>\n",
       "    </tr>\n",
       "  </tbody>\n",
       "</table>\n",
       "</div>"
      ]
     },
     "execution_count": 57,
     "metadata": {},
     "output_type": "execute_result"
    }
   ],
   "execution_count": 57
  },
  {
   "metadata": {
    "ExecuteTime": {
     "end_time": "2025-07-24T17:07:00.709259Z",
     "start_time": "2025-07-24T17:07:00.697949Z"
    }
   },
   "cell_type": "code",
   "source": "# SO there are no duplicates with very similar name as all these 3 cases are  different",
   "id": "2e2b4fb0a8d4f1e9",
   "outputs": [],
   "execution_count": 58
  },
  {
   "metadata": {
    "ExecuteTime": {
     "end_time": "2025-07-24T17:07:00.806225Z",
     "start_time": "2025-07-24T17:07:00.801113Z"
    }
   },
   "cell_type": "code",
   "source": "",
   "id": "3e70a4af4024d76f",
   "outputs": [],
   "execution_count": null
  },
  {
   "metadata": {
    "ExecuteTime": {
     "end_time": "2025-07-24T17:09:21.273234Z",
     "start_time": "2025-07-24T17:09:19.226691Z"
    }
   },
   "cell_type": "code",
   "source": "save_products_pairs_to_excel(exact_matches, partial_matches, confident, needs_review, filtered)",
   "id": "8bfbb7d00f6dfab8",
   "outputs": [
    {
     "name": "stdout",
     "output_type": "stream",
     "text": [
      "Excel file saved as '/home/viktoria/Downloads/pairs_of_products.xlsx'\n"
     ]
    }
   ],
   "execution_count": 68
  },
  {
   "metadata": {
    "ExecuteTime": {
     "end_time": "2025-07-24T17:05:01.426230013Z",
     "start_time": "2025-07-24T16:12:55.204399Z"
    }
   },
   "cell_type": "code",
   "source": "",
   "id": "1904ba38c56e374",
   "outputs": [],
   "execution_count": null
  },
  {
   "metadata": {
    "ExecuteTime": {
     "end_time": "2025-07-24T16:12:55.378232Z",
     "start_time": "2025-07-24T16:12:55.374104Z"
    }
   },
   "cell_type": "code",
   "source": "",
   "id": "193fffa7733d5a73",
   "outputs": [],
   "execution_count": null
  },
  {
   "metadata": {},
   "cell_type": "code",
   "outputs": [],
   "execution_count": null,
   "source": "",
   "id": "a56fa085bac0c660"
  }
 ],
 "metadata": {
  "kernelspec": {
   "display_name": "Python 3",
   "language": "python",
   "name": "python3"
  },
  "language_info": {
   "codemirror_mode": {
    "name": "ipython",
    "version": 2
   },
   "file_extension": ".py",
   "mimetype": "text/x-python",
   "name": "python",
   "nbconvert_exporter": "python",
   "pygments_lexer": "ipython2",
   "version": "2.7.6"
  }
 },
 "nbformat": 4,
 "nbformat_minor": 5
}
